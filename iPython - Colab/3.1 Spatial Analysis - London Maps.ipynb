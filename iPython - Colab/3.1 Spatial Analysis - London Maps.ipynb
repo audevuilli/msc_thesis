{
  "nbformat": 4,
  "nbformat_minor": 0,
  "metadata": {
    "colab": {
      "name": "Map London Ward",
      "version": "0.3.2",
      "provenance": [],
      "collapsed_sections": []
    },
    "kernelspec": {
      "name": "python3",
      "display_name": "Python 3"
    }
  },
  "cells": [
    {
      "cell_type": "code",
      "metadata": {
        "id": "gPNAEyHI34hz",
        "colab_type": "code",
        "outputId": "aee7234e-497b-4137-c148-18e43c7af96f",
        "colab": {
          "base_uri": "https://localhost:8080/",
          "height": 700
        }
      },
      "source": [
        "!pip install geopandas\n",
        "!pip install descartes\n",
        "!pip install mplleaflet\n",
        "!pip install seaborn"
      ],
      "execution_count": 0,
      "outputs": [
        {
          "output_type": "stream",
          "text": [
            "Requirement already satisfied: geopandas in /usr/local/lib/python3.6/dist-packages (0.5.1)\n",
            "Requirement already satisfied: shapely in /usr/local/lib/python3.6/dist-packages (from geopandas) (1.6.4.post2)\n",
            "Requirement already satisfied: pandas in /usr/local/lib/python3.6/dist-packages (from geopandas) (0.24.2)\n",
            "Requirement already satisfied: fiona in /usr/local/lib/python3.6/dist-packages (from geopandas) (1.8.6)\n",
            "Requirement already satisfied: pyproj in /usr/local/lib/python3.6/dist-packages (from geopandas) (2.2.2)\n",
            "Requirement already satisfied: python-dateutil>=2.5.0 in /usr/local/lib/python3.6/dist-packages (from pandas->geopandas) (2.5.3)\n",
            "Requirement already satisfied: pytz>=2011k in /usr/local/lib/python3.6/dist-packages (from pandas->geopandas) (2018.9)\n",
            "Requirement already satisfied: numpy>=1.12.0 in /usr/local/lib/python3.6/dist-packages (from pandas->geopandas) (1.16.4)\n",
            "Requirement already satisfied: attrs>=17 in /usr/local/lib/python3.6/dist-packages (from fiona->geopandas) (19.1.0)\n",
            "Requirement already satisfied: cligj>=0.5 in /usr/local/lib/python3.6/dist-packages (from fiona->geopandas) (0.5.0)\n",
            "Requirement already satisfied: click<8,>=4.0 in /usr/local/lib/python3.6/dist-packages (from fiona->geopandas) (7.0)\n",
            "Requirement already satisfied: munch in /usr/local/lib/python3.6/dist-packages (from fiona->geopandas) (2.3.2)\n",
            "Requirement already satisfied: six>=1.7 in /usr/local/lib/python3.6/dist-packages (from fiona->geopandas) (1.12.0)\n",
            "Requirement already satisfied: click-plugins>=1.0 in /usr/local/lib/python3.6/dist-packages (from fiona->geopandas) (1.1.1)\n",
            "Requirement already satisfied: descartes in /usr/local/lib/python3.6/dist-packages (1.1.0)\n",
            "Requirement already satisfied: matplotlib in /usr/local/lib/python3.6/dist-packages (from descartes) (3.0.3)\n",
            "Requirement already satisfied: kiwisolver>=1.0.1 in /usr/local/lib/python3.6/dist-packages (from matplotlib->descartes) (1.1.0)\n",
            "Requirement already satisfied: numpy>=1.10.0 in /usr/local/lib/python3.6/dist-packages (from matplotlib->descartes) (1.16.4)\n",
            "Requirement already satisfied: cycler>=0.10 in /usr/local/lib/python3.6/dist-packages (from matplotlib->descartes) (0.10.0)\n",
            "Requirement already satisfied: python-dateutil>=2.1 in /usr/local/lib/python3.6/dist-packages (from matplotlib->descartes) (2.5.3)\n",
            "Requirement already satisfied: pyparsing!=2.0.4,!=2.1.2,!=2.1.6,>=2.0.1 in /usr/local/lib/python3.6/dist-packages (from matplotlib->descartes) (2.4.2)\n",
            "Requirement already satisfied: setuptools in /usr/local/lib/python3.6/dist-packages (from kiwisolver>=1.0.1->matplotlib->descartes) (41.0.1)\n",
            "Requirement already satisfied: six in /usr/local/lib/python3.6/dist-packages (from cycler>=0.10->matplotlib->descartes) (1.12.0)\n",
            "Requirement already satisfied: mplleaflet in /usr/local/lib/python3.6/dist-packages (0.0.5)\n",
            "Requirement already satisfied: jinja2 in /usr/local/lib/python3.6/dist-packages (from mplleaflet) (2.10.1)\n",
            "Requirement already satisfied: six in /usr/local/lib/python3.6/dist-packages (from mplleaflet) (1.12.0)\n",
            "Requirement already satisfied: MarkupSafe>=0.23 in /usr/local/lib/python3.6/dist-packages (from jinja2->mplleaflet) (1.1.1)\n",
            "Requirement already satisfied: seaborn in /usr/local/lib/python3.6/dist-packages (0.9.0)\n",
            "Requirement already satisfied: scipy>=0.14.0 in /usr/local/lib/python3.6/dist-packages (from seaborn) (1.3.1)\n",
            "Requirement already satisfied: pandas>=0.15.2 in /usr/local/lib/python3.6/dist-packages (from seaborn) (0.24.2)\n",
            "Requirement already satisfied: numpy>=1.9.3 in /usr/local/lib/python3.6/dist-packages (from seaborn) (1.16.4)\n",
            "Requirement already satisfied: matplotlib>=1.4.3 in /usr/local/lib/python3.6/dist-packages (from seaborn) (3.0.3)\n",
            "Requirement already satisfied: python-dateutil>=2.5.0 in /usr/local/lib/python3.6/dist-packages (from pandas>=0.15.2->seaborn) (2.5.3)\n",
            "Requirement already satisfied: pytz>=2011k in /usr/local/lib/python3.6/dist-packages (from pandas>=0.15.2->seaborn) (2018.9)\n",
            "Requirement already satisfied: pyparsing!=2.0.4,!=2.1.2,!=2.1.6,>=2.0.1 in /usr/local/lib/python3.6/dist-packages (from matplotlib>=1.4.3->seaborn) (2.4.2)\n",
            "Requirement already satisfied: cycler>=0.10 in /usr/local/lib/python3.6/dist-packages (from matplotlib>=1.4.3->seaborn) (0.10.0)\n",
            "Requirement already satisfied: kiwisolver>=1.0.1 in /usr/local/lib/python3.6/dist-packages (from matplotlib>=1.4.3->seaborn) (1.1.0)\n",
            "Requirement already satisfied: six>=1.5 in /usr/local/lib/python3.6/dist-packages (from python-dateutil>=2.5.0->pandas>=0.15.2->seaborn) (1.12.0)\n",
            "Requirement already satisfied: setuptools in /usr/local/lib/python3.6/dist-packages (from kiwisolver>=1.0.1->matplotlib>=1.4.3->seaborn) (41.0.1)\n"
          ],
          "name": "stdout"
        }
      ]
    },
    {
      "cell_type": "code",
      "metadata": {
        "id": "Q1XQeIAAzLmV",
        "colab_type": "code",
        "colab": {}
      },
      "source": [
        "import numpy as np\n",
        "import pandas as pd\n",
        "import geopandas as gpd\n",
        "from functools import reduce \n",
        "\n",
        "import time\n",
        "\n",
        "import matplotlib as mp\n",
        "import matplotlib.pyplot as plt\n",
        "import mplleaflet\n",
        "import descartes\n",
        "import seaborn as sns\n",
        "pd.options.mode.chained_assignment = None\n",
        "\n",
        "import warnings\n",
        "warnings.filterwarnings('ignore')\n",
        "\n",
        "sns.set(style=\"whitegrid\")\n",
        "sns.set(font_scale=2)"
      ],
      "execution_count": 0,
      "outputs": []
    },
    {
      "cell_type": "code",
      "metadata": {
        "id": "2x4Iz0Fj4wOT",
        "colab_type": "code",
        "outputId": "3ba26b84-e345-409e-8bf8-702a046a0cd6",
        "colab": {
          "base_uri": "https://localhost:8080/",
          "height": 34
        }
      },
      "source": [
        "from google.colab import auth\n",
        "auth.authenticate_user()\n",
        "print('Authenticated')"
      ],
      "execution_count": 0,
      "outputs": [
        {
          "output_type": "stream",
          "text": [
            "Authenticated\n"
          ],
          "name": "stdout"
        }
      ]
    },
    {
      "cell_type": "code",
      "metadata": {
        "id": "rXDubVJY5P02",
        "colab_type": "code",
        "colab": {}
      },
      "source": [
        "from google.cloud import bigquery\n",
        "client = bigquery.Client('thesisprojects2019')"
      ],
      "execution_count": 0,
      "outputs": []
    },
    {
      "cell_type": "code",
      "metadata": {
        "id": "P1NTDXGU0MLu",
        "colab_type": "code",
        "colab": {}
      },
      "source": [
        "#import london statistic table from bigquery\n",
        "query = \"\"\" SELECT * FROM `thesisprojects2019.audeMS.step3_statistic_london_homelocation_spectatorswithhome` ORDER BY eventid \"\"\"\n",
        "data = client.query(query).to_dataframe()"
      ],
      "execution_count": 0,
      "outputs": []
    },
    {
      "cell_type": "code",
      "metadata": {
        "id": "OZSQI97A5qI3",
        "colab_type": "code",
        "outputId": "67594608-8913-436e-f7db-f7d35715070e",
        "colab": {
          "base_uri": "https://localhost:8080/",
          "height": 216
        }
      },
      "source": [
        "data.head(2)"
      ],
      "execution_count": 0,
      "outputs": [
        {
          "output_type": "execute_result",
          "data": {
            "text/html": [
              "<div>\n",
              "<style scoped>\n",
              "    .dataframe tbody tr th:only-of-type {\n",
              "        vertical-align: middle;\n",
              "    }\n",
              "\n",
              "    .dataframe tbody tr th {\n",
              "        vertical-align: top;\n",
              "    }\n",
              "\n",
              "    .dataframe thead th {\n",
              "        text-align: right;\n",
              "    }\n",
              "</style>\n",
              "<table border=\"1\" class=\"dataframe\">\n",
              "  <thead>\n",
              "    <tr style=\"text-align: right;\">\n",
              "      <th></th>\n",
              "      <th>venueid</th>\n",
              "      <th>eventid</th>\n",
              "      <th>event</th>\n",
              "      <th>ward_id</th>\n",
              "      <th>ward_name</th>\n",
              "      <th>count_spect_london</th>\n",
              "      <th>perc_spect_london</th>\n",
              "    </tr>\n",
              "  </thead>\n",
              "  <tbody>\n",
              "    <tr>\n",
              "      <th>0</th>\n",
              "      <td>1</td>\n",
              "      <td>1_2017-11-04</td>\n",
              "      <td>Barbarians New Zealand</td>\n",
              "      <td>E05000614</td>\n",
              "      <td>Fairfield</td>\n",
              "      <td>10</td>\n",
              "      <td>1.339</td>\n",
              "    </tr>\n",
              "    <tr>\n",
              "      <th>1</th>\n",
              "      <td>1</td>\n",
              "      <td>1_2017-11-04</td>\n",
              "      <td>Barbarians New Zealand</td>\n",
              "      <td>E05000527</td>\n",
              "      <td>St. Margarets and North Twickenham</td>\n",
              "      <td>9</td>\n",
              "      <td>1.205</td>\n",
              "    </tr>\n",
              "  </tbody>\n",
              "</table>\n",
              "</div>"
            ],
            "text/plain": [
              "   venueid       eventid  ... count_spect_london perc_spect_london\n",
              "0        1  1_2017-11-04  ...                 10             1.339\n",
              "1        1  1_2017-11-04  ...                  9             1.205\n",
              "\n",
              "[2 rows x 7 columns]"
            ]
          },
          "metadata": {
            "tags": []
          },
          "execution_count": 6
        }
      ]
    },
    {
      "cell_type": "code",
      "metadata": {
        "id": "bBhaFRwm6EkN",
        "colab_type": "code",
        "outputId": "59de52e6-8d66-4304-991f-cde5d6e732b9",
        "colab": {
          "base_uri": "https://localhost:8080/",
          "height": 54
        }
      },
      "source": [
        "from google.colab import drive\n",
        "drive.mount('/content/drive')"
      ],
      "execution_count": 0,
      "outputs": [
        {
          "output_type": "stream",
          "text": [
            "Drive already mounted at /content/drive; to attempt to forcibly remount, call drive.mount(\"/content/drive\", force_remount=True).\n"
          ],
          "name": "stdout"
        }
      ]
    },
    {
      "cell_type": "code",
      "metadata": {
        "id": "rMBqz--g8sSf",
        "colab_type": "code",
        "colab": {}
      },
      "source": [
        "#import the london shapefiles from GoogleDrive\n",
        "pathdrive = 'drive/My Drive/Colab Notebooks/Shapefiles/London/London_Ward_CityMerged.shp'\n",
        "geom_data = gpd.read_file(pathdrive)"
      ],
      "execution_count": 0,
      "outputs": []
    },
    {
      "cell_type": "code",
      "metadata": {
        "id": "Ai_HGudA84Qm",
        "colab_type": "code",
        "outputId": "22ac647d-c538-4544-9081-4d3bf3080264",
        "colab": {
          "base_uri": "https://localhost:8080/",
          "height": 199
        }
      },
      "source": [
        "geom_data.head(2)"
      ],
      "execution_count": 0,
      "outputs": [
        {
          "output_type": "execute_result",
          "data": {
            "text/html": [
              "<div>\n",
              "<style scoped>\n",
              "    .dataframe tbody tr th:only-of-type {\n",
              "        vertical-align: middle;\n",
              "    }\n",
              "\n",
              "    .dataframe tbody tr th {\n",
              "        vertical-align: top;\n",
              "    }\n",
              "\n",
              "    .dataframe thead th {\n",
              "        text-align: right;\n",
              "    }\n",
              "</style>\n",
              "<table border=\"1\" class=\"dataframe\">\n",
              "  <thead>\n",
              "    <tr style=\"text-align: right;\">\n",
              "      <th></th>\n",
              "      <th>NAME</th>\n",
              "      <th>GSS_CODE</th>\n",
              "      <th>DISTRICT</th>\n",
              "      <th>LAGSSCODE</th>\n",
              "      <th>HECTARES</th>\n",
              "      <th>NONLD_AREA</th>\n",
              "      <th>geometry</th>\n",
              "    </tr>\n",
              "  </thead>\n",
              "  <tbody>\n",
              "    <tr>\n",
              "      <th>0</th>\n",
              "      <td>Chessington South</td>\n",
              "      <td>E05000405</td>\n",
              "      <td>Kingston upon Thames</td>\n",
              "      <td>E09000021</td>\n",
              "      <td>755.173</td>\n",
              "      <td>0.0</td>\n",
              "      <td>POLYGON ((516401.5959642464 160201.8020401799,...</td>\n",
              "    </tr>\n",
              "    <tr>\n",
              "      <th>1</th>\n",
              "      <td>Tolworth and Hook Rise</td>\n",
              "      <td>E05000414</td>\n",
              "      <td>Kingston upon Thames</td>\n",
              "      <td>E09000021</td>\n",
              "      <td>259.464</td>\n",
              "      <td>0.0</td>\n",
              "      <td>POLYGON ((519552.9984840818 164295.60020387, 5...</td>\n",
              "    </tr>\n",
              "  </tbody>\n",
              "</table>\n",
              "</div>"
            ],
            "text/plain": [
              "                     NAME  ...                                           geometry\n",
              "0       Chessington South  ...  POLYGON ((516401.5959642464 160201.8020401799,...\n",
              "1  Tolworth and Hook Rise  ...  POLYGON ((519552.9984840818 164295.60020387, 5...\n",
              "\n",
              "[2 rows x 7 columns]"
            ]
          },
          "metadata": {
            "tags": []
          },
          "execution_count": 9
        }
      ]
    },
    {
      "cell_type": "code",
      "metadata": {
        "id": "noo2j2s79uv2",
        "colab_type": "code",
        "outputId": "ef418c47-81a1-42a4-b2a9-e20dfa65f60a",
        "colab": {
          "base_uri": "https://localhost:8080/",
          "height": 34
        }
      },
      "source": [
        "len(geom_data)"
      ],
      "execution_count": 0,
      "outputs": [
        {
          "output_type": "execute_result",
          "data": {
            "text/plain": [
              "633"
            ]
          },
          "metadata": {
            "tags": []
          },
          "execution_count": 10
        }
      ]
    },
    {
      "cell_type": "code",
      "metadata": {
        "id": "2SybpiEI9MPl",
        "colab_type": "code",
        "colab": {}
      },
      "source": [
        "# CRS for London Ward\n",
        "crs = {'init': 'epsg:4326'}\n",
        "lnd_ward = geom_data.to_crs({'init':'epsg:4326'})\n",
        "\n",
        "# rename the columns\n",
        "lnd_ward = lnd_ward.rename(columns={'NAME':'ward_name','GSS_CODE':'ward_id'})\n",
        "# Select only the columns of interest\n",
        "lnd_ward = lnd_ward[['ward_name','ward_id','geometry']]"
      ],
      "execution_count": 0,
      "outputs": []
    },
    {
      "cell_type": "code",
      "metadata": {
        "id": "jm2fVaOz9T57",
        "colab_type": "code",
        "outputId": "7117ef82-b41a-4882-f040-4541526b6d11",
        "colab": {
          "base_uri": "https://localhost:8080/",
          "height": 111
        }
      },
      "source": [
        "lnd_ward.head(2)"
      ],
      "execution_count": 0,
      "outputs": [
        {
          "output_type": "execute_result",
          "data": {
            "text/html": [
              "<div>\n",
              "<style scoped>\n",
              "    .dataframe tbody tr th:only-of-type {\n",
              "        vertical-align: middle;\n",
              "    }\n",
              "\n",
              "    .dataframe tbody tr th {\n",
              "        vertical-align: top;\n",
              "    }\n",
              "\n",
              "    .dataframe thead th {\n",
              "        text-align: right;\n",
              "    }\n",
              "</style>\n",
              "<table border=\"1\" class=\"dataframe\">\n",
              "  <thead>\n",
              "    <tr style=\"text-align: right;\">\n",
              "      <th></th>\n",
              "      <th>ward_name</th>\n",
              "      <th>ward_id</th>\n",
              "      <th>geometry</th>\n",
              "    </tr>\n",
              "  </thead>\n",
              "  <tbody>\n",
              "    <tr>\n",
              "      <th>0</th>\n",
              "      <td>Chessington South</td>\n",
              "      <td>E05000405</td>\n",
              "      <td>POLYGON ((-0.3306790785982648 51.3290110240824...</td>\n",
              "    </tr>\n",
              "    <tr>\n",
              "      <th>1</th>\n",
              "      <td>Tolworth and Hook Rise</td>\n",
              "      <td>E05000414</td>\n",
              "      <td>POLYGON ((-0.2840948624066646 51.3651516247340...</td>\n",
              "    </tr>\n",
              "  </tbody>\n",
              "</table>\n",
              "</div>"
            ],
            "text/plain": [
              "                ward_name  ...                                           geometry\n",
              "0       Chessington South  ...  POLYGON ((-0.3306790785982648 51.3290110240824...\n",
              "1  Tolworth and Hook Rise  ...  POLYGON ((-0.2840948624066646 51.3651516247340...\n",
              "\n",
              "[2 rows x 3 columns]"
            ]
          },
          "metadata": {
            "tags": []
          },
          "execution_count": 12
        }
      ]
    },
    {
      "cell_type": "code",
      "metadata": {
        "id": "r04ZBOsY-K7v",
        "colab_type": "code",
        "colab": {}
      },
      "source": [
        "lnd_ward.to_csv('drive/My Drive/Colab Notebooks/data/london_wards.csv')"
      ],
      "execution_count": 0,
      "outputs": []
    },
    {
      "cell_type": "code",
      "metadata": {
        "id": "zdh5K-KU9WG_",
        "colab_type": "code",
        "colab": {}
      },
      "source": [
        "# Join Districts SHP with data_homelocation_count\n",
        "jointable = pd.merge(data,lnd_ward,how='right', on=['ward_id'])\n",
        "jointable = jointable[['venueid','eventid','event','ward_id','ward_name_x','perc_spect_london','geometry']]\n",
        "jointable = jointable.sort_values('ward_id').reset_index(drop=True)\n",
        "jointable['perc_spect_ward'] = round(jointable['perc_spect_london'],3)"
      ],
      "execution_count": 0,
      "outputs": []
    },
    {
      "cell_type": "code",
      "metadata": {
        "id": "BBtylreU9kMl",
        "colab_type": "code",
        "outputId": "a4099939-1a4f-4e32-dc61-9fea60c537a8",
        "colab": {
          "base_uri": "https://localhost:8080/",
          "height": 199
        }
      },
      "source": [
        "jointable.head(2)"
      ],
      "execution_count": 0,
      "outputs": [
        {
          "output_type": "execute_result",
          "data": {
            "text/html": [
              "<div>\n",
              "<style scoped>\n",
              "    .dataframe tbody tr th:only-of-type {\n",
              "        vertical-align: middle;\n",
              "    }\n",
              "\n",
              "    .dataframe tbody tr th {\n",
              "        vertical-align: top;\n",
              "    }\n",
              "\n",
              "    .dataframe thead th {\n",
              "        text-align: right;\n",
              "    }\n",
              "</style>\n",
              "<table border=\"1\" class=\"dataframe\">\n",
              "  <thead>\n",
              "    <tr style=\"text-align: right;\">\n",
              "      <th></th>\n",
              "      <th>venueid</th>\n",
              "      <th>eventid</th>\n",
              "      <th>event</th>\n",
              "      <th>ward_id</th>\n",
              "      <th>ward_name_x</th>\n",
              "      <th>perc_spect_london</th>\n",
              "      <th>geometry</th>\n",
              "      <th>perc_spect_ward</th>\n",
              "    </tr>\n",
              "  </thead>\n",
              "  <tbody>\n",
              "    <tr>\n",
              "      <th>0</th>\n",
              "      <td>3.0</td>\n",
              "      <td>3_2017-12-13</td>\n",
              "      <td>West Ham Arsenal</td>\n",
              "      <td>E05000026</td>\n",
              "      <td>Abbey</td>\n",
              "      <td>0.248</td>\n",
              "      <td>POLYGON ((0.08547999441580269 51.5370421145770...</td>\n",
              "      <td>0.248</td>\n",
              "    </tr>\n",
              "    <tr>\n",
              "      <th>1</th>\n",
              "      <td>3.0</td>\n",
              "      <td>3_2017-11-04</td>\n",
              "      <td>West Ham Liverpool</td>\n",
              "      <td>E05000026</td>\n",
              "      <td>Abbey</td>\n",
              "      <td>0.137</td>\n",
              "      <td>POLYGON ((0.08547999441580269 51.5370421145770...</td>\n",
              "      <td>0.137</td>\n",
              "    </tr>\n",
              "  </tbody>\n",
              "</table>\n",
              "</div>"
            ],
            "text/plain": [
              "   venueid  ... perc_spect_ward\n",
              "0      3.0  ...           0.248\n",
              "1      3.0  ...           0.137\n",
              "\n",
              "[2 rows x 8 columns]"
            ]
          },
          "metadata": {
            "tags": []
          },
          "execution_count": 17
        }
      ]
    },
    {
      "cell_type": "code",
      "metadata": {
        "id": "-QAIjPiT9oxl",
        "colab_type": "code",
        "colab": {}
      },
      "source": [
        "# Get the list of all the events\n",
        "event_list = data.eventid.unique()"
      ],
      "execution_count": 0,
      "outputs": []
    },
    {
      "cell_type": "code",
      "metadata": {
        "id": "HfRNQAkg_Qtr",
        "colab_type": "code",
        "colab": {}
      },
      "source": [
        "#Download images into google drive\n",
        "from google.colab import files"
      ],
      "execution_count": 0,
      "outputs": []
    },
    {
      "cell_type": "code",
      "metadata": {
        "id": "zLI0y8Ms9r58",
        "colab_type": "code",
        "colab": {}
      },
      "source": [
        "#def GetDataFrame(datasource):\n",
        "  # Selection event\n",
        "for e in event_list:\n",
        "    # Mergedata \n",
        "    dataevent = data[data['eventid']==e]\n",
        "    datajoin = pd.merge(dataevent,lnd_ward,how='right',on=['ward_id'])\n",
        "    datajoin = datajoin[['venueid','eventid','event','ward_id','ward_name_x','perc_spect_london','geometry']]\n",
        "    \n",
        "    # select the event name\n",
        "    eventname = datajoin['event'][0]\n",
        "    \n",
        "    # change to gdp\n",
        "    gpd_df = gpd.GeoDataFrame(datajoin, geometry='geometry', crs={'init': 'epsg:27700'})\n",
        "      \n",
        "    # If NaN -> change it to 0!   \n",
        "    values = {'venueid': 0, 'eventid':0,'perc_spect_london':0}  \n",
        "    gpd_df = gpd_df.fillna(value=values)\n",
        "      \n",
        "    # Selection the variable to plot\n",
        "    var_map = gpd_df['perc_spect_london']\n",
        "      \n",
        "    # Set the range for the choropleth\n",
        "    vmin = gpd_df['perc_spect_london'].min()\n",
        "    vmax = gpd_df['perc_spect_london'].max()\n",
        "      \n",
        "    # create figure and axes for Matplotlib\n",
        "    fig, ax = plt.subplots(1, figsize=(8, 7.5), dpi=160)\n",
        " #   fig, ax = plt.subplots(1, figsize=(10, 9.5))\n",
        " \n",
        "    # create map\n",
        "    gpd_df.plot(column=var_map, cmap='YlGn', linewidth=0.6, ax=ax, edgecolor='0.8')\n",
        "\n",
        "    plt.title(str(eventname), fontsize=12)\n",
        "    plt.xlabel('Longitude',fontsize=12, horizontalalignment='center')\n",
        "    plt.ylabel('Latitude',fontsize=12, horizontalalignment='center')\n",
        "    plt.xticks(horizontalalignment='center', fontsize=9)\n",
        "    plt.yticks(horizontalalignment='right', fontsize=9)\n",
        "    \n",
        "    ax.tick_params(axis='both', which='major', pad=6)\n",
        "    \n",
        "    sm = plt.cm.ScalarMappable(cmap='YlGn', norm=plt.Normalize(vmin=vmin, vmax=vmax))\n",
        "    sm._A = []\n",
        "\n",
        "    cbar = fig.colorbar(sm, orientation='horizontal',fraction=0.04, pad=0.14)\n",
        "    cbar.set_label('% Event Spectators (of total spectators with home)', size=11)\n",
        "    cbar.ax.xaxis.set_label_position('top')\n",
        "    cbar.ax.tick_params(labelsize=10)\n",
        "     \n",
        "    fig.tight_layout()\n",
        "    \n",
        "    plt.savefig('drive/My Drive/Dan - Meetings/Thesis Maps & Graphs/London_Home/Home_Spectators/lndward_map_'+str(eventname)+'.png')\n",
        "    \n",
        "    plt.close('all')\n",
        "   # plt.show()"
      ],
      "execution_count": 0,
      "outputs": []
    },
    {
      "cell_type": "code",
      "metadata": {
        "id": "xPn_Z0t3JrQn",
        "colab_type": "code",
        "colab": {}
      },
      "source": [
        "import os\n",
        "\n",
        "folderpath = '/content/drive/My Drive/Dan - Meetings/Thesis Maps & Graphs/London_Home/Home_Spectators'\n",
        "\n",
        "for filename in os.listdir(folderpath):\n",
        " # print(filename)\n",
        "  files.download(folderpath+'/'+str(filename))"
      ],
      "execution_count": 0,
      "outputs": []
    }
  ]
}
{
  "nbformat": 4,
  "nbformat_minor": 0,
  "metadata": {
    "colab": {
      "name": "Temporal Analysis - Graphs",
      "version": "0.3.2",
      "provenance": [],
      "collapsed_sections": []
    },
    "kernelspec": {
      "name": "python3",
      "display_name": "Python 3"
    }
  },
  "cells": [
    {
      "cell_type": "code",
      "metadata": {
        "id": "2QX4Aserbn-0",
        "colab_type": "code",
        "colab": {}
      },
      "source": [
        "import pandas as pd\n",
        "import numpy as np \n",
        "from functools import reduce \n",
        "import os\n",
        "from datetime import datetime\n",
        "\n",
        "import matplotlib as mp\n",
        "import matplotlib.pyplot as plt\n",
        "pd.options.mode.chained_assignment = None\n",
        "\n",
        "import seaborn as sns\n",
        "sns.set(style=\"whitegrid\")\n",
        "sns.set(font_scale=2)"
      ],
      "execution_count": 0,
      "outputs": []
    },
    {
      "cell_type": "code",
      "metadata": {
        "id": "Q2PwEQIKb3B0",
        "colab_type": "code",
        "outputId": "b7903aa1-3bd9-46db-ab9c-6738d5dc2e02",
        "colab": {
          "base_uri": "https://localhost:8080/",
          "height": 34
        }
      },
      "source": [
        "from google.colab import auth\n",
        "auth.authenticate_user()\n",
        "print('Authenticated')"
      ],
      "execution_count": 0,
      "outputs": [
        {
          "output_type": "stream",
          "text": [
            "Authenticated\n"
          ],
          "name": "stdout"
        }
      ]
    },
    {
      "cell_type": "code",
      "metadata": {
        "id": "JIQBwBjLb5xm",
        "colab_type": "code",
        "colab": {}
      },
      "source": [
        "from google.cloud import bigquery\n",
        "client = bigquery.Client('thesisprojects2019')"
      ],
      "execution_count": 0,
      "outputs": []
    },
    {
      "cell_type": "code",
      "metadata": {
        "id": "e2v-8FQtikD1",
        "colab_type": "code",
        "outputId": "bea7bb67-ba74-43e2-ff7e-ebd263dd2c88",
        "colab": {
          "base_uri": "https://localhost:8080/",
          "height": 34
        }
      },
      "source": [
        "from google.colab import drive\n",
        "drive.mount('/content/drive')"
      ],
      "execution_count": 0,
      "outputs": [
        {
          "output_type": "stream",
          "text": [
            "Drive already mounted at /content/drive; to attempt to forcibly remount, call drive.mount(\"/content/drive\", force_remount=True).\n"
          ],
          "name": "stdout"
        }
      ]
    },
    {
      "cell_type": "markdown",
      "metadata": {
        "id": "bd6Q5eMgNhwf",
        "colab_type": "text"
      },
      "source": [
        "### Arrival Time - Profile Graphs"
      ]
    },
    {
      "cell_type": "code",
      "metadata": {
        "id": "uSZW-T33sQSV",
        "colab_type": "code",
        "colab": {}
      },
      "source": [
        "#import statistic table from bigquery\n",
        "query = \"\"\" SELECT a.eventid ,b.event, gps_1st_min5_instadium as arrival_time, start_time, end_time, \n",
        "             COUNT(distinct a.user_id) as count_spect_instadium,\n",
        "             ROUND((COUNT(distinct a.user_id)/b.count_spectators)*100,2) as perc_spect_instadium\n",
        "FROM  `thesisprojects2019.audeMS.step9_temporal_analysis_arrival` as a, \n",
        "            `thesisprojects2019.audeMS.EDA_spectators`as b\n",
        "WHERE a.eventid = b.eventid \n",
        "GROUP BY  a.eventid, b.event, b.count_spectators, a.gps_1st_min5_instadium, start_time, end_time \n",
        "ORDER BY eventid, gps_1st_min5_instadium\"\"\"\n",
        "data = client.query(query).to_dataframe()"
      ],
      "execution_count": 0,
      "outputs": []
    },
    {
      "cell_type": "code",
      "metadata": {
        "id": "l77ep1PyaFLu",
        "colab_type": "code",
        "colab": {}
      },
      "source": [
        "data['a_time'] = data['arrival_time'].dt.time"
      ],
      "execution_count": 0,
      "outputs": []
    },
    {
      "cell_type": "code",
      "metadata": {
        "id": "46wwDSNM6KKi",
        "colab_type": "code",
        "outputId": "392a6b12-1017-4ecc-a4a0-85ed160156c3",
        "colab": {
          "base_uri": "https://localhost:8080/",
          "height": 111
        }
      },
      "source": [
        "data.head(2)"
      ],
      "execution_count": 0,
      "outputs": [
        {
          "output_type": "execute_result",
          "data": {
            "text/html": [
              "<div>\n",
              "<style scoped>\n",
              "    .dataframe tbody tr th:only-of-type {\n",
              "        vertical-align: middle;\n",
              "    }\n",
              "\n",
              "    .dataframe tbody tr th {\n",
              "        vertical-align: top;\n",
              "    }\n",
              "\n",
              "    .dataframe thead th {\n",
              "        text-align: right;\n",
              "    }\n",
              "</style>\n",
              "<table border=\"1\" class=\"dataframe\">\n",
              "  <thead>\n",
              "    <tr style=\"text-align: right;\">\n",
              "      <th></th>\n",
              "      <th>eventid</th>\n",
              "      <th>event</th>\n",
              "      <th>arrival_time</th>\n",
              "      <th>start_time</th>\n",
              "      <th>end_time</th>\n",
              "      <th>count_spect_instadium</th>\n",
              "      <th>perc_spect_instadium</th>\n",
              "      <th>a_time</th>\n",
              "    </tr>\n",
              "  </thead>\n",
              "  <tbody>\n",
              "    <tr>\n",
              "      <th>0</th>\n",
              "      <td>1_2017-11-04</td>\n",
              "      <td>Barbarians New Zealand</td>\n",
              "      <td>2017-11-04 11:00:00+00:00</td>\n",
              "      <td>15:00:00</td>\n",
              "      <td>16:45:00</td>\n",
              "      <td>3</td>\n",
              "      <td>0.27</td>\n",
              "      <td>11:00:00</td>\n",
              "    </tr>\n",
              "    <tr>\n",
              "      <th>1</th>\n",
              "      <td>1_2017-11-04</td>\n",
              "      <td>Barbarians New Zealand</td>\n",
              "      <td>2017-11-04 11:05:00+00:00</td>\n",
              "      <td>15:00:00</td>\n",
              "      <td>16:45:00</td>\n",
              "      <td>3</td>\n",
              "      <td>0.27</td>\n",
              "      <td>11:05:00</td>\n",
              "    </tr>\n",
              "  </tbody>\n",
              "</table>\n",
              "</div>"
            ],
            "text/plain": [
              "        eventid                   event  ... perc_spect_instadium    a_time\n",
              "0  1_2017-11-04  Barbarians New Zealand  ...                 0.27  11:00:00\n",
              "1  1_2017-11-04  Barbarians New Zealand  ...                 0.27  11:05:00\n",
              "\n",
              "[2 rows x 8 columns]"
            ]
          },
          "metadata": {
            "tags": []
          },
          "execution_count": 11
        }
      ]
    },
    {
      "cell_type": "code",
      "metadata": {
        "id": "7uV_UF2FaLff",
        "colab_type": "code",
        "outputId": "99d3efa4-89c9-4970-8510-be4e56ac2e59",
        "colab": {
          "base_uri": "https://localhost:8080/",
          "height": 170
        }
      },
      "source": [
        "data.dtypes"
      ],
      "execution_count": 0,
      "outputs": [
        {
          "output_type": "execute_result",
          "data": {
            "text/plain": [
              "eventid                               object\n",
              "event                                 object\n",
              "arrival_time             datetime64[ns, UTC]\n",
              "start_time                            object\n",
              "end_time                              object\n",
              "count_spect_instadium                  int64\n",
              "perc_spect_instadium                 float64\n",
              "a_time                                object\n",
              "dtype: object"
            ]
          },
          "metadata": {
            "tags": []
          },
          "execution_count": 12
        }
      ]
    },
    {
      "cell_type": "code",
      "metadata": {
        "id": "2cUG7LXnQH6t",
        "colab_type": "code",
        "colab": {}
      },
      "source": [
        "# Create time range\n",
        "date_rng = pd.date_range(start='09:00', periods=200, freq='20T')\n",
        "x_list = date_rng.time"
      ],
      "execution_count": 0,
      "outputs": []
    },
    {
      "cell_type": "code",
      "metadata": {
        "id": "nb8a20KxYj_E",
        "colab_type": "code",
        "colab": {}
      },
      "source": [
        "#Make a list of all single eventid\n",
        "event_list = []\n",
        "for i in data['event']:\n",
        "    if i not in event_list:\n",
        "        event_list.append(i)"
      ],
      "execution_count": 0,
      "outputs": []
    },
    {
      "cell_type": "code",
      "metadata": {
        "id": "yKd1UhtMYtHj",
        "colab_type": "code",
        "colab": {}
      },
      "source": [
        "## Define a function to create the plot for each single event!\n",
        "def Plot_instadium(eventname):\n",
        "    \n",
        "    # select the event date\n",
        "    data_test = data[data['event'] == eventname]\n",
        "    data_event = data_test.reset_index()\n",
        "    # Add the cumulative perc_gpspt \n",
        " # data_event['cum_perc'] = 100 - data_event['perc_1stgps_outstadium'].expanding().apply(lambda r: reduce(lambda prev, value: prev + value, r))\n",
        "\n",
        "    # select the event name\n",
        "    event_name = data_event['event'][1]\n",
        "    start_time = data_event['start_time'][0] \n",
        "    end_time = data_event['end_time'][0] \n",
        "    \n",
        "    # define the x,y value\n",
        "    x = data_event['a_time'] # here i made a change\n",
        "  # y = data_event['cum_perc']\n",
        "    y = data_event['perc_spect_instadium']\n",
        "\n",
        "    # make the figure\n",
        "    fig, ax = plt.subplots(figsize=(10,4),dpi=120)\n",
        "  # fig, ax = plt.subplots(figsize=(10,4))\n",
        "    \n",
        "    # set the x_axis, x,y,title label\n",
        "    #ax.set_xlim(left=data_event['time_intervall'].min(), right=data_event['time_intervall'].max())\n",
        "    plt.suptitle('Spectators Arrival in Stadium - 1st GPS point', fontsize=14, horizontalalignment = 'center')\n",
        "    ax.set_title((event_name),fontsize='12')\n",
        "    ax.set_xlabel('Time',horizontalalignment='center', fontsize='12')\n",
        "    ax.set_ylabel('% of Total Spectators',horizontalalignment='center', fontsize='12')\n",
        "  # ax.set_yticks(np.arange(0,110,10))\n",
        "    ax.set_yticks(np.arange(0,13,2))\n",
        "    ax.set_ylim(top=12, bottom=0)\n",
        "    ax.set_xticks(x_list)\n",
        "    ax.tick_params(axis='both', which='major', pad=6)\n",
        "        \n",
        "    # draw the plot\n",
        "    ax.plot(x,y)\n",
        "    ax.axvline(start_time,ls='--',lw=0.9,color='g',label=('Event Start ' + str(start_time)))\n",
        "    ax.axvline(end_time,ls='--',lw=0.9,color='r',label=('Event End ' + str(end_time)))\n",
        "    plt.gcf().autofmt_xdate()\n",
        "    plt.yticks(horizontalalignment='center', fontsize='12')\n",
        "    plt.xticks(rotation=0,horizontalalignment='center', fontsize='9')\n",
        "    plt.legend(loc=0,fontsize='10' )\n",
        "    \n",
        "   # plt.savefig('drive/My Drive/Dan - Meetings/Thesis Maps & Graphs/Arrival_Time/Arrival_Profile/graph_arrival_spect_'+str(event_name)+'.png')\n",
        "    plt.close('all')\n",
        "    # return the figure\n",
        "    return fig, ax"
      ],
      "execution_count": 0,
      "outputs": []
    },
    {
      "cell_type": "code",
      "metadata": {
        "id": "VvyTgFFeaajj",
        "colab_type": "code",
        "colab": {}
      },
      "source": [
        "for events in event_list:\n",
        "    plot = Plot_instadium(events)  "
      ],
      "execution_count": 0,
      "outputs": []
    },
    {
      "cell_type": "code",
      "metadata": {
        "id": "UUhZJtOmUrJ1",
        "colab_type": "code",
        "colab": {}
      },
      "source": [
        "import os\n",
        "from google.colab import files\n",
        "\n",
        "folderpath = '/content/drive/My Drive/Dan - Meetings/Thesis Maps & Graphs/Arrival_Time/Arrival_Profile'\n",
        "\n",
        "for filename in os.listdir(folderpath):\n",
        " # print(filename)\n",
        "  files.download(folderpath+'/'+str(filename))"
      ],
      "execution_count": 0,
      "outputs": []
    },
    {
      "cell_type": "markdown",
      "metadata": {
        "id": "nPCiFlBBaPQ_",
        "colab_type": "text"
      },
      "source": [
        "### Departure Time - Profile Graphs"
      ]
    },
    {
      "cell_type": "code",
      "metadata": {
        "id": "LJdrM3FaaSD6",
        "colab_type": "code",
        "colab": {}
      },
      "source": [
        "#import statistic table from bigquery\n",
        "query = \"\"\" SELECT a.eventid ,b.event, gps_1st_min5_outstadium as departure_time, start_time, end_time, \n",
        "             COUNT(distinct a.user_id) as count_spect_outstadium,\n",
        "             ROUND((COUNT(distinct a.user_id)/b.count_spectators)*100,2) as perc_spect_outstadium\n",
        "FROM  `thesisprojects2019.audeMS.step9_temporal_analysis_departure` as a, \n",
        "            `thesisprojects2019.audeMS.EDA_spectators`as b\n",
        "WHERE a.eventid = b.eventid \n",
        "GROUP BY  a.eventid, b.event, b.count_spectators, a.gps_1st_min5_outstadium, start_time, end_time \n",
        "ORDER BY eventid, gps_1st_min5_outstadium\"\"\"\n",
        "data = client.query(query).to_dataframe()"
      ],
      "execution_count": 0,
      "outputs": []
    },
    {
      "cell_type": "code",
      "metadata": {
        "id": "Tz7AD2b5bCoK",
        "colab_type": "code",
        "colab": {}
      },
      "source": [
        "data['d_time'] = data['departure_time'].dt.time"
      ],
      "execution_count": 0,
      "outputs": []
    },
    {
      "cell_type": "code",
      "metadata": {
        "id": "OVck_gyEbJZ7",
        "colab_type": "code",
        "outputId": "5234d373-553e-4553-afe8-b8ccefff7f6a",
        "colab": {
          "base_uri": "https://localhost:8080/",
          "height": 111
        }
      },
      "source": [
        "data.head(2)"
      ],
      "execution_count": 0,
      "outputs": [
        {
          "output_type": "execute_result",
          "data": {
            "text/html": [
              "<div>\n",
              "<style scoped>\n",
              "    .dataframe tbody tr th:only-of-type {\n",
              "        vertical-align: middle;\n",
              "    }\n",
              "\n",
              "    .dataframe tbody tr th {\n",
              "        vertical-align: top;\n",
              "    }\n",
              "\n",
              "    .dataframe thead th {\n",
              "        text-align: right;\n",
              "    }\n",
              "</style>\n",
              "<table border=\"1\" class=\"dataframe\">\n",
              "  <thead>\n",
              "    <tr style=\"text-align: right;\">\n",
              "      <th></th>\n",
              "      <th>eventid</th>\n",
              "      <th>event</th>\n",
              "      <th>departure_time</th>\n",
              "      <th>start_time</th>\n",
              "      <th>end_time</th>\n",
              "      <th>count_spect_outstadium</th>\n",
              "      <th>perc_spect_outstadium</th>\n",
              "      <th>d_time</th>\n",
              "    </tr>\n",
              "  </thead>\n",
              "  <tbody>\n",
              "    <tr>\n",
              "      <th>0</th>\n",
              "      <td>1_2017-11-04</td>\n",
              "      <td>Barbarians New Zealand</td>\n",
              "      <td>NaT</td>\n",
              "      <td>15:00:00</td>\n",
              "      <td>16:45:00</td>\n",
              "      <td>3</td>\n",
              "      <td>0.27</td>\n",
              "      <td>NaT</td>\n",
              "    </tr>\n",
              "    <tr>\n",
              "      <th>1</th>\n",
              "      <td>1_2017-11-04</td>\n",
              "      <td>Barbarians New Zealand</td>\n",
              "      <td>2017-11-04 15:10:00+00:00</td>\n",
              "      <td>15:00:00</td>\n",
              "      <td>16:45:00</td>\n",
              "      <td>2</td>\n",
              "      <td>0.18</td>\n",
              "      <td>15:10:00</td>\n",
              "    </tr>\n",
              "  </tbody>\n",
              "</table>\n",
              "</div>"
            ],
            "text/plain": [
              "        eventid                   event  ... perc_spect_outstadium    d_time\n",
              "0  1_2017-11-04  Barbarians New Zealand  ...                  0.27       NaT\n",
              "1  1_2017-11-04  Barbarians New Zealand  ...                  0.18  15:10:00\n",
              "\n",
              "[2 rows x 8 columns]"
            ]
          },
          "metadata": {
            "tags": []
          },
          "execution_count": 140
        }
      ]
    },
    {
      "cell_type": "code",
      "metadata": {
        "id": "CLNongcWh_YV",
        "colab_type": "code",
        "colab": {}
      },
      "source": [
        "test_data = data[data.departure_time.notnull()] "
      ],
      "execution_count": 0,
      "outputs": []
    },
    {
      "cell_type": "code",
      "metadata": {
        "id": "g5mKRKr4mRo_",
        "colab_type": "code",
        "outputId": "554afe21-9a3a-4241-d066-597e930ad362",
        "colab": {
          "base_uri": "https://localhost:8080/",
          "height": 142
        }
      },
      "source": [
        "test_data.set_index('departure_time', inplace=True)\n",
        "test_data.index = pd.to_datetime(test_data.index)\n",
        "test_data.head(2)"
      ],
      "execution_count": 0,
      "outputs": [
        {
          "output_type": "execute_result",
          "data": {
            "text/html": [
              "<div>\n",
              "<style scoped>\n",
              "    .dataframe tbody tr th:only-of-type {\n",
              "        vertical-align: middle;\n",
              "    }\n",
              "\n",
              "    .dataframe tbody tr th {\n",
              "        vertical-align: top;\n",
              "    }\n",
              "\n",
              "    .dataframe thead th {\n",
              "        text-align: right;\n",
              "    }\n",
              "</style>\n",
              "<table border=\"1\" class=\"dataframe\">\n",
              "  <thead>\n",
              "    <tr style=\"text-align: right;\">\n",
              "      <th></th>\n",
              "      <th>eventid</th>\n",
              "      <th>event</th>\n",
              "      <th>start_time</th>\n",
              "      <th>end_time</th>\n",
              "      <th>count_spect_outstadium</th>\n",
              "      <th>perc_spect_outstadium</th>\n",
              "      <th>d_time</th>\n",
              "    </tr>\n",
              "    <tr>\n",
              "      <th>departure_time</th>\n",
              "      <th></th>\n",
              "      <th></th>\n",
              "      <th></th>\n",
              "      <th></th>\n",
              "      <th></th>\n",
              "      <th></th>\n",
              "      <th></th>\n",
              "    </tr>\n",
              "  </thead>\n",
              "  <tbody>\n",
              "    <tr>\n",
              "      <th>2017-11-04 15:10:00+00:00</th>\n",
              "      <td>1_2017-11-04</td>\n",
              "      <td>Barbarians New Zealand</td>\n",
              "      <td>15:00:00</td>\n",
              "      <td>16:45:00</td>\n",
              "      <td>2</td>\n",
              "      <td>0.18</td>\n",
              "      <td>15:10:00</td>\n",
              "    </tr>\n",
              "    <tr>\n",
              "      <th>2017-11-04 15:15:00+00:00</th>\n",
              "      <td>1_2017-11-04</td>\n",
              "      <td>Barbarians New Zealand</td>\n",
              "      <td>15:00:00</td>\n",
              "      <td>16:45:00</td>\n",
              "      <td>3</td>\n",
              "      <td>0.27</td>\n",
              "      <td>15:15:00</td>\n",
              "    </tr>\n",
              "  </tbody>\n",
              "</table>\n",
              "</div>"
            ],
            "text/plain": [
              "                                eventid  ...    d_time\n",
              "departure_time                           ...          \n",
              "2017-11-04 15:10:00+00:00  1_2017-11-04  ...  15:10:00\n",
              "2017-11-04 15:15:00+00:00  1_2017-11-04  ...  15:15:00\n",
              "\n",
              "[2 rows x 7 columns]"
            ]
          },
          "metadata": {
            "tags": []
          },
          "execution_count": 142
        }
      ]
    },
    {
      "cell_type": "code",
      "metadata": {
        "id": "xmFpbg5_nrhm",
        "colab_type": "code",
        "colab": {}
      },
      "source": [
        "timestampe_search = '00:00:00'\n",
        "test_new = test_data.loc[test_data.index.strftime('%H:%M:%S') != timestampe_search]\n",
        "clean_data = test_new.reset_index()"
      ],
      "execution_count": 0,
      "outputs": []
    },
    {
      "cell_type": "code",
      "metadata": {
        "id": "lstOIHhnobXl",
        "colab_type": "code",
        "outputId": "3ac5f78f-d079-4734-dc3a-e6e24256ebda",
        "colab": {
          "base_uri": "https://localhost:8080/",
          "height": 111
        }
      },
      "source": [
        "clean_data.head(2)"
      ],
      "execution_count": 0,
      "outputs": [
        {
          "output_type": "execute_result",
          "data": {
            "text/html": [
              "<div>\n",
              "<style scoped>\n",
              "    .dataframe tbody tr th:only-of-type {\n",
              "        vertical-align: middle;\n",
              "    }\n",
              "\n",
              "    .dataframe tbody tr th {\n",
              "        vertical-align: top;\n",
              "    }\n",
              "\n",
              "    .dataframe thead th {\n",
              "        text-align: right;\n",
              "    }\n",
              "</style>\n",
              "<table border=\"1\" class=\"dataframe\">\n",
              "  <thead>\n",
              "    <tr style=\"text-align: right;\">\n",
              "      <th></th>\n",
              "      <th>departure_time</th>\n",
              "      <th>eventid</th>\n",
              "      <th>event</th>\n",
              "      <th>start_time</th>\n",
              "      <th>end_time</th>\n",
              "      <th>count_spect_outstadium</th>\n",
              "      <th>perc_spect_outstadium</th>\n",
              "      <th>d_time</th>\n",
              "    </tr>\n",
              "  </thead>\n",
              "  <tbody>\n",
              "    <tr>\n",
              "      <th>0</th>\n",
              "      <td>2017-11-04 15:10:00+00:00</td>\n",
              "      <td>1_2017-11-04</td>\n",
              "      <td>Barbarians New Zealand</td>\n",
              "      <td>15:00:00</td>\n",
              "      <td>16:45:00</td>\n",
              "      <td>2</td>\n",
              "      <td>0.18</td>\n",
              "      <td>15:10:00</td>\n",
              "    </tr>\n",
              "    <tr>\n",
              "      <th>1</th>\n",
              "      <td>2017-11-04 15:15:00+00:00</td>\n",
              "      <td>1_2017-11-04</td>\n",
              "      <td>Barbarians New Zealand</td>\n",
              "      <td>15:00:00</td>\n",
              "      <td>16:45:00</td>\n",
              "      <td>3</td>\n",
              "      <td>0.27</td>\n",
              "      <td>15:15:00</td>\n",
              "    </tr>\n",
              "  </tbody>\n",
              "</table>\n",
              "</div>"
            ],
            "text/plain": [
              "             departure_time       eventid  ... perc_spect_outstadium    d_time\n",
              "0 2017-11-04 15:10:00+00:00  1_2017-11-04  ...                  0.18  15:10:00\n",
              "1 2017-11-04 15:15:00+00:00  1_2017-11-04  ...                  0.27  15:15:00\n",
              "\n",
              "[2 rows x 8 columns]"
            ]
          },
          "metadata": {
            "tags": []
          },
          "execution_count": 145
        }
      ]
    },
    {
      "cell_type": "code",
      "metadata": {
        "id": "-5Wz0LHHbQdJ",
        "colab_type": "code",
        "colab": {}
      },
      "source": [
        "## Define a function to create the plot for each single event!\n",
        "def Plot_outstadium(eventname):\n",
        "    \n",
        "    # select the event date\n",
        "    data_test = clean_data[clean_data['event'] == eventname]\n",
        "    data_event = data_test.reset_index()\n",
        "    # Add the cumulative perc_gpspt \n",
        " # data_event['cum_perc'] = 100 - data_event['perc_1stgps_outstadium'].expanding().apply(lambda r: reduce(lambda prev, value: prev + value, r))\n",
        "\n",
        "    # select the event name\n",
        "    event_name = data_event['event'][1]\n",
        "    start_time = data_event['start_time'][0] \n",
        "    end_time = data_event['end_time'][0] \n",
        "    \n",
        "    # define the x,y value\n",
        "    x = data_event['d_time'] # here i made a change\n",
        "  # y = data_event['cum_perc']\n",
        "    y = data_event['perc_spect_outstadium']\n",
        "\n",
        "    # make the figure\n",
        "    fig, ax = plt.subplots(figsize=(10,4),dpi=120)\n",
        "  #  fig, ax = plt.subplots(figsize=(12,4))\n",
        "    \n",
        "    # set the x_axis, x,y,title label\n",
        "  #  ax.set_xlim(left=data_event['time_intervall'].min(), right=data_event['time_intervall'].max())\n",
        "    plt.suptitle('Spectators Departure from Stadium - 1st GPS point out', fontsize=14, horizontalalignment = 'center')\n",
        "    ax.set_title((event_name),fontsize='12')\n",
        "    ax.set_xlabel('Time',horizontalalignment='center', fontsize='12')\n",
        "    ax.set_ylabel('% of Total Spectators',horizontalalignment='center', fontsize='12')\n",
        "  # ax.set_yticks(np.arange(0,110,10))\n",
        "    ax.set_yticks(np.arange(0,25,3))\n",
        "    ax.set_ylim(top=25, bottom=0)\n",
        "    ax.set_xticks(x_list)\n",
        "    ax.tick_params(axis='both', which='major', pad=6)\n",
        "        \n",
        "    # draw the plot\n",
        "    ax.plot(x,y)\n",
        "    ax.axvline(start_time,ls='--',lw=0.9,color='g',label=('Event Start ' + str(start_time)))\n",
        "    ax.axvline(end_time,ls='--',lw=0.9,color='r',label=('Event End ' + str(end_time)))\n",
        "    plt.gcf().autofmt_xdate()\n",
        "    plt.yticks(horizontalalignment='center', fontsize='12')\n",
        "    plt.xticks(rotation=0,horizontalalignment='center', fontsize='8')\n",
        "    plt.legend(loc=0,fontsize='10' )\n",
        "    \n",
        "    plt.savefig('drive/My Drive/Dan - Meetings/Thesis Maps & Graphs/Departure_Time/1st_GPS_outstadium/Departure_Profile/graph_departure_spect_'+str(event_name)+'.png')\n",
        "    plt.close('all')\n",
        "    # return the figure\n",
        "    return fig, ax"
      ],
      "execution_count": 0,
      "outputs": []
    },
    {
      "cell_type": "code",
      "metadata": {
        "id": "fdJe-uyhctrI",
        "colab_type": "code",
        "outputId": "c2aaa132-c557-47ee-b6cc-943caf50f3ed",
        "colab": {
          "base_uri": "https://localhost:8080/",
          "height": 51
        }
      },
      "source": [
        "#Plot_outstadium('Watford Leicester') # Set ylim to 24!\n",
        "\n",
        "# Plot_outstadium('THFC Southampton')# Set width = 12\n",
        "# Plot_outstadium('Barbarians New Zealand') # Set width = 12\n",
        "# Plot_outstadium('England Argentina') # Set width = 12\n",
        "# Plot_outstadium('England Samoa') # Set width = 12\n",
        "# Plot_outstadium('West Ham Chelsea') # Set width = 12\n",
        "# Plot_outstadium('NFL Game 1') # Set width = 12\n",
        "# Plot_outstadium('NFL Game 2') # Set width = 12\n",
        "# Plot_outstadium('THFC Bournemouth ') # Set width = 12\n",
        "# Plot_outstadium('THFC Liverpool') # Set width = 12\n",
        "# Plot_outstadium('THFC CrystalPalace') # Set width = 12\n",
        "# Plot_outstadium('THFC WBA') # Set width = 12\n",
        "# Plot_outstadium('THFC Stoke') # Set width = 12"
      ],
      "execution_count": 0,
      "outputs": [
        {
          "output_type": "execute_result",
          "data": {
            "text/plain": [
              "(<Figure size 1200x480 with 1 Axes>,\n",
              " <matplotlib.axes._subplots.AxesSubplot at 0x7fb4b95386a0>)"
            ]
          },
          "metadata": {
            "tags": []
          },
          "execution_count": 177
        }
      ]
    },
    {
      "cell_type": "code",
      "metadata": {
        "id": "h3pEP6Unbk6F",
        "colab_type": "code",
        "colab": {}
      },
      "source": [
        "for events in event_list:\n",
        "    plot = Plot_outstadium(events)  "
      ],
      "execution_count": 0,
      "outputs": []
    },
    {
      "cell_type": "code",
      "metadata": {
        "id": "nPiP5n3NeeSj",
        "colab_type": "code",
        "colab": {}
      },
      "source": [
        "import os\n",
        "from google.colab import files\n",
        "\n",
        "folderpath = '/content/drive/My Drive/Dan - Meetings/Thesis Maps & Graphs/Departure_Time/1st_GPS_outstadium/Departure_Profile'\n",
        "\n",
        "for filename in os.listdir(folderpath):\n",
        " # print(filename)\n",
        "  files.download(folderpath+'/'+str(filename))"
      ],
      "execution_count": 0,
      "outputs": []
    },
    {
      "cell_type": "markdown",
      "metadata": {
        "id": "3gO5_P7vfWAB",
        "colab_type": "text"
      },
      "source": [
        "### Departure Time - Cummulative Percentage Profile Graphs"
      ]
    },
    {
      "cell_type": "code",
      "metadata": {
        "id": "cjBKpTtefZci",
        "colab_type": "code",
        "colab": {}
      },
      "source": [
        "## Define a function to create the plot for each single event!\n",
        "def Plot_outstadium(eventname):\n",
        "    \n",
        "    # select the event date\n",
        "    data_test = clean_data[clean_data['event'] == eventname]\n",
        "    data_event = data_test.reset_index()\n",
        "    # Add the cumulative perc_gpspt \n",
        "    data_event['cum_perc'] = 100 - data_event['perc_spect_outstadium'].expanding().apply(lambda r: reduce(lambda prev, value: prev + value, r))\n",
        "\n",
        "    # select the event name\n",
        "    event_name = data_event['event'][1]\n",
        "    start_time = data_event['start_time'][0] \n",
        "    end_time = data_event['end_time'][0] \n",
        "    \n",
        "    # define the x,y value\n",
        "    x = data_event['d_time'] # here i made a change\n",
        "    y = data_event['cum_perc']\n",
        "\n",
        "    # make the figure\n",
        "    fig, ax = plt.subplots(figsize=(13,4),dpi=120)\n",
        "   # fig, ax = plt.subplots(figsize=(10,4))\n",
        "    \n",
        "    # set the x_axis, x,y,title label\n",
        "    #ax.set_xlim(left=data_event['time_intervall'].min(), right=data_event['time_intervall'].max())\n",
        "    plt.suptitle('Spectators Departure from Stadium - 1st GPS point out', fontsize=14, horizontalalignment = 'center')\n",
        "    ax.set_title((event_name),fontsize='12')\n",
        "    ax.set_xlabel('Time',horizontalalignment='center', fontsize='12')\n",
        "    ax.set_ylabel('Cumulative % of Total Spectators',horizontalalignment='center', fontsize='12')\n",
        "    ax.set_yticks(np.arange(0,110,10))\n",
        "  #  ax.set_ylim(top=17, bottom=0)\n",
        "    ax.set_xticks(x_list)\n",
        "    ax.tick_params(axis='both', which='major', pad=6)\n",
        "        \n",
        "    # draw the plot\n",
        "    ax.plot(x,y)\n",
        "    ax.axvline(start_time,ls='--',lw=0.9,color='g',label=('Event Start ' + str(start_time)))\n",
        "    ax.axvline(end_time,ls='--',lw=0.9,color='r',label=('Event End ' + str(end_time)))\n",
        "    plt.gcf().autofmt_xdate()\n",
        "    plt.yticks(horizontalalignment='center', fontsize='12')\n",
        "    plt.xticks(rotation=0,horizontalalignment='center', fontsize='7')\n",
        "    plt.legend(loc=0,fontsize='10' )\n",
        "    \n",
        "    plt.savefig('drive/My Drive/Dan - Meetings/Thesis Maps & Graphs/Departure_Time/1st_GPS_outstadium/Departure_Cum/cum_departure_spect_'+str(event_name)+'.png')\n",
        "    plt.close('all')\n",
        "    # return the figure\n",
        "    return fig, ax"
      ],
      "execution_count": 0,
      "outputs": []
    },
    {
      "cell_type": "code",
      "metadata": {
        "id": "ymQ5RKjbujth",
        "colab_type": "code",
        "outputId": "f6bb5646-1a71-4f65-c4b1-e5d3d2b28005",
        "colab": {
          "base_uri": "https://localhost:8080/",
          "height": 105
        }
      },
      "source": [
        "# Plot_outstadium('Watford Leicester') # Set ylim to 24!\n",
        "\n",
        "# Plot_outstadium('THFC Southampton')# Set width = 12\n",
        "# Plot_outstadium('Barbarians New Zealand') # Set width = 12\n",
        "# Plot_outstadium('England Argentina') # Set width = 12\n",
        "# Plot_outstadium('England Samoa') # Set width = 12\n",
        "# Plot_outstadium('West Ham Chelsea') # Set width = 12\n",
        "# Plot_outstadium('NFL Game 1') # Set width = 12\n",
        "# Plot_outstadium('NFL Game 2') # Set width = 12\n",
        "# Plot_outstadium('THFC Bournemouth ') # Set width = 12\n",
        "# Plot_outstadium('THFC Liverpool') # Set width = 12\n",
        "# Plot_outstadium('THFC CrystalPalace') # Set width = 12\n",
        "# Plot_outstadium('THFC WBA') # Set width = 12\n",
        "# Plot_outstadium('THFC Stoke') # Set width = 12"
      ],
      "execution_count": 0,
      "outputs": [
        {
          "output_type": "stream",
          "text": [
            "/usr/local/lib/python3.6/dist-packages/ipykernel_launcher.py:7: FutureWarning: Currently, 'apply' passes the values as ndarrays to the applied function. In the future, this will change to passing it as Series objects. You need to specify 'raw=True' to keep the current behaviour, and you can pass 'raw=False' to silence this warning\n",
            "  import sys\n"
          ],
          "name": "stderr"
        },
        {
          "output_type": "execute_result",
          "data": {
            "text/plain": [
              "(<Figure size 1560x480 with 1 Axes>,\n",
              " <matplotlib.axes._subplots.AxesSubplot at 0x7fb4b6e4e390>)"
            ]
          },
          "metadata": {
            "tags": []
          },
          "execution_count": 192
        }
      ]
    },
    {
      "cell_type": "code",
      "metadata": {
        "id": "xkuQqJc-gTON",
        "colab_type": "code",
        "outputId": "7b2210d8-382a-4263-8b9e-bff4c11ad4ad",
        "colab": {
          "base_uri": "https://localhost:8080/",
          "height": 71
        }
      },
      "source": [
        "for events in event_list:\n",
        "    plot = Plot_outstadium(events)  "
      ],
      "execution_count": 0,
      "outputs": [
        {
          "output_type": "stream",
          "text": [
            "/usr/local/lib/python3.6/dist-packages/ipykernel_launcher.py:7: FutureWarning: Currently, 'apply' passes the values as ndarrays to the applied function. In the future, this will change to passing it as Series objects. You need to specify 'raw=True' to keep the current behaviour, and you can pass 'raw=False' to silence this warning\n",
            "  import sys\n"
          ],
          "name": "stderr"
        }
      ]
    },
    {
      "cell_type": "code",
      "metadata": {
        "id": "GMoX-6f2u0pX",
        "colab_type": "code",
        "colab": {}
      },
      "source": [
        "import os\n",
        "from google.colab import files\n",
        "\n",
        "folderpath = '/content/drive/My Drive/Dan - Meetings/Thesis Maps & Graphs/Departure_Time/1st_GPS_outstadium/Departure_Cum'\n",
        "\n",
        "for filename in os.listdir(folderpath):\n",
        " # print(filename)\n",
        "  files.download(folderpath+'/'+str(filename))"
      ],
      "execution_count": 0,
      "outputs": []
    }
  ]
}
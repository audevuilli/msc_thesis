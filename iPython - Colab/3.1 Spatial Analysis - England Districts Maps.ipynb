{
  "nbformat": 4,
  "nbformat_minor": 0,
  "metadata": {
    "colab": {
      "name": "Map England District",
      "version": "0.3.2",
      "provenance": [],
      "collapsed_sections": []
    },
    "kernelspec": {
      "name": "python3",
      "display_name": "Python 3"
    }
  },
  "cells": [
    {
      "cell_type": "code",
      "metadata": {
        "id": "gPNAEyHI34hz",
        "colab_type": "code",
        "outputId": "c33eb091-57f0-46e8-9a38-10fc5a143765",
        "colab": {
          "base_uri": "https://localhost:8080/",
          "height": 700
        }
      },
      "source": [
        "!pip install geopandas\n",
        "!pip install descartes\n",
        "!pip install mplleaflet\n",
        "!pip install seaborn"
      ],
      "execution_count": 0,
      "outputs": [
        {
          "output_type": "stream",
          "text": [
            "Requirement already satisfied: geopandas in /usr/local/lib/python3.6/dist-packages (0.5.1)\n",
            "Requirement already satisfied: pandas in /usr/local/lib/python3.6/dist-packages (from geopandas) (0.24.2)\n",
            "Requirement already satisfied: shapely in /usr/local/lib/python3.6/dist-packages (from geopandas) (1.6.4.post2)\n",
            "Requirement already satisfied: fiona in /usr/local/lib/python3.6/dist-packages (from geopandas) (1.8.6)\n",
            "Requirement already satisfied: pyproj in /usr/local/lib/python3.6/dist-packages (from geopandas) (2.2.2)\n",
            "Requirement already satisfied: numpy>=1.12.0 in /usr/local/lib/python3.6/dist-packages (from pandas->geopandas) (1.16.4)\n",
            "Requirement already satisfied: pytz>=2011k in /usr/local/lib/python3.6/dist-packages (from pandas->geopandas) (2018.9)\n",
            "Requirement already satisfied: python-dateutil>=2.5.0 in /usr/local/lib/python3.6/dist-packages (from pandas->geopandas) (2.5.3)\n",
            "Requirement already satisfied: six>=1.7 in /usr/local/lib/python3.6/dist-packages (from fiona->geopandas) (1.12.0)\n",
            "Requirement already satisfied: munch in /usr/local/lib/python3.6/dist-packages (from fiona->geopandas) (2.3.2)\n",
            "Requirement already satisfied: click<8,>=4.0 in /usr/local/lib/python3.6/dist-packages (from fiona->geopandas) (7.0)\n",
            "Requirement already satisfied: click-plugins>=1.0 in /usr/local/lib/python3.6/dist-packages (from fiona->geopandas) (1.1.1)\n",
            "Requirement already satisfied: attrs>=17 in /usr/local/lib/python3.6/dist-packages (from fiona->geopandas) (19.1.0)\n",
            "Requirement already satisfied: cligj>=0.5 in /usr/local/lib/python3.6/dist-packages (from fiona->geopandas) (0.5.0)\n",
            "Requirement already satisfied: descartes in /usr/local/lib/python3.6/dist-packages (1.1.0)\n",
            "Requirement already satisfied: matplotlib in /usr/local/lib/python3.6/dist-packages (from descartes) (3.0.3)\n",
            "Requirement already satisfied: numpy>=1.10.0 in /usr/local/lib/python3.6/dist-packages (from matplotlib->descartes) (1.16.4)\n",
            "Requirement already satisfied: cycler>=0.10 in /usr/local/lib/python3.6/dist-packages (from matplotlib->descartes) (0.10.0)\n",
            "Requirement already satisfied: kiwisolver>=1.0.1 in /usr/local/lib/python3.6/dist-packages (from matplotlib->descartes) (1.1.0)\n",
            "Requirement already satisfied: python-dateutil>=2.1 in /usr/local/lib/python3.6/dist-packages (from matplotlib->descartes) (2.5.3)\n",
            "Requirement already satisfied: pyparsing!=2.0.4,!=2.1.2,!=2.1.6,>=2.0.1 in /usr/local/lib/python3.6/dist-packages (from matplotlib->descartes) (2.4.2)\n",
            "Requirement already satisfied: six in /usr/local/lib/python3.6/dist-packages (from cycler>=0.10->matplotlib->descartes) (1.12.0)\n",
            "Requirement already satisfied: setuptools in /usr/local/lib/python3.6/dist-packages (from kiwisolver>=1.0.1->matplotlib->descartes) (41.0.1)\n",
            "Requirement already satisfied: mplleaflet in /usr/local/lib/python3.6/dist-packages (0.0.5)\n",
            "Requirement already satisfied: six in /usr/local/lib/python3.6/dist-packages (from mplleaflet) (1.12.0)\n",
            "Requirement already satisfied: jinja2 in /usr/local/lib/python3.6/dist-packages (from mplleaflet) (2.10.1)\n",
            "Requirement already satisfied: MarkupSafe>=0.23 in /usr/local/lib/python3.6/dist-packages (from jinja2->mplleaflet) (1.1.1)\n",
            "Requirement already satisfied: seaborn in /usr/local/lib/python3.6/dist-packages (0.9.0)\n",
            "Requirement already satisfied: pandas>=0.15.2 in /usr/local/lib/python3.6/dist-packages (from seaborn) (0.24.2)\n",
            "Requirement already satisfied: scipy>=0.14.0 in /usr/local/lib/python3.6/dist-packages (from seaborn) (1.3.1)\n",
            "Requirement already satisfied: numpy>=1.9.3 in /usr/local/lib/python3.6/dist-packages (from seaborn) (1.16.4)\n",
            "Requirement already satisfied: matplotlib>=1.4.3 in /usr/local/lib/python3.6/dist-packages (from seaborn) (3.0.3)\n",
            "Requirement already satisfied: python-dateutil>=2.5.0 in /usr/local/lib/python3.6/dist-packages (from pandas>=0.15.2->seaborn) (2.5.3)\n",
            "Requirement already satisfied: pytz>=2011k in /usr/local/lib/python3.6/dist-packages (from pandas>=0.15.2->seaborn) (2018.9)\n",
            "Requirement already satisfied: pyparsing!=2.0.4,!=2.1.2,!=2.1.6,>=2.0.1 in /usr/local/lib/python3.6/dist-packages (from matplotlib>=1.4.3->seaborn) (2.4.2)\n",
            "Requirement already satisfied: cycler>=0.10 in /usr/local/lib/python3.6/dist-packages (from matplotlib>=1.4.3->seaborn) (0.10.0)\n",
            "Requirement already satisfied: kiwisolver>=1.0.1 in /usr/local/lib/python3.6/dist-packages (from matplotlib>=1.4.3->seaborn) (1.1.0)\n",
            "Requirement already satisfied: six>=1.5 in /usr/local/lib/python3.6/dist-packages (from python-dateutil>=2.5.0->pandas>=0.15.2->seaborn) (1.12.0)\n",
            "Requirement already satisfied: setuptools in /usr/local/lib/python3.6/dist-packages (from kiwisolver>=1.0.1->matplotlib>=1.4.3->seaborn) (41.0.1)\n"
          ],
          "name": "stdout"
        }
      ]
    },
    {
      "cell_type": "code",
      "metadata": {
        "id": "Q1XQeIAAzLmV",
        "colab_type": "code",
        "colab": {}
      },
      "source": [
        "import numpy as np\n",
        "import pandas as pd\n",
        "import geopandas as gpd\n",
        "from functools import reduce \n",
        "\n",
        "import time\n",
        "\n",
        "import matplotlib as mp\n",
        "import matplotlib.pyplot as plt\n",
        "import mplleaflet\n",
        "import descartes\n",
        "import seaborn as sns\n",
        "pd.options.mode.chained_assignment = None\n",
        "\n",
        "import warnings\n",
        "warnings.filterwarnings('ignore')\n",
        "\n",
        "sns.set(style=\"whitegrid\")\n",
        "sns.set(font_scale=2)"
      ],
      "execution_count": 0,
      "outputs": []
    },
    {
      "cell_type": "code",
      "metadata": {
        "id": "2x4Iz0Fj4wOT",
        "colab_type": "code",
        "outputId": "fe86fb8a-4f29-43cd-dd51-078a14388172",
        "colab": {
          "base_uri": "https://localhost:8080/",
          "height": 34
        }
      },
      "source": [
        "from google.colab import auth\n",
        "auth.authenticate_user()\n",
        "print('Authenticated')"
      ],
      "execution_count": 0,
      "outputs": [
        {
          "output_type": "stream",
          "text": [
            "Authenticated\n"
          ],
          "name": "stdout"
        }
      ]
    },
    {
      "cell_type": "code",
      "metadata": {
        "id": "rXDubVJY5P02",
        "colab_type": "code",
        "colab": {}
      },
      "source": [
        "from google.cloud import bigquery\n",
        "client = bigquery.Client('thesisprojects2019')"
      ],
      "execution_count": 0,
      "outputs": []
    },
    {
      "cell_type": "code",
      "metadata": {
        "id": "P1NTDXGU0MLu",
        "colab_type": "code",
        "colab": {}
      },
      "source": [
        "#import london statistic table from bigquery\n",
        "query = \"\"\" \n",
        "                 SELECT a.*\n",
        "                 FROM `thesisprojects2019.audeMS.step3_statistic_district_homelocation_spectatorswithhome` as a\n",
        "                 ORDER BY eventid \"\"\"\n",
        "data = client.query(query).to_dataframe()"
      ],
      "execution_count": 0,
      "outputs": []
    },
    {
      "cell_type": "code",
      "metadata": {
        "id": "OZSQI97A5qI3",
        "colab_type": "code",
        "outputId": "532575e8-0e52-4a8d-d53d-30bbaa86a587",
        "colab": {
          "base_uri": "https://localhost:8080/",
          "height": 199
        }
      },
      "source": [
        "data.head(2)"
      ],
      "execution_count": 0,
      "outputs": [
        {
          "output_type": "execute_result",
          "data": {
            "text/html": [
              "<div>\n",
              "<style scoped>\n",
              "    .dataframe tbody tr th:only-of-type {\n",
              "        vertical-align: middle;\n",
              "    }\n",
              "\n",
              "    .dataframe tbody tr th {\n",
              "        vertical-align: top;\n",
              "    }\n",
              "\n",
              "    .dataframe thead th {\n",
              "        text-align: right;\n",
              "    }\n",
              "</style>\n",
              "<table border=\"1\" class=\"dataframe\">\n",
              "  <thead>\n",
              "    <tr style=\"text-align: right;\">\n",
              "      <th></th>\n",
              "      <th>venueid</th>\n",
              "      <th>eventid</th>\n",
              "      <th>event</th>\n",
              "      <th>district_id</th>\n",
              "      <th>district_name</th>\n",
              "      <th>count_spect_district</th>\n",
              "      <th>perc_spect_district</th>\n",
              "    </tr>\n",
              "  </thead>\n",
              "  <tbody>\n",
              "    <tr>\n",
              "      <th>0</th>\n",
              "      <td>1</td>\n",
              "      <td>1_2017-11-04</td>\n",
              "      <td>Barbarians New Zealand</td>\n",
              "      <td>E09000030</td>\n",
              "      <td>Tower Hamlets</td>\n",
              "      <td>10</td>\n",
              "      <td>1.339</td>\n",
              "    </tr>\n",
              "    <tr>\n",
              "      <th>1</th>\n",
              "      <td>1</td>\n",
              "      <td>1_2017-11-04</td>\n",
              "      <td>Barbarians New Zealand</td>\n",
              "      <td>E09000006</td>\n",
              "      <td>Bromley</td>\n",
              "      <td>10</td>\n",
              "      <td>1.339</td>\n",
              "    </tr>\n",
              "  </tbody>\n",
              "</table>\n",
              "</div>"
            ],
            "text/plain": [
              "   venueid       eventid  ... count_spect_district perc_spect_district\n",
              "0        1  1_2017-11-04  ...                   10               1.339\n",
              "1        1  1_2017-11-04  ...                   10               1.339\n",
              "\n",
              "[2 rows x 7 columns]"
            ]
          },
          "metadata": {
            "tags": []
          },
          "execution_count": 39
        }
      ]
    },
    {
      "cell_type": "code",
      "metadata": {
        "id": "bBhaFRwm6EkN",
        "colab_type": "code",
        "outputId": "2965768a-3547-409d-e4aa-88ab31a74fdf",
        "colab": {
          "base_uri": "https://localhost:8080/",
          "height": 54
        }
      },
      "source": [
        "from google.colab import drive\n",
        "drive.mount('/content/drive')"
      ],
      "execution_count": 0,
      "outputs": [
        {
          "output_type": "stream",
          "text": [
            "Drive already mounted at /content/drive; to attempt to forcibly remount, call drive.mount(\"/content/drive\", force_remount=True).\n"
          ],
          "name": "stdout"
        }
      ]
    },
    {
      "cell_type": "code",
      "metadata": {
        "id": "rMBqz--g8sSf",
        "colab_type": "code",
        "colab": {}
      },
      "source": [
        "#import the london shapefiles from GoogleDrive\n",
        "pathdrive = 'drive/My Drive/Colab Notebooks/Shapefiles/District/Local_Authority_Districts_December_2017_Super_Generalised_Clipped_Boundaries_in_Great_Britain.shp'\n",
        "geom_data = gpd.read_file(pathdrive)"
      ],
      "execution_count": 0,
      "outputs": []
    },
    {
      "cell_type": "code",
      "metadata": {
        "id": "Ai_HGudA84Qm",
        "colab_type": "code",
        "outputId": "1b49bb64-500b-4467-994b-9206b79abb72",
        "colab": {
          "base_uri": "https://localhost:8080/",
          "height": 199
        }
      },
      "source": [
        "geom_data.head(2)"
      ],
      "execution_count": 0,
      "outputs": [
        {
          "output_type": "execute_result",
          "data": {
            "text/html": [
              "<div>\n",
              "<style scoped>\n",
              "    .dataframe tbody tr th:only-of-type {\n",
              "        vertical-align: middle;\n",
              "    }\n",
              "\n",
              "    .dataframe tbody tr th {\n",
              "        vertical-align: top;\n",
              "    }\n",
              "\n",
              "    .dataframe thead th {\n",
              "        text-align: right;\n",
              "    }\n",
              "</style>\n",
              "<table border=\"1\" class=\"dataframe\">\n",
              "  <thead>\n",
              "    <tr style=\"text-align: right;\">\n",
              "      <th></th>\n",
              "      <th>objectid</th>\n",
              "      <th>lad17cd</th>\n",
              "      <th>lad17nm</th>\n",
              "      <th>lad17nmw</th>\n",
              "      <th>bng_e</th>\n",
              "      <th>bng_n</th>\n",
              "      <th>long</th>\n",
              "      <th>lat</th>\n",
              "      <th>st_areasha</th>\n",
              "      <th>st_lengths</th>\n",
              "      <th>geometry</th>\n",
              "    </tr>\n",
              "  </thead>\n",
              "  <tbody>\n",
              "    <tr>\n",
              "      <th>0</th>\n",
              "      <td>1</td>\n",
              "      <td>E06000001</td>\n",
              "      <td>Hartlepool</td>\n",
              "      <td>None</td>\n",
              "      <td>447157</td>\n",
              "      <td>531476</td>\n",
              "      <td>-1.27023</td>\n",
              "      <td>54.676159</td>\n",
              "      <td>9.365265e+07</td>\n",
              "      <td>59467.502291</td>\n",
              "      <td>POLYGON ((447851.2015000004 537036.0043000001,...</td>\n",
              "    </tr>\n",
              "    <tr>\n",
              "      <th>1</th>\n",
              "      <td>2</td>\n",
              "      <td>E06000002</td>\n",
              "      <td>Middlesbrough</td>\n",
              "      <td>None</td>\n",
              "      <td>451141</td>\n",
              "      <td>516887</td>\n",
              "      <td>-1.21099</td>\n",
              "      <td>54.544670</td>\n",
              "      <td>5.410254e+07</td>\n",
              "      <td>38474.532954</td>\n",
              "      <td>(POLYGON ((450791.1017000005 520932.5039000008...</td>\n",
              "    </tr>\n",
              "  </tbody>\n",
              "</table>\n",
              "</div>"
            ],
            "text/plain": [
              "   objectid  ...                                           geometry\n",
              "0         1  ...  POLYGON ((447851.2015000004 537036.0043000001,...\n",
              "1         2  ...  (POLYGON ((450791.1017000005 520932.5039000008...\n",
              "\n",
              "[2 rows x 11 columns]"
            ]
          },
          "metadata": {
            "tags": []
          },
          "execution_count": 10
        }
      ]
    },
    {
      "cell_type": "code",
      "metadata": {
        "id": "tS6OirpK-QI7",
        "colab_type": "code",
        "outputId": "b7551854-4de6-4a9b-bbb7-db2f1bd56d65",
        "colab": {
          "base_uri": "https://localhost:8080/",
          "height": 34
        }
      },
      "source": [
        "len(geom_data)"
      ],
      "execution_count": 0,
      "outputs": [
        {
          "output_type": "execute_result",
          "data": {
            "text/plain": [
              "380"
            ]
          },
          "metadata": {
            "tags": []
          },
          "execution_count": 11
        }
      ]
    },
    {
      "cell_type": "code",
      "metadata": {
        "id": "2SybpiEI9MPl",
        "colab_type": "code",
        "colab": {}
      },
      "source": [
        "# CRS for London Ward\n",
        "crs = {'init': 'epsg:4326'}\n",
        "district = geom_data.to_crs({'init':'epsg:27700'})\n",
        "\n",
        "# rename the columns\n",
        "district = district.rename(columns={'lad17nm':'district_name','lad17cd':'district_id'})\n",
        "# Select only the columns of interest\n",
        "district = district[['district_id','district_name','geometry']]"
      ],
      "execution_count": 0,
      "outputs": []
    },
    {
      "cell_type": "code",
      "metadata": {
        "id": "jm2fVaOz9T57",
        "colab_type": "code",
        "outputId": "e43f3eb9-8475-474e-d284-07132d0d2629",
        "colab": {
          "base_uri": "https://localhost:8080/",
          "height": 111
        }
      },
      "source": [
        "district.head(2)"
      ],
      "execution_count": 0,
      "outputs": [
        {
          "output_type": "execute_result",
          "data": {
            "text/html": [
              "<div>\n",
              "<style scoped>\n",
              "    .dataframe tbody tr th:only-of-type {\n",
              "        vertical-align: middle;\n",
              "    }\n",
              "\n",
              "    .dataframe tbody tr th {\n",
              "        vertical-align: top;\n",
              "    }\n",
              "\n",
              "    .dataframe thead th {\n",
              "        text-align: right;\n",
              "    }\n",
              "</style>\n",
              "<table border=\"1\" class=\"dataframe\">\n",
              "  <thead>\n",
              "    <tr style=\"text-align: right;\">\n",
              "      <th></th>\n",
              "      <th>district_id</th>\n",
              "      <th>district_name</th>\n",
              "      <th>geometry</th>\n",
              "    </tr>\n",
              "  </thead>\n",
              "  <tbody>\n",
              "    <tr>\n",
              "      <th>0</th>\n",
              "      <td>E06000001</td>\n",
              "      <td>Hartlepool</td>\n",
              "      <td>POLYGON ((447851.2015000004 537036.0043000001,...</td>\n",
              "    </tr>\n",
              "    <tr>\n",
              "      <th>1</th>\n",
              "      <td>E06000002</td>\n",
              "      <td>Middlesbrough</td>\n",
              "      <td>(POLYGON ((450791.1017000005 520932.5039000008...</td>\n",
              "    </tr>\n",
              "  </tbody>\n",
              "</table>\n",
              "</div>"
            ],
            "text/plain": [
              "  district_id  district_name                                           geometry\n",
              "0   E06000001     Hartlepool  POLYGON ((447851.2015000004 537036.0043000001,...\n",
              "1   E06000002  Middlesbrough  (POLYGON ((450791.1017000005 520932.5039000008..."
            ]
          },
          "metadata": {
            "tags": []
          },
          "execution_count": 44
        }
      ]
    },
    {
      "cell_type": "code",
      "metadata": {
        "id": "zdh5K-KU9WG_",
        "colab_type": "code",
        "colab": {}
      },
      "source": [
        "# Join Districts SHP with data_homelocation_count\n",
        "jointable = pd.merge(data,district,how='right', on=['district_id'])\n",
        "jointable = jointable[['venueid','eventid','event','district_id','district_name_x','perc_spect_district','geometry']]\n",
        "jointable = jointable.sort_values('district_id').reset_index(drop=True)\n",
        "jointable['perc_spect_district'] = round(jointable['perc_spect_district'],3)"
      ],
      "execution_count": 0,
      "outputs": []
    },
    {
      "cell_type": "code",
      "metadata": {
        "id": "5prg9MVKXlBB",
        "colab_type": "code",
        "colab": {}
      },
      "source": [
        "#def GetDataFrame(datasource):\n",
        "  # Selection event\n",
        "\n",
        "    # Mergedata \n",
        "    dataevent = data[data['eventid']==e]\n",
        "    datajoin = pd.merge(dataevent,district,how='right',on=['district_id'])\n",
        "    datajoin = datajoin[['venueid','eventid','event','district_id','district_name_x','perc_spect_district','geometry']]\n",
        "    \n",
        "    # select the event name\n",
        "    eventname = datajoin['event'][0]\n",
        "    \n",
        "    # change to gdp\n",
        "    gpd_df = gpd.GeoDataFrame(datajoin, geometry='geometry', crs={'init': 'epsg:27700'})\n",
        "      \n",
        "    # If NaN -> change it to 0!   \n",
        "    values = {'venueid': 0, 'eventid':0,'perc_spect_district':0}  \n",
        "    gpd_df = gpd_df.fillna(value=values)\n",
        "      \n",
        "    # Selection the variable to plot\n",
        "    var_map = gpd_df['perc_spect_district']\n",
        "      \n",
        "    # Set the range for the choropleth\n",
        "    vmin = gpd_df['perc_spect_district'].min()\n",
        "    vmax = gpd_df['perc_spect_district'].max()\n",
        "      \n",
        "    # create figure and axes for Matplotlib\n",
        "    fig, ax = plt.subplots(1, figsize=(8, 10), dpi=200)\n",
        " #   fig, ax = plt.subplots(1, figsize=(18, 10))\n",
        " \n",
        "    # create map\n",
        "    gpd_df.plot(column=var_map, cmap='YlGn', linewidth=0.6, ax=ax, edgecolor='0.8')\n",
        "    \n",
        "    plt.suptitle('Event Catchment Area - Spectators Homelocation', fontsize=12, horizontalalignment = 'center')\n",
        "    plt.title(str(eventname), fontsize=10, horizontalalignment='center')\n",
        "    plt.xlabel('Longitude',fontsize=12, horizontalalignment='center')\n",
        "    plt.ylabel('Latitude',fontsize=12, horizontalalignment='center')\n",
        "    plt.xticks(horizontalalignment='center', fontsize=9)\n",
        "    plt.yticks(horizontalalignment='right', fontsize=9)\n",
        "    \n",
        "    ax.tick_params(axis='both', which='major', pad=6)\n",
        "    \n",
        "    sm = plt.cm.ScalarMappable(cmap='YlGn', norm=plt.Normalize(vmin=vmin, vmax=vmax))\n",
        "    sm._A = []\n",
        "\n",
        "    cbar = fig.colorbar(sm, orientation='horizontal',fraction=0.04, pad=0.09)\n",
        "    cbar.set_label('% Event Spectators (of total spectators with home)', size=11)\n",
        "    cbar.ax.xaxis.set_label_position('top')\n",
        "    cbar.ax.tick_params(labelsize=10)\n",
        "     \n",
        "    fig.tight_layout()\n",
        "    \n",
        "    plt.savefig('drive/My Drive/Dan - Meetings/Thesis Maps & Graphs/District_Home/Home_Spectators/district_map_'+str(eventname)+'.png')\n",
        "    \n",
        "    plt.close('all')\n",
        "    plt.show()"
      ],
      "execution_count": 0,
      "outputs": []
    },
    {
      "cell_type": "code",
      "metadata": {
        "id": "-QAIjPiT9oxl",
        "colab_type": "code",
        "colab": {}
      },
      "source": [
        "# Get the list of all the events\n",
        "event_list = data.eventid.unique()"
      ],
      "execution_count": 0,
      "outputs": []
    },
    {
      "cell_type": "code",
      "metadata": {
        "id": "HfRNQAkg_Qtr",
        "colab_type": "code",
        "colab": {}
      },
      "source": [
        "#Download images into google drive\n",
        "from google.colab import files"
      ],
      "execution_count": 0,
      "outputs": []
    },
    {
      "cell_type": "code",
      "metadata": {
        "id": "zLI0y8Ms9r58",
        "colab_type": "code",
        "colab": {}
      },
      "source": [
        "#def GetDataFrame(datasource):\n",
        "  # Selection event\n",
        "for e in event_list:\n",
        "    # Mergedata \n",
        "    dataevent = data[data['eventid']==e]\n",
        "    datajoin = pd.merge(dataevent,district,how='right',on=['district_id'])\n",
        "    datajoin = datajoin[['venueid','eventid','event','district_id','district_name_x','perc_spect_district','geometry']]\n",
        "    \n",
        "    # select the event name\n",
        "    eventname = datajoin['event'][0]\n",
        "    \n",
        "    # change to gdp\n",
        "    gpd_df = gpd.GeoDataFrame(datajoin, geometry='geometry', crs={'init': 'epsg:27700'})\n",
        "      \n",
        "    # If NaN -> change it to 0!   \n",
        "    values = {'venueid': 0, 'eventid':0,'perc_spect_district':0}  \n",
        "    gpd_df = gpd_df.fillna(value=values)\n",
        "      \n",
        "    # Selection the variable to plot\n",
        "    var_map = gpd_df['perc_spect_district']\n",
        "      \n",
        "    # Set the range for the choropleth\n",
        "    vmin = gpd_df['perc_spect_district'].min()\n",
        "    vmax = gpd_df['perc_spect_district'].max()\n",
        "      \n",
        "    # create figure and axes for Matplotlib\n",
        "    fig, ax = plt.subplots(1, figsize=(8, 10), dpi=200)\n",
        " #   fig, ax = plt.subplots(1, figsize=(18, 10))\n",
        " \n",
        "    # create map\n",
        "    gpd_df.plot(column=var_map, cmap='YlGn', linewidth=0.6, ax=ax, edgecolor='0.8')\n",
        "    \n",
        "    plt.suptitle('Event Catchment Area - Spectators Homelocation', fontsize=12, horizontalalignment = 'center')\n",
        "    plt.title(str(eventname), fontsize=10, horizontalalignment='center')\n",
        "    plt.xlabel('Longitude',fontsize=12, horizontalalignment='center')\n",
        "    plt.ylabel('Latitude',fontsize=12, horizontalalignment='center')\n",
        "    plt.xticks(horizontalalignment='center', fontsize=9)\n",
        "    plt.yticks(horizontalalignment='right', fontsize=9)\n",
        "    \n",
        "    ax.tick_params(axis='both', which='major', pad=6)\n",
        "    \n",
        "    sm = plt.cm.ScalarMappable(cmap='YlGn', norm=plt.Normalize(vmin=vmin, vmax=vmax))\n",
        "    sm._A = []\n",
        "\n",
        "    cbar = fig.colorbar(sm, orientation='horizontal',fraction=0.04, pad=0.09)\n",
        "    cbar.set_label('% Event Spectators (of total spectators with home)', size=11)\n",
        "    cbar.ax.xaxis.set_label_position('top')\n",
        "    cbar.ax.tick_params(labelsize=10)\n",
        "     \n",
        "    fig.tight_layout()\n",
        "    \n",
        "    plt.savefig('drive/My Drive/Dan - Meetings/Thesis Maps & Graphs/District_Home/Home_Spectators/district_map_'+str(eventname)+'.png')\n",
        "    \n",
        "    plt.close('all')\n",
        "    plt.show()"
      ],
      "execution_count": 0,
      "outputs": []
    },
    {
      "cell_type": "code",
      "metadata": {
        "id": "gfwuiXh1LpUI",
        "colab_type": "code",
        "colab": {}
      },
      "source": [
        "import os\n",
        "from google.colab import files\n",
        "\n",
        "folderpath = '/content/drive/My Drive/Dan - Meetings/Thesis Maps & Graphs/District_Home/Home_Spectators'\n",
        "\n",
        "for filename in os.listdir(folderpath):\n",
        "  #print(filename)\n",
        "  files.download(folderpath+'/'+str(filename))"
      ],
      "execution_count": 0,
      "outputs": []
    },
    {
      "cell_type": "code",
      "metadata": {
        "id": "XZMniuUmGwjb",
        "colab_type": "code",
        "colab": {}
      },
      "source": [
        "#SELECT only the districts around London\n",
        "select_district = ['South Bucks', 'Chiltern','Wycombe','Aylesbury Vale','Hastings','Rother','Wealden','Eastbourne','Lewes',\n",
        "                  'Harlow','Epping Forest','Brentwood','Basildon','Castle Point','Rochford','Maldon','Chelmsford','Uttlesford','Braintree','Colchester','Tendring',\n",
        "                  'Gosport','Fareham','Winchester','Havant','East Hampshire','Hart','Rushmoor','Basingstoke and Deane','Test Valley','Eastleigh','New Forest',\n",
        "                  'Three Rivers','Watford','Hertsmere','Welwyn Hatfield','Broxbourne','East Hertfordshire','Stevenage','North Hertfordshire','St Albans',\n",
        "                  'Dacorum','Dartford','Gravesham','Sevenoaks','Tonbridge and Malling','Tunbridge Wells','Maidstone','Swale','Ashford','Folkestone and Hythe',\n",
        "                  'Canterbury','Dover','Thanet','Oxford','Cherwell','South Oxfordshire','Vale of White Horse','West Oxfordshire','Spelthorne','Runnymede', \n",
        "                  'Surrey Heath','Woking','Elmbridge','Guildford','Waverley','Mole Valley','Epsom and Ewell','Reigate and Banstead','Tandridge','Worthing',\n",
        "                  'Arun','Chichester','Horsham','Crawley','Mid Sussex','Adur','City of London','Westminster','Kensington and Chelsea','Hammersmith and Fulham',\n",
        "                  'Wandsworth','Lambeth','Southwark','Tower Hamlets','Hackney','Islington','Camden','Brent','Ealing','Hounslow','Richmond upon Thames',\n",
        "                  'Kingston upon Thames','Merton','Sutton','Croydon','Bromley','Lewisham','Greenwich','Bexley','Havering','Barking and Dagenham',\n",
        "                  'Redbridge','Newham','Waltham Forest','Haringey','Enfield','Barnet','Harrow','Hillingdon','Bracknell Forest','Reading','Slough',\n",
        "                  'West Berkshire','Windsor and Maidenhead','Wokingham','Milton Keynes','Bedford','Central Bedfordshire','Luton','Southend-on-Sea',\n",
        "                   'Thurrock','Medway','Brighton and Hove','Portsmouth','Southampton','South Cambridgeshire','Cambridge','Shepway']"
      ],
      "execution_count": 0,
      "outputs": []
    },
    {
      "cell_type": "code",
      "metadata": {
        "id": "NOC_l7oIG5pR",
        "colab_type": "code",
        "colab": {}
      },
      "source": [
        "# Create a new Geopandas Dataframe for only the district we are interested in!\n",
        "new_gpd_list = []\n",
        "for i in select_district:\n",
        "    new = district[district['district_name']== i]\n",
        "    new_gpd_list.append(new)\n",
        "    new_gpd = pd.concat(new_gpd_list)"
      ],
      "execution_count": 0,
      "outputs": []
    },
    {
      "cell_type": "code",
      "metadata": {
        "id": "u0WkU1Y6G79n",
        "colab_type": "code",
        "outputId": "3b5384af-d64b-452d-8aec-259928f9a093",
        "colab": {
          "base_uri": "https://localhost:8080/",
          "height": 301
        }
      },
      "source": [
        "crs = {'init': 'epsg:4326'}\n",
        "new_gpd = new_gpd.to_crs({'init':'epsg:27700'})\n",
        "new_gpd.plot()"
      ],
      "execution_count": 0,
      "outputs": [
        {
          "output_type": "execute_result",
          "data": {
            "text/plain": [
              "<matplotlib.axes._subplots.AxesSubplot at 0x7f11b9f4c550>"
            ]
          },
          "metadata": {
            "tags": []
          },
          "execution_count": 163
        },
        {
          "output_type": "display_data",
          "data": {
            "image/png": "[encoded data removed]",
            "text/plain": [
              "<Figure size 432x288 with 1 Axes>"
            ]
          },
          "metadata": {
            "tags": []
          }
        }
      ]
    },
    {
      "cell_type": "code",
      "metadata": {
        "id": "iu-bc376HCgb",
        "colab_type": "code",
        "colab": {}
      },
      "source": [
        "# Join Districts SHP with data_homelocation_count\n",
        "jointable_selection = pd.merge(data,new_gpd,how='right', on=['district_id'])\n",
        "jointable_selection = jointable_selection[['venueid','eventid','event','district_id','district_name_x','perc_spect_district','geometry']]\n",
        "jointable_selection = jointable_selection.sort_values('district_id').reset_index(drop=True)\n",
        "jointable_selection['perc_spect_district'] = round(jointable_selection['perc_spect_district'],3)"
      ],
      "execution_count": 0,
      "outputs": []
    },
    {
      "cell_type": "code",
      "metadata": {
        "id": "aJ0h2ARkHDDq",
        "colab_type": "code",
        "outputId": "05963e6b-011e-40b6-92c2-106063bb30d0",
        "colab": {
          "base_uri": "https://localhost:8080/",
          "height": 145
        }
      },
      "source": [
        "jointable_selection.head(2)"
      ],
      "execution_count": 0,
      "outputs": [
        {
          "output_type": "execute_result",
          "data": {
            "text/html": [
              "<div>\n",
              "<style scoped>\n",
              "    .dataframe tbody tr th:only-of-type {\n",
              "        vertical-align: middle;\n",
              "    }\n",
              "\n",
              "    .dataframe tbody tr th {\n",
              "        vertical-align: top;\n",
              "    }\n",
              "\n",
              "    .dataframe thead th {\n",
              "        text-align: right;\n",
              "    }\n",
              "</style>\n",
              "<table border=\"1\" class=\"dataframe\">\n",
              "  <thead>\n",
              "    <tr style=\"text-align: right;\">\n",
              "      <th></th>\n",
              "      <th>venueid</th>\n",
              "      <th>eventid</th>\n",
              "      <th>event</th>\n",
              "      <th>district_id</th>\n",
              "      <th>district_name_x</th>\n",
              "      <th>perc_spect_district</th>\n",
              "      <th>geometry</th>\n",
              "    </tr>\n",
              "  </thead>\n",
              "  <tbody>\n",
              "    <tr>\n",
              "      <th>0</th>\n",
              "      <td>2</td>\n",
              "      <td>2_2017-12-16</td>\n",
              "      <td>Watford Huddersfield</td>\n",
              "      <td>E06000032</td>\n",
              "      <td>Luton</td>\n",
              "      <td>0.637</td>\n",
              "      <td>POLYGON ((509634.1982000005 224769.9995000008,...</td>\n",
              "    </tr>\n",
              "    <tr>\n",
              "      <th>1</th>\n",
              "      <td>1</td>\n",
              "      <td>1_2017-11-11</td>\n",
              "      <td>England Argentina</td>\n",
              "      <td>E06000032</td>\n",
              "      <td>Luton</td>\n",
              "      <td>0.243</td>\n",
              "      <td>POLYGON ((509634.1982000005 224769.9995000008,...</td>\n",
              "    </tr>\n",
              "  </tbody>\n",
              "</table>\n",
              "</div>"
            ],
            "text/plain": [
              "   venueid  ...                                           geometry\n",
              "0        2  ...  POLYGON ((509634.1982000005 224769.9995000008,...\n",
              "1        1  ...  POLYGON ((509634.1982000005 224769.9995000008,...\n",
              "\n",
              "[2 rows x 7 columns]"
            ]
          },
          "metadata": {
            "tags": []
          },
          "execution_count": 147
        }
      ]
    },
    {
      "cell_type": "code",
      "metadata": {
        "id": "2o8-AGjmHMTK",
        "colab_type": "code",
        "colab": {}
      },
      "source": [
        "#def GetDataFrame(datasource):\n",
        "  # Selection event\n",
        "for e in event_list:\n",
        "    # Mergedata \n",
        "    dataevent = data[data['eventid']==e]\n",
        "    datajoin = pd.merge(dataevent,new_gpd,how='right',on=['district_id'])\n",
        "    datajoin = datajoin[['venueid','eventid','event','district_id','district_name_x','perc_spect_district','geometry']]\n",
        "    \n",
        "    # select the event name\n",
        "    eventname = datajoin['event'][0]\n",
        "    \n",
        "    # change to gdp\n",
        "    gpd_df = gpd.GeoDataFrame(datajoin, geometry='geometry', crs={'init': 'epsg:27700'})\n",
        "      \n",
        "    # If NaN -> change it to 0!   \n",
        "    values = {'venueid': 0, 'eventid':0,'perc_spect_district':0}  \n",
        "    gpd_df = gpd_df.fillna(value=values)\n",
        "      \n",
        "    # Selection the variable to plot\n",
        "    var_map = gpd_df['perc_spect_district']\n",
        "      \n",
        "    # Set the range for the choropleth\n",
        "    vmin = gpd_df['perc_spect_district'].min()\n",
        "    vmax = gpd_df['perc_spect_district'].max()\n",
        "      \n",
        "    # create figure and axes for Matplotlib\n",
        "    fig, ax = plt.subplots(1, figsize=(8, 7.5), dpi=200)\n",
        "  #  fig, ax = plt.subplots(1, figsize=(8, 7.5))\n",
        " \n",
        "    # create map\n",
        "    gpd_df.plot(column=var_map, cmap='YlGn', linewidth=0.6, ax=ax, edgecolor='0.8')\n",
        "    \n",
        "#    plt.suptitle('Event Catchment Area - Spectators Homelocation', fontsize=12, horizontalalignment = 'center')\n",
        "    plt.title(str(eventname) + ' - Catchment Area', fontsize=12, horizontalalignment='center')\n",
        "    plt.xlabel('Longitude',fontsize=12, horizontalalignment='center')\n",
        "    plt.ylabel('Latitude',fontsize=12, horizontalalignment='center')\n",
        "    plt.xticks(horizontalalignment='center', fontsize=9)\n",
        "    plt.yticks(horizontalalignment='right', fontsize=9)\n",
        "    \n",
        "    ax.tick_params(axis='both', which='major', pad=6)\n",
        "    \n",
        "    sm = plt.cm.ScalarMappable(cmap='YlGn', norm=plt.Normalize(vmin=vmin, vmax=vmax))\n",
        "    sm._A = []\n",
        "\n",
        "    cbar = fig.colorbar(sm, orientation='horizontal',fraction=0.04, pad=0.13)\n",
        "    cbar.set_label('% Event Spectators (of total spectators with home)', size=11)\n",
        "    cbar.ax.xaxis.set_label_position('top')\n",
        "    cbar.ax.tick_params(labelsize=10)\n",
        "     \n",
        "    fig.tight_layout()\n",
        "    \n",
        "    plt.savefig('drive/My Drive/Dan - Meetings/Thesis Maps & Graphs/District_Selection_Home/Home_Spectators/district_selection_map_'+str(eventname)+'.png')\n",
        "    \n",
        "    plt.close('all')\n",
        "    plt.show()"
      ],
      "execution_count": 0,
      "outputs": []
    },
    {
      "cell_type": "code",
      "metadata": {
        "id": "2_QQPqUreQNQ",
        "colab_type": "code",
        "colab": {}
      },
      "source": [
        "import os\n",
        "from google.colab import files\n",
        "\n",
        "folderpath = '/content/drive/My Drive/Dan - Meetings/Thesis Maps & Graphs/District_Selection_Home/Home_Spectators'\n",
        "\n",
        "for filename in os.listdir(folderpath):\n",
        " # print(filename)\n",
        "  files.download(folderpath+'/'+str(filename))"
      ],
      "execution_count": 0,
      "outputs": []
    }
  ]
}
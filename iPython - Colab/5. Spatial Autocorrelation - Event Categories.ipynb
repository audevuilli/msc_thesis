{
  "nbformat": 4,
  "nbformat_minor": 0,
  "metadata": {
    "colab": {
      "name": "EventType - Spatial Autocorrelation - Moran & co.",
      "version": "0.3.2",
      "provenance": []
    },
    "kernelspec": {
      "name": "python3",
      "display_name": "Python 3"
    }
  },
  "cells": [
    {
      "cell_type": "code",
      "metadata": {
        "id": "O1YVpE9oELrO",
        "colab_type": "code",
        "outputId": "5ace13b1-d077-4fe4-bebb-c78563b8d06e",
        "colab": {
          "base_uri": "https://localhost:8080/",
          "height": 1000
        }
      },
      "source": [
        "%%time \n",
        "\n",
        "# Install GDAL and Geopandas\n",
        "!apt install gdal-bin python-gdal python3-gdal --quiet\n",
        "!apt install python3-rtree --quiet\n",
        "!pip install git+git://github.com/geopandas/geopandas.git --quiet\n",
        "!pip install descartes --quiet\n",
        "\n",
        "# Install geovisualization libraries\n",
        "!pip install folium  --quiet\n",
        "!pip install plotly_express  --quiet\n",
        "!pip install mapclassify --quiet\n",
        "\n",
        "# Install Pysal - Spatial Statistics\n",
        "!pip install pysal --quiet\n",
        "!pip install splot --quiet"
      ],
      "execution_count": 0,
      "outputs": [
        {
          "output_type": "stream",
          "text": [
            "Reading package lists...\n",
            "Building dependency tree...\n",
            "Reading state information...\n",
            "gdal-bin is already the newest version (2.2.3+dfsg-2).\n",
            "python-gdal is already the newest version (2.2.3+dfsg-2).\n",
            "python3-gdal is already the newest version (2.2.3+dfsg-2).\n",
            "0 upgraded, 0 newly installed, 0 to remove and 14 not upgraded.\n",
            "Reading package lists...\n",
            "Building dependency tree...\n",
            "Reading state information...\n",
            "The following additional packages will be installed:\n",
            "  libspatialindex-c4v5 libspatialindex-dev libspatialindex4v5\n",
            "  python3-pkg-resources\n",
            "Suggested packages:\n",
            "  python3-setuptools\n",
            "The following NEW packages will be installed:\n",
            "  libspatialindex-c4v5 libspatialindex-dev libspatialindex4v5\n",
            "  python3-pkg-resources python3-rtree\n",
            "0 upgraded, 5 newly installed, 0 to remove and 14 not upgraded.\n",
            "Need to get 671 kB of archives.\n",
            "After this operation, 3,948 kB of additional disk space will be used.\n",
            "Get:1 http://archive.ubuntu.com/ubuntu bionic/universe amd64 libspatialindex4v5 amd64 1.8.5-5 [219 kB]\n",
            "Get:2 http://archive.ubuntu.com/ubuntu bionic/universe amd64 libspatialindex-c4v5 amd64 1.8.5-5 [51.7 kB]\n",
            "Get:3 http://archive.ubuntu.com/ubuntu bionic/main amd64 python3-pkg-resources all 39.0.1-2 [98.8 kB]\n",
            "Get:4 http://archive.ubuntu.com/ubuntu bionic/universe amd64 libspatialindex-dev amd64 1.8.5-5 [285 kB]\n",
            "Get:5 http://archive.ubuntu.com/ubuntu bionic/universe amd64 python3-rtree all 0.8.3+ds-1 [16.9 kB]\n",
            "Fetched 671 kB in 1s (523 kB/s)\n",
            "Selecting previously unselected package libspatialindex4v5:amd64.\n",
            "(Reading database ... 131183 files and directories currently installed.)\n",
            "Preparing to unpack .../libspatialindex4v5_1.8.5-5_amd64.deb ...\n",
            "Unpacking libspatialindex4v5:amd64 (1.8.5-5) ...\n",
            "Selecting previously unselected package libspatialindex-c4v5:amd64.\n",
            "Preparing to unpack .../libspatialindex-c4v5_1.8.5-5_amd64.deb ...\n",
            "Unpacking libspatialindex-c4v5:amd64 (1.8.5-5) ...\n",
            "Selecting previously unselected package python3-pkg-resources.\n",
            "Preparing to unpack .../python3-pkg-resources_39.0.1-2_all.deb ...\n",
            "Unpacking python3-pkg-resources (39.0.1-2) ...\n",
            "Selecting previously unselected package libspatialindex-dev:amd64.\n",
            "Preparing to unpack .../libspatialindex-dev_1.8.5-5_amd64.deb ...\n",
            "Unpacking libspatialindex-dev:amd64 (1.8.5-5) ...\n",
            "Selecting previously unselected package python3-rtree.\n",
            "Preparing to unpack .../python3-rtree_0.8.3+ds-1_all.deb ...\n",
            "Unpacking python3-rtree (0.8.3+ds-1) ...\n",
            "Setting up libspatialindex4v5:amd64 (1.8.5-5) ...\n",
            "Setting up python3-pkg-resources (39.0.1-2) ...\n",
            "Setting up libspatialindex-c4v5:amd64 (1.8.5-5) ...\n",
            "Processing triggers for libc-bin (2.27-3ubuntu1) ...\n",
            "Setting up libspatialindex-dev:amd64 (1.8.5-5) ...\n",
            "Setting up python3-rtree (0.8.3+ds-1) ...\n",
            "\u001b[K     |████████████████████████████████| 17.9MB 4.4MB/s \n",
            "\u001b[K     |████████████████████████████████| 9.8MB 16.9MB/s \n",
            "\u001b[?25h  Building wheel for geopandas (setup.py) ... \u001b[?25l\u001b[?25hdone\n",
            "  Building wheel for munch (setup.py) ... \u001b[?25l\u001b[?25hdone\n",
            "\u001b[K     |████████████████████████████████| 7.1MB 4.8MB/s \n",
            "\u001b[?25h  Building wheel for mapclassify (setup.py) ... \u001b[?25l\u001b[?25hdone\n",
            "\u001b[K     |████████████████████████████████| 25.0MB 49.6MB/s \n",
            "\u001b[?25h  Building wheel for pysal (setup.py) ... \u001b[?25l\u001b[?25hdone\n",
            "\u001b[K     |████████████████████████████████| 24.4MB 1.6MB/s \n",
            "\u001b[K     |████████████████████████████████| 61kB 23.0MB/s \n",
            "\u001b[K     |████████████████████████████████| 194kB 49.1MB/s \n",
            "\u001b[K     |████████████████████████████████| 61kB 23.3MB/s \n",
            "\u001b[?25h  Building wheel for splot (setup.py) ... \u001b[?25l\u001b[?25hdone\n",
            "  Building wheel for libpysal (setup.py) ... \u001b[?25l\u001b[?25hdone\n",
            "  Building wheel for esda (setup.py) ... \u001b[?25l\u001b[?25hdone\n",
            "  Building wheel for spreg (setup.py) ... \u001b[?25l\u001b[?25hdone\n",
            "  Building wheel for giddy (setup.py) ... \u001b[?25l\u001b[?25hdone\n",
            "CPU times: user 975 ms, sys: 223 ms, total: 1.2 s\n",
            "Wall time: 1min 35s\n"
          ],
          "name": "stdout"
        }
      ]
    },
    {
      "cell_type": "code",
      "metadata": {
        "id": "BNIo8nsAECHY",
        "colab_type": "code",
        "outputId": "f4892f1e-ba86-4afb-a477-b72a1f9e3cf2",
        "colab": {
          "base_uri": "https://localhost:8080/",
          "height": 122
        }
      },
      "source": [
        "# Importing libraries\n",
        "import pandas as pd \n",
        "import numpy as np\n",
        "import geopandas as gpd\n",
        "import fiona\n",
        "\n",
        "\n",
        "import matplotlib.pyplot as plt\n",
        "%matplotlib inline \n",
        "import seaborn as sns\n",
        "\n",
        "import folium \n",
        "import plotly\n",
        "import plotly_express as px\n",
        "\n",
        "from libpysal.weights.contiguity import Queen\n",
        "from esda.moran import Moran\n",
        "from esda.geary import Geary\n",
        "from esda.getisord import G\n",
        "from splot.esda import moran_scatterplot\n",
        "from esda.moran import Moran_Local\n",
        "from esda.getisord import G_Local\n",
        "from splot.esda import lisa_cluster\n",
        "from pysal.explore import esda\n",
        "from pysal.lib import weights\n",
        "import pysal as ps"
      ],
      "execution_count": 0,
      "outputs": [
        {
          "output_type": "stream",
          "text": [
            "/usr/local/lib/python3.6/dist-packages/pysal/explore/segregation/network/network.py:16: UserWarning:\n",
            "\n",
            "You need pandana and urbanaccess to work with segregation's network module\n",
            "You can install them with  `pip install urbanaccess pandana` or `conda install -c udst pandana urbanaccess`\n",
            "\n"
          ],
          "name": "stderr"
        }
      ]
    },
    {
      "cell_type": "code",
      "metadata": {
        "id": "tjsdm7S0E9Pj",
        "colab_type": "code",
        "colab": {}
      },
      "source": [
        "from google.colab import auth\n",
        "auth.authenticate_user()\n",
        "print('Authenticated')"
      ],
      "execution_count": 0,
      "outputs": []
    },
    {
      "cell_type": "code",
      "metadata": {
        "id": "dRAL3MLXFAkQ",
        "colab_type": "code",
        "colab": {}
      },
      "source": [
        "from google.cloud import bigquery\n",
        "client = bigquery.Client('thesisprojects2019')"
      ],
      "execution_count": 0,
      "outputs": []
    },
    {
      "cell_type": "code",
      "metadata": {
        "id": "a8PjJRt0FD-c",
        "colab_type": "code",
        "outputId": "3623b9ba-79e8-43c2-a4bc-9bf4692b3a63",
        "colab": {
          "base_uri": "https://localhost:8080/",
          "height": 54
        }
      },
      "source": [
        "from google.colab import drive\n",
        "drive.mount('/content/drive')"
      ],
      "execution_count": 0,
      "outputs": [
        {
          "output_type": "stream",
          "text": [
            "Drive already mounted at /content/drive; to attempt to forcibly remount, call drive.mount(\"/content/drive\", force_remount=True).\n"
          ],
          "name": "stdout"
        }
      ]
    },
    {
      "cell_type": "markdown",
      "metadata": {
        "id": "UPq0OeQBcGg8",
        "colab_type": "text"
      },
      "source": [
        "### London Wards Maps - Event and Venue Profile\n",
        "### Statistical - Spatial Autocorrelation\n"
      ]
    },
    {
      "cell_type": "code",
      "metadata": {
        "id": "h4IDhomtFKtX",
        "colab_type": "code",
        "colab": {}
      },
      "source": [
        "#import london statistic table from bigquery\n",
        "query = \"\"\" SELECT * FROM `thesisprojects2019.audeMS.step10_eventtype_london_homelocation_spectatorswithhome` \n",
        "                 ORDER BY event_type, ward_id \"\"\"\n",
        "data = client.query(query).to_dataframe()"
      ],
      "execution_count": 0,
      "outputs": []
    },
    {
      "cell_type": "code",
      "metadata": {
        "id": "vnJp5o98G1yt",
        "colab_type": "code",
        "outputId": "36d2fcde-8864-4623-fa49-a528d63a6081",
        "colab": {
          "base_uri": "https://localhost:8080/",
          "height": 199
        }
      },
      "source": [
        "data['venue_eventtype'] = data[['event_type', 'venue']].apply(lambda x: ' - '.join(x), axis=1)\n",
        "data.head(2)"
      ],
      "execution_count": 0,
      "outputs": [
        {
          "output_type": "execute_result",
          "data": {
            "text/html": [
              "<div>\n",
              "<style scoped>\n",
              "    .dataframe tbody tr th:only-of-type {\n",
              "        vertical-align: middle;\n",
              "    }\n",
              "\n",
              "    .dataframe tbody tr th {\n",
              "        vertical-align: top;\n",
              "    }\n",
              "\n",
              "    .dataframe thead th {\n",
              "        text-align: right;\n",
              "    }\n",
              "</style>\n",
              "<table border=\"1\" class=\"dataframe\">\n",
              "  <thead>\n",
              "    <tr style=\"text-align: right;\">\n",
              "      <th></th>\n",
              "      <th>venue</th>\n",
              "      <th>event_type</th>\n",
              "      <th>ward_id</th>\n",
              "      <th>ward_name</th>\n",
              "      <th>count_spect_london</th>\n",
              "      <th>perc_spectators_london</th>\n",
              "      <th>venue_eventtype</th>\n",
              "    </tr>\n",
              "  </thead>\n",
              "  <tbody>\n",
              "    <tr>\n",
              "      <th>0</th>\n",
              "      <td>wembley stadium</td>\n",
              "      <td>Champions League</td>\n",
              "      <td>E05000028</td>\n",
              "      <td>Becontree</td>\n",
              "      <td>1</td>\n",
              "      <td>0.04</td>\n",
              "      <td>Champions League - wembley stadium</td>\n",
              "    </tr>\n",
              "    <tr>\n",
              "      <th>1</th>\n",
              "      <td>wembley stadium</td>\n",
              "      <td>Champions League</td>\n",
              "      <td>E05000030</td>\n",
              "      <td>Eastbrook</td>\n",
              "      <td>3</td>\n",
              "      <td>0.12</td>\n",
              "      <td>Champions League - wembley stadium</td>\n",
              "    </tr>\n",
              "  </tbody>\n",
              "</table>\n",
              "</div>"
            ],
            "text/plain": [
              "             venue  ...                     venue_eventtype\n",
              "0  wembley stadium  ...  Champions League - wembley stadium\n",
              "1  wembley stadium  ...  Champions League - wembley stadium\n",
              "\n",
              "[2 rows x 7 columns]"
            ]
          },
          "metadata": {
            "tags": []
          },
          "execution_count": 8
        }
      ]
    },
    {
      "cell_type": "code",
      "metadata": {
        "id": "qkzrZdnSFY4J",
        "colab_type": "code",
        "outputId": "225c190a-91da-4471-c893-db5ac0b26ae5",
        "colab": {
          "base_uri": "https://localhost:8080/",
          "height": 199
        }
      },
      "source": [
        "#import the london shapefiles from GoogleDrive\n",
        "pathdrive = 'drive/My Drive/Colab Notebooks/Shapefiles/London/London_Ward_CityMerged.shp'\n",
        "geom_data = gpd.read_file(pathdrive)\n",
        "geom_data.head(2)"
      ],
      "execution_count": 0,
      "outputs": [
        {
          "output_type": "execute_result",
          "data": {
            "text/html": [
              "<div>\n",
              "<style scoped>\n",
              "    .dataframe tbody tr th:only-of-type {\n",
              "        vertical-align: middle;\n",
              "    }\n",
              "\n",
              "    .dataframe tbody tr th {\n",
              "        vertical-align: top;\n",
              "    }\n",
              "\n",
              "    .dataframe thead th {\n",
              "        text-align: right;\n",
              "    }\n",
              "</style>\n",
              "<table border=\"1\" class=\"dataframe\">\n",
              "  <thead>\n",
              "    <tr style=\"text-align: right;\">\n",
              "      <th></th>\n",
              "      <th>NAME</th>\n",
              "      <th>GSS_CODE</th>\n",
              "      <th>DISTRICT</th>\n",
              "      <th>LAGSSCODE</th>\n",
              "      <th>HECTARES</th>\n",
              "      <th>NONLD_AREA</th>\n",
              "      <th>geometry</th>\n",
              "    </tr>\n",
              "  </thead>\n",
              "  <tbody>\n",
              "    <tr>\n",
              "      <th>0</th>\n",
              "      <td>Chessington South</td>\n",
              "      <td>E05000405</td>\n",
              "      <td>Kingston upon Thames</td>\n",
              "      <td>E09000021</td>\n",
              "      <td>755.173</td>\n",
              "      <td>0.0</td>\n",
              "      <td>POLYGON ((516401.5959642464 160201.8020401799,...</td>\n",
              "    </tr>\n",
              "    <tr>\n",
              "      <th>1</th>\n",
              "      <td>Tolworth and Hook Rise</td>\n",
              "      <td>E05000414</td>\n",
              "      <td>Kingston upon Thames</td>\n",
              "      <td>E09000021</td>\n",
              "      <td>259.464</td>\n",
              "      <td>0.0</td>\n",
              "      <td>POLYGON ((519552.9984840818 164295.60020387, 5...</td>\n",
              "    </tr>\n",
              "  </tbody>\n",
              "</table>\n",
              "</div>"
            ],
            "text/plain": [
              "                     NAME  ...                                           geometry\n",
              "0       Chessington South  ...  POLYGON ((516401.5959642464 160201.8020401799,...\n",
              "1  Tolworth and Hook Rise  ...  POLYGON ((519552.9984840818 164295.60020387, 5...\n",
              "\n",
              "[2 rows x 7 columns]"
            ]
          },
          "metadata": {
            "tags": []
          },
          "execution_count": 9
        }
      ]
    },
    {
      "cell_type": "code",
      "metadata": {
        "id": "4vBYs64AndHa",
        "colab_type": "code",
        "colab": {}
      },
      "source": [
        "# CRS for London Ward\n",
        "crs = {'init': 'epsg:4326'}\n",
        "lnd_ward = geom_data.to_crs({'init':'epsg:27700'})\n",
        "\n",
        "# rename the columns\n",
        "lnd_ward = lnd_ward.rename(columns={'NAME':'ward_name','GSS_CODE':'ward_id'})\n",
        "# Select only the columns of interest\n",
        "lnd_ward = lnd_ward[['ward_name','ward_id','geometry']]"
      ],
      "execution_count": 0,
      "outputs": []
    },
    {
      "cell_type": "code",
      "metadata": {
        "id": "JV0RioPaTynA",
        "colab_type": "code",
        "colab": {}
      },
      "source": [
        "# Create the list of event\n",
        "venue_eventtype_list = []\n",
        "for i in data.venue_eventtype:\n",
        "    if i not in venue_eventtype_list:\n",
        "        venue_eventtype_list.append(i)"
      ],
      "execution_count": 0,
      "outputs": []
    },
    {
      "cell_type": "code",
      "metadata": {
        "id": "6SwYRaMhTs9d",
        "colab_type": "code",
        "colab": {}
      },
      "source": [
        "# Create a function to selection a subset of the dataframe - only values related to specific event!\n",
        "def new_df(event_venue_type):\n",
        "  data_event = data[data['venue_eventtype']==event_venue_type]\n",
        "  return data_event"
      ],
      "execution_count": 0,
      "outputs": []
    },
    {
      "cell_type": "markdown",
      "metadata": {
        "id": "UAEFbrvmeJRw",
        "colab_type": "text"
      },
      "source": [
        "### GLOBAL SPATIAL AUTOCORRELATION "
      ]
    },
    {
      "cell_type": "code",
      "metadata": {
        "id": "-ePMd7Sm2YSQ",
        "colab_type": "code",
        "colab": {}
      },
      "source": [
        "### GLOBAL SPATIAL AUTOCORRELATION \n",
        "\n",
        "# create a new list to store the event name\n",
        "event_name_list = []\n",
        "# create lists to store the moran statistic values for each event\n",
        "moran_stat_list = []\n",
        "moran_expect_list = []\n",
        "moran_var_list = []\n",
        "moran_pvalue_list = []\n",
        "moran_stdev_list = []\n",
        "# create lists to store the geary statistic values for each event\n",
        "geary_stat_list = []\n",
        "geary_expect_list = []\n",
        "geary_var_list = []\n",
        "geary_pvalue_list = []\n",
        "geary_stdev_list = []\n",
        "# create lists to store the getis statistic values for each event\n",
        "geti_stat_list = []\n",
        "geti_expect_list = []\n",
        "geti_var_list = []\n",
        "geti_pvalue_list = []\n",
        "geti_stdev_list = []\n",
        "\n",
        "for e in venue_eventtype_list:\n",
        "  # Mergedata\n",
        "  data_event = data[data['venue_eventtype']==e]\n",
        "  \n",
        "  datajoin = pd.merge(data_event,lnd_ward,how='right',on=['ward_id'])\n",
        "  datajoin = datajoin[['venue','event_type','venue_eventtype','ward_id','ward_name_x','perc_spectators_london','geometry']]\n",
        "  \n",
        "  # select the event name\n",
        "  eventname = datajoin['venue_eventtype'][0]\n",
        "  event_name_list.append(eventname) \n",
        "\n",
        "  # change to gdp\n",
        "  gpd_df = gpd.GeoDataFrame(datajoin, geometry='geometry', crs={'init': 'epsg:27700'})\n",
        "     \n",
        "  # If NaN -> change it to 0!   \n",
        "  values = {'venue': 0, 'event_type':0,'perc_spectators_london':0}  \n",
        "  gpd_df = gpd_df.fillna(value=values)\n",
        "  \n",
        "  # Create y variable values for the event - percentage spectators per ward!\n",
        "  ye = gpd_df['perc_spectators_london'].values\n",
        "\n",
        "  # Get Weights (Queen) - standardize them -- Spatial Weight Matrix\n",
        "  wqs = Queen.from_dataframe(gpd_df)\n",
        "  wqs.transform = 'r'\n",
        "    \n",
        "  # Calculate Moran's I - Global Spatial Autocorrelation\n",
        "  # Do we have clustered values (close to 1) or dispersed values (close to -1)\n",
        "  moran = Moran(ye, wqs)\n",
        "  moran_statistic = moran.I\n",
        "  moran_stat_list.append(moran_statistic)\n",
        "  \n",
        "  # Moran Expected Value under normality assumption\n",
        "  moran_expected = moran.EI\n",
        "  moran_expect_list.append(moran_expected)\n",
        "  \n",
        "  # Moran Variance Value under normality assumption\n",
        "  moran_var = moran.VI_norm\n",
        "  moran_var_list.append(moran_var)\n",
        "  \n",
        "  # Moran p-value under normality assumption  \n",
        "  moran_pvalue = moran.p_norm  \n",
        "  moran_pvalue_list.append(moran_pvalue)  \n",
        "  \n",
        "  # Moran Standard Deviation Value under normality assumption\n",
        "  moran_stdev = moran.seI_norm\n",
        "  moran_stdev_list.append(moran_stdev)\n",
        "    \n",
        "  \n",
        "  # Calculate Geary's C - Global Spatial Autocorrelation\n",
        "  # Do similar values clustered or do dissimilar values clustered?\n",
        "  geary = Geary(ye, wqs)  \n",
        "  geary_statistic = geary.C\n",
        "  geary_stat_list.append(geary_statistic)\n",
        "  \n",
        "  # Geary's C Expected Value under normality assumption\n",
        "  geary_expected = geary.EC\n",
        "  geary_expect_list.append(geary_expected)\n",
        "  \n",
        "   # Geary's C Expected Value under normality assumption\n",
        " # geary_var = geary.VC\n",
        " # geary_var_list.append(geary_var)\n",
        "  \n",
        "  # Geary's C p-value under normality assumption  \n",
        "  geary_pvalue = geary.p_norm  \n",
        "  geary_pvalue_list.append(geary_pvalue) \n",
        "  \n",
        "  # Geary's C Standard Normal Test Statistic under normality assumption\n",
        "  geary_stdev = geary.z_norm\n",
        "  geary_stdev_list.append(geary_stdev)\n",
        "  \n",
        "  \n",
        "  # Calculate Getis Ord General G. - Global Spatial Autocorrelation\n",
        "  # Do High or Low values clustered? \n",
        "  # G > Expected => High values clustering | G < Expected => Low values clustering\n",
        "  geti = G(ye, wqs)  \n",
        "  geti_statistic = geti.G\n",
        "  geti_stat_list.append(geti_statistic)\n",
        "  \n",
        "  #Getis Ord General G Expected Value under normality assumption\n",
        "  geti_expected = geti.EG\n",
        "  geti_expect_list.append(geti_expected)\n",
        "  \n",
        "  #Getis Ord General G Expected Value under normality assumption\n",
        "  geti_var = geti.VG\n",
        "  geti_var_list.append(geti_var)\n",
        "  \n",
        "  #Getis Ord General G p-value under normality assumption  \n",
        "  geti_pvalue = geti.p_norm  \n",
        "  geti_pvalue_list.append(geti_pvalue) \n",
        "  \n",
        "  #Getis Ord General G Standard Normal Test Statistic under normality assumption\n",
        "  geti_stdev = geti.z_norm\n",
        "  geti_stdev_list.append(geti_stdev) \n"
      ],
      "execution_count": 0,
      "outputs": []
    },
    {
      "cell_type": "code",
      "metadata": {
        "id": "varEVdkfPrmr",
        "colab_type": "code",
        "outputId": "20630839-3729-4be1-fa57-3fb94013307a",
        "colab": {
          "base_uri": "https://localhost:8080/",
          "height": 233
        }
      },
      "source": [
        "spatial_autocorr = pd.DataFrame({'event_name_list':event_name_list,'moran_stat_list':moran_stat_list, 'moran_expect_list':moran_expect_list, \n",
        "                                 'moran_var_list':moran_var_list, 'moran_pvalue_list':moran_pvalue_list, 'moran_stdev_list':moran_stdev_list, \n",
        "                                 'geary_stat_list':geary_stat_list, 'geary_expect_list':geary_expect_list, 'geary_pvalue_list':geary_pvalue_list, 'geary_stdev_list':geary_stdev_list,\n",
        "                                 'geti_stat_list':geti_stat_list, 'geti_expect_list':geti_expect_list, 'geti_var_list':geti_var_list, 'geti_pvalue_list':geti_pvalue_list, 'geti_stdev_list':geti_stdev_list})\n",
        "spatial_autocorr.head(2)"
      ],
      "execution_count": 0,
      "outputs": [
        {
          "output_type": "execute_result",
          "data": {
            "text/html": [
              "<div>\n",
              "<style scoped>\n",
              "    .dataframe tbody tr th:only-of-type {\n",
              "        vertical-align: middle;\n",
              "    }\n",
              "\n",
              "    .dataframe tbody tr th {\n",
              "        vertical-align: top;\n",
              "    }\n",
              "\n",
              "    .dataframe thead th {\n",
              "        text-align: right;\n",
              "    }\n",
              "</style>\n",
              "<table border=\"1\" class=\"dataframe\">\n",
              "  <thead>\n",
              "    <tr style=\"text-align: right;\">\n",
              "      <th></th>\n",
              "      <th>event_name_list</th>\n",
              "      <th>moran_stat_list</th>\n",
              "      <th>moran_expect_list</th>\n",
              "      <th>moran_var_list</th>\n",
              "      <th>moran_pvalue_list</th>\n",
              "      <th>moran_stdev_list</th>\n",
              "      <th>geary_stat_list</th>\n",
              "      <th>geary_expect_list</th>\n",
              "      <th>geary_pvalue_list</th>\n",
              "      <th>geary_stdev_list</th>\n",
              "      <th>geti_stat_list</th>\n",
              "      <th>geti_expect_list</th>\n",
              "      <th>geti_var_list</th>\n",
              "      <th>geti_pvalue_list</th>\n",
              "      <th>geti_stdev_list</th>\n",
              "    </tr>\n",
              "  </thead>\n",
              "  <tbody>\n",
              "    <tr>\n",
              "      <th>0</th>\n",
              "      <td>Champions League - wembley stadium</td>\n",
              "      <td>0.411813</td>\n",
              "      <td>-0.001582</td>\n",
              "      <td>0.000551</td>\n",
              "      <td>0.0</td>\n",
              "      <td>0.023476</td>\n",
              "      <td>0.597743</td>\n",
              "      <td>1.0</td>\n",
              "      <td>3.428841e-60</td>\n",
              "      <td>-16.322236</td>\n",
              "      <td>0.016092</td>\n",
              "      <td>0.009324</td>\n",
              "      <td>1.919455e-07</td>\n",
              "      <td>0.0</td>\n",
              "      <td>15.449370</td>\n",
              "    </tr>\n",
              "    <tr>\n",
              "      <th>1</th>\n",
              "      <td>International Football - wembley stadium</td>\n",
              "      <td>0.311508</td>\n",
              "      <td>-0.001582</td>\n",
              "      <td>0.000551</td>\n",
              "      <td>0.0</td>\n",
              "      <td>0.023476</td>\n",
              "      <td>0.748577</td>\n",
              "      <td>1.0</td>\n",
              "      <td>9.724158e-25</td>\n",
              "      <td>-10.201874</td>\n",
              "      <td>0.013906</td>\n",
              "      <td>0.009324</td>\n",
              "      <td>1.182078e-07</td>\n",
              "      <td>0.0</td>\n",
              "      <td>13.327394</td>\n",
              "    </tr>\n",
              "  </tbody>\n",
              "</table>\n",
              "</div>"
            ],
            "text/plain": [
              "                            event_name_list  ...  geti_stdev_list\n",
              "0        Champions League - wembley stadium  ...        15.449370\n",
              "1  International Football - wembley stadium  ...        13.327394\n",
              "\n",
              "[2 rows x 15 columns]"
            ]
          },
          "metadata": {
            "tags": []
          },
          "execution_count": 14
        }
      ]
    },
    {
      "cell_type": "code",
      "metadata": {
        "id": "OGaXDiV_BWlF",
        "colab_type": "code",
        "colab": {}
      },
      "source": [
        "# push table to bigquery\n",
        "import pandas_gbq\n",
        "\n",
        "full_table_id = 'audeMS.spatial_autocorr_eventtype_london'\n",
        "project_id = 'thesisprojects2019'\n",
        "\n",
        "pandas_gbq.to_gbq(spatial_autocorr,full_table_id, project_id=project_id)"
      ],
      "execution_count": 0,
      "outputs": []
    },
    {
      "cell_type": "markdown",
      "metadata": {
        "id": "eethTEADeOBk",
        "colab_type": "text"
      },
      "source": [
        "### LOCAL SPATIAL AUTOCORRELATION "
      ]
    },
    {
      "cell_type": "code",
      "metadata": {
        "id": "yhot6Kl2a8mF",
        "colab_type": "code",
        "colab": {}
      },
      "source": [
        "### LOCAL SPATIAL AUTOCORRELATION \n",
        "\n",
        "# create a new list to store the event name\n",
        "event_name_list = []\n",
        "# create lists to store the moran statistic values for each event\n",
        "moran_local_stat_list = []\n",
        "moran_local_expect_list = []\n",
        "moran_local_var_list = []\n",
        "moran_local_pvalue_list = []\n",
        "moran_local_stdev_list = []\n",
        "# create lists to store the getis statistic values for each event\n",
        "\n",
        "\n",
        "for e in venue_eventtype_list:\n",
        "  # Mergedata\n",
        "  data_event = data[data['venue_eventtype']==e]\n",
        "  \n",
        "  datajoin = pd.merge(data_event,lnd_ward,how='right',on=['ward_id'])\n",
        "  datajoin = datajoin[['venue','event_type','venue_eventtype','ward_id','ward_name_x','perc_spectators_london','geometry']]\n",
        "  \n",
        "  # select the event name\n",
        "  eventname = datajoin['venue_eventtype'][0]\n",
        "  event_name_list.append(eventname) \n",
        " \n",
        "  # change to gdp\n",
        "  gpd_df = gpd.GeoDataFrame(datajoin, geometry='geometry', crs={'init': 'epsg:27700'})\n",
        "     \n",
        "  # If NaN -> change it to 0!   \n",
        "  values = {'venue': 0, 'event_type':0,'perc_spectators_london':0}  \n",
        "  gpd_df = gpd_df.fillna(value=values)\n",
        "  \n",
        "  # Create y variable values for the event - percentage spectators per ward!\n",
        "  ye = gpd_df['perc_spectators_london'].values\n",
        "\n",
        "  # Get Weights (Queen) - standardize them -- Spatial Weight Matrix\n",
        "  wqs = Queen.from_dataframe(gpd_df)\n",
        "  wqs.transform = 'r'\n",
        "  \n",
        "  # Sptial lag\n",
        "  ylagg = weights.lag_spatial(wqs, ye)\n",
        "  gpd_df['ylag'] = ylagg\n",
        "    \n",
        "  # Calculate Moran's I - Global Spatial Autocorrelation\n",
        "  # Do we have clustered values (close to 1) or dispersed values (close to -1)\n",
        "  moran_local = Moran_Local(ye, wqs)\n",
        "  \n",
        "  # Make a scatter plot of the Local Moran Statistic\n",
        "\n",
        " # fig, ax = plt.subplots(1,figsize=(9,9))\n",
        " # moran_scatterplot(moran_local, p=0.05, ax=ax)\n",
        " # ax.set_title(str(e)+' Moran Local Scatterplot')\n",
        "  \n",
        " # plt.savefig('drive/My Drive/Dan - Meetings/Thesis Maps & Graphs/EventType_Maps/Local_Moran_London/Graphs/lndward_localmoran_'+str(e)+'.png')\n",
        "  \n",
        "  # Create a Map of the Local Moran Statistic\n",
        "  fig, ax = plt.subplots(1, figsize=(9, 7),dpi=140)\n",
        "  \n",
        "  # create map\n",
        "  lisa_cluster(moran_local,gpd_df,p=0.05,ax=ax, legend=True)\n",
        "  \n",
        "  plt.title('Local Moran Test - ' + str(e), fontsize=12)\n",
        "  \n",
        "  fig.tight_layout()\n",
        "    \n",
        "  plt.savefig('drive/My Drive/Dan - Meetings/Thesis Maps & Graphs/EventType_Maps/Local_Moran_London/Maps/lndward_localmoran_'+str(e)+'.png')\n",
        "    \n",
        "  plt.close('all')\n",
        " # plt.show()"
      ],
      "execution_count": 0,
      "outputs": []
    },
    {
      "cell_type": "code",
      "metadata": {
        "id": "nSxj9ZZ-n_I9",
        "colab_type": "code",
        "colab": {}
      },
      "source": [
        "import os\n",
        "from google.colab import files\n",
        "\n",
        "folderpath = 'drive/My Drive/Dan - Meetings/Thesis Maps & Graphs/EventType_Maps/Local_Moran_London/Maps'\n",
        "\n",
        "for filename in os.listdir(folderpath):\n",
        "  files.download(folderpath+'/'+str(filename))"
      ],
      "execution_count": 0,
      "outputs": []
    },
    {
      "cell_type": "markdown",
      "metadata": {
        "id": "kaWJJvMuiSPA",
        "colab_type": "text"
      },
      "source": [
        "### England District Selection Maps - Event and Venue Profile\n",
        "### Statistical - Spatial Autocorrelation\n"
      ]
    },
    {
      "cell_type": "code",
      "metadata": {
        "id": "S72gweAsl1kS",
        "colab_type": "code",
        "outputId": "fe66076c-39cb-4d19-8e6a-96ba4878c3c7",
        "colab": {
          "base_uri": "https://localhost:8080/",
          "height": 222
        }
      },
      "source": [
        "#import london statistic table from bigquery\n",
        "query = \"\"\" SELECT * FROM `thesisprojects2019.audeMS.step10_eventtype_district_homelocation_spectatorswithhome` \n",
        "                 ORDER BY event_type, district_id \"\"\"\n",
        "data = client.query(query).to_dataframe()"
      ],
      "execution_count": 0,
      "outputs": [
        {
          "output_type": "error",
          "ename": "NameError",
          "evalue": "ignored",
          "traceback": [
            "\u001b[0;31m---------------------------------------------------------------------------\u001b[0m",
            "\u001b[0;31mNameError\u001b[0m                                 Traceback (most recent call last)",
            "\u001b[0;32m<ipython-input-1-47742eea7a91>\u001b[0m in \u001b[0;36m<module>\u001b[0;34m()\u001b[0m\n\u001b[1;32m      1\u001b[0m query = \"\"\" SELECT * FROM `thesisprojects2019.audeMS.step10_eventtype_district_homelocation_spectatorswithhome` \n\u001b[1;32m      2\u001b[0m                  ORDER BY event_type, district_id \"\"\"\n\u001b[0;32m----> 3\u001b[0;31m \u001b[0mdata\u001b[0m \u001b[0;34m=\u001b[0m \u001b[0mclient\u001b[0m\u001b[0;34m.\u001b[0m\u001b[0mquery\u001b[0m\u001b[0;34m(\u001b[0m\u001b[0mquery\u001b[0m\u001b[0;34m)\u001b[0m\u001b[0;34m.\u001b[0m\u001b[0mto_dataframe\u001b[0m\u001b[0;34m(\u001b[0m\u001b[0;34m)\u001b[0m\u001b[0;34m\u001b[0m\u001b[0;34m\u001b[0m\u001b[0m\n\u001b[0m",
            "\u001b[0;31mNameError\u001b[0m: name 'client' is not defined"
          ]
        }
      ]
    },
    {
      "cell_type": "code",
      "metadata": {
        "id": "VHBlT6NOl95D",
        "colab_type": "code",
        "outputId": "7ce1ed23-e7c0-4b89-8a4a-d90103209d67",
        "colab": {
          "base_uri": "https://localhost:8080/",
          "height": 199
        }
      },
      "source": [
        "data['venue_eventtype'] = data[['event_type', 'venue']].apply(lambda x: ' - '.join(x), axis=1)\n",
        "data.head(2)"
      ],
      "execution_count": 0,
      "outputs": [
        {
          "output_type": "execute_result",
          "data": {
            "text/html": [
              "<div>\n",
              "<style scoped>\n",
              "    .dataframe tbody tr th:only-of-type {\n",
              "        vertical-align: middle;\n",
              "    }\n",
              "\n",
              "    .dataframe tbody tr th {\n",
              "        vertical-align: top;\n",
              "    }\n",
              "\n",
              "    .dataframe thead th {\n",
              "        text-align: right;\n",
              "    }\n",
              "</style>\n",
              "<table border=\"1\" class=\"dataframe\">\n",
              "  <thead>\n",
              "    <tr style=\"text-align: right;\">\n",
              "      <th></th>\n",
              "      <th>venue</th>\n",
              "      <th>event_type</th>\n",
              "      <th>district_id</th>\n",
              "      <th>district_name</th>\n",
              "      <th>count_spect_district</th>\n",
              "      <th>perc_spectators_county</th>\n",
              "      <th>venue_eventtype</th>\n",
              "    </tr>\n",
              "  </thead>\n",
              "  <tbody>\n",
              "    <tr>\n",
              "      <th>0</th>\n",
              "      <td>wembley stadium</td>\n",
              "      <td>Champions League</td>\n",
              "      <td>E06000004</td>\n",
              "      <td>Stockton-on-Tees</td>\n",
              "      <td>1</td>\n",
              "      <td>0.04</td>\n",
              "      <td>Champions League - wembley stadium</td>\n",
              "    </tr>\n",
              "    <tr>\n",
              "      <th>1</th>\n",
              "      <td>wembley stadium</td>\n",
              "      <td>Champions League</td>\n",
              "      <td>E06000015</td>\n",
              "      <td>Derby</td>\n",
              "      <td>1</td>\n",
              "      <td>0.04</td>\n",
              "      <td>Champions League - wembley stadium</td>\n",
              "    </tr>\n",
              "  </tbody>\n",
              "</table>\n",
              "</div>"
            ],
            "text/plain": [
              "             venue  ...                     venue_eventtype\n",
              "0  wembley stadium  ...  Champions League - wembley stadium\n",
              "1  wembley stadium  ...  Champions League - wembley stadium\n",
              "\n",
              "[2 rows x 7 columns]"
            ]
          },
          "metadata": {
            "tags": []
          },
          "execution_count": 9
        }
      ]
    },
    {
      "cell_type": "code",
      "metadata": {
        "id": "EWjmSxIzl_yi",
        "colab_type": "code",
        "outputId": "9b38eefc-887f-4305-fe8f-c2f7f3e5c5a4",
        "colab": {
          "base_uri": "https://localhost:8080/",
          "height": 199
        }
      },
      "source": [
        "#import the district shapefiles from GoogleDrive\n",
        "pathdrive = 'drive/My Drive/Colab Notebooks/Shapefiles/District/Local_Authority_Districts_December_2017_Super_Generalised_Clipped_Boundaries_in_Great_Britain.shp'\n",
        "geom_data = gpd.read_file(pathdrive)\n",
        "geom_data.head(2)"
      ],
      "execution_count": 0,
      "outputs": [
        {
          "output_type": "execute_result",
          "data": {
            "text/html": [
              "<div>\n",
              "<style scoped>\n",
              "    .dataframe tbody tr th:only-of-type {\n",
              "        vertical-align: middle;\n",
              "    }\n",
              "\n",
              "    .dataframe tbody tr th {\n",
              "        vertical-align: top;\n",
              "    }\n",
              "\n",
              "    .dataframe thead th {\n",
              "        text-align: right;\n",
              "    }\n",
              "</style>\n",
              "<table border=\"1\" class=\"dataframe\">\n",
              "  <thead>\n",
              "    <tr style=\"text-align: right;\">\n",
              "      <th></th>\n",
              "      <th>objectid</th>\n",
              "      <th>lad17cd</th>\n",
              "      <th>lad17nm</th>\n",
              "      <th>lad17nmw</th>\n",
              "      <th>bng_e</th>\n",
              "      <th>bng_n</th>\n",
              "      <th>long</th>\n",
              "      <th>lat</th>\n",
              "      <th>st_areasha</th>\n",
              "      <th>st_lengths</th>\n",
              "      <th>geometry</th>\n",
              "    </tr>\n",
              "  </thead>\n",
              "  <tbody>\n",
              "    <tr>\n",
              "      <th>0</th>\n",
              "      <td>1</td>\n",
              "      <td>E06000001</td>\n",
              "      <td>Hartlepool</td>\n",
              "      <td>None</td>\n",
              "      <td>447157</td>\n",
              "      <td>531476</td>\n",
              "      <td>-1.27023</td>\n",
              "      <td>54.676159</td>\n",
              "      <td>9.365265e+07</td>\n",
              "      <td>59467.502291</td>\n",
              "      <td>POLYGON ((447851.2015000004 537036.0043000001,...</td>\n",
              "    </tr>\n",
              "    <tr>\n",
              "      <th>1</th>\n",
              "      <td>2</td>\n",
              "      <td>E06000002</td>\n",
              "      <td>Middlesbrough</td>\n",
              "      <td>None</td>\n",
              "      <td>451141</td>\n",
              "      <td>516887</td>\n",
              "      <td>-1.21099</td>\n",
              "      <td>54.544670</td>\n",
              "      <td>5.410254e+07</td>\n",
              "      <td>38474.532954</td>\n",
              "      <td>MULTIPOLYGON (((450791.1017000005 520932.50390...</td>\n",
              "    </tr>\n",
              "  </tbody>\n",
              "</table>\n",
              "</div>"
            ],
            "text/plain": [
              "   objectid  ...                                           geometry\n",
              "0         1  ...  POLYGON ((447851.2015000004 537036.0043000001,...\n",
              "1         2  ...  MULTIPOLYGON (((450791.1017000005 520932.50390...\n",
              "\n",
              "[2 rows x 11 columns]"
            ]
          },
          "metadata": {
            "tags": []
          },
          "execution_count": 10
        }
      ]
    },
    {
      "cell_type": "code",
      "metadata": {
        "id": "kIarMJQBmCEk",
        "colab_type": "code",
        "colab": {}
      },
      "source": [
        "# CRS for London Ward\n",
        "crs = {'init': 'epsg:4326'}\n",
        "district = geom_data.to_crs({'init':'epsg:27700'})\n",
        "\n",
        "# rename the columns\n",
        "district = district.rename(columns={'lad17nm':'district_name','lad17cd':'district_id'})\n",
        "# Select only the columns of interest\n",
        "district = district[['district_id','district_name','geometry']]"
      ],
      "execution_count": 0,
      "outputs": []
    },
    {
      "cell_type": "code",
      "metadata": {
        "id": "uPPN7eOUmEGN",
        "colab_type": "code",
        "colab": {}
      },
      "source": [
        "#SELECT only the districts around London\n",
        "select_district = ['South Bucks', 'Chiltern','Wycombe','Aylesbury Vale','Hastings','Rother','Wealden','Eastbourne','Lewes',\n",
        "                  'Harlow','Epping Forest','Brentwood','Basildon','Castle Point','Rochford','Maldon','Chelmsford','Uttlesford','Braintree','Colchester','Tendring',\n",
        "                  'Gosport','Fareham','Winchester','Havant','East Hampshire','Hart','Rushmoor','Basingstoke and Deane','Test Valley','Eastleigh','New Forest',\n",
        "                  'Three Rivers','Watford','Hertsmere','Welwyn Hatfield','Broxbourne','East Hertfordshire','Stevenage','North Hertfordshire','St Albans',\n",
        "                  'Dacorum','Dartford','Gravesham','Sevenoaks','Tonbridge and Malling','Tunbridge Wells','Maidstone','Swale','Ashford','Folkestone and Hythe',\n",
        "                  'Canterbury','Dover','Thanet','Oxford','Cherwell','South Oxfordshire','Vale of White Horse','West Oxfordshire','Spelthorne','Runnymede', \n",
        "                  'Surrey Heath','Woking','Elmbridge','Guildford','Waverley','Mole Valley','Epsom and Ewell','Reigate and Banstead','Tandridge','Worthing',\n",
        "                  'Arun','Chichester','Horsham','Crawley','Mid Sussex','Adur','City of London','Westminster','Kensington and Chelsea','Hammersmith and Fulham',\n",
        "                  'Wandsworth','Lambeth','Southwark','Tower Hamlets','Hackney','Islington','Camden','Brent','Ealing','Hounslow','Richmond upon Thames',\n",
        "                  'Kingston upon Thames','Merton','Sutton','Croydon','Bromley','Lewisham','Greenwich','Bexley','Havering','Barking and Dagenham',\n",
        "                  'Redbridge','Newham','Waltham Forest','Haringey','Enfield','Barnet','Harrow','Hillingdon','Bracknell Forest','Reading','Slough',\n",
        "                  'West Berkshire','Windsor and Maidenhead','Wokingham','Milton Keynes','Bedford','Central Bedfordshire','Luton','Southend-on-Sea',\n",
        "                   'Thurrock','Medway','Brighton and Hove','Portsmouth','Southampton','South Cambridgeshire','Cambridge','Shepway']"
      ],
      "execution_count": 0,
      "outputs": []
    },
    {
      "cell_type": "code",
      "metadata": {
        "id": "PjRQJuFtmGGU",
        "colab_type": "code",
        "colab": {}
      },
      "source": [
        "# Create a new Geopandas Dataframe for only the district we are interested in!\n",
        "new_gpd_list = []\n",
        "for i in select_district:\n",
        "    new = district[district['district_name']== i]\n",
        "    new_gpd_list.append(new)\n",
        "    new_gpd = pd.concat(new_gpd_list)"
      ],
      "execution_count": 0,
      "outputs": []
    },
    {
      "cell_type": "code",
      "metadata": {
        "id": "tfe9-ZrzmIVM",
        "colab_type": "code",
        "outputId": "dfc0fb1d-f60b-4cfb-bf68-e66d5e0ea73c",
        "colab": {
          "base_uri": "https://localhost:8080/",
          "height": 286
        }
      },
      "source": [
        "crs = {'init': 'epsg:4326'}\n",
        "new_gpd = new_gpd.to_crs({'init':'epsg:27700'})\n",
        "new_gpd.plot()"
      ],
      "execution_count": 0,
      "outputs": [
        {
          "output_type": "execute_result",
          "data": {
            "text/plain": [
              "<matplotlib.axes._subplots.AxesSubplot at 0x7f6d5c51ce48>"
            ]
          },
          "metadata": {
            "tags": []
          },
          "execution_count": 14
        },
        {
          "output_type": "display_data",
          "data": {
            "image/png": "[encoded data removed]",
            "text/plain": [
              "<Figure size 432x288 with 1 Axes>"
            ]
          },
          "metadata": {
            "tags": []
          }
        }
      ]
    },
    {
      "cell_type": "code",
      "metadata": {
        "id": "PauOXratmREb",
        "colab_type": "code",
        "colab": {}
      },
      "source": [
        "# Create the list of event\n",
        "venue_eventtype_list = []\n",
        "for i in data.venue_eventtype:\n",
        "    if i not in venue_eventtype_list:\n",
        "        venue_eventtype_list.append(i)"
      ],
      "execution_count": 0,
      "outputs": []
    },
    {
      "cell_type": "markdown",
      "metadata": {
        "id": "naJPDIDTmboW",
        "colab_type": "text"
      },
      "source": [
        "### Global Spatial Autocorrelation\n",
        "#### Moran's I, Geary's C, Geti's G "
      ]
    },
    {
      "cell_type": "code",
      "metadata": {
        "id": "dLvWbK2nmkkf",
        "colab_type": "code",
        "colab": {}
      },
      "source": [
        "### GLOBAL SPATIAL AUTOCORRELATION \n",
        "\n",
        "# create a new list to store the event name\n",
        "event_name_list = []\n",
        "# create lists to store the moran statistic values for each event\n",
        "moran_stat_list = []\n",
        "moran_expect_list = []\n",
        "moran_var_list = []\n",
        "moran_pvalue_list = []\n",
        "moran_stdev_list = []\n",
        "# create lists to store the geary statistic values for each event\n",
        "geary_stat_list = []\n",
        "geary_expect_list = []\n",
        "geary_var_list = []\n",
        "geary_pvalue_list = []\n",
        "geary_stdev_list = []\n",
        "# create lists to store the getis statistic values for each event\n",
        "geti_stat_list = []\n",
        "geti_expect_list = []\n",
        "geti_var_list = []\n",
        "geti_pvalue_list = []\n",
        "geti_stdev_list = []\n",
        "\n",
        "for e in venue_eventtype_list:\n",
        "  # Mergedata\n",
        "  data_event = data[data['venue_eventtype']==e]\n",
        "  \n",
        "  datajoin = pd.merge(data_event,new_gpd,how='right',on=['district_id'])\n",
        "  datajoin = datajoin[['venue','event_type','venue_eventtype','district_id','district_name_x','perc_spectators_county','geometry']]\n",
        "  \n",
        "  # select the event name\n",
        "  eventname = datajoin['venue_eventtype'][0]\n",
        "  event_name_list.append(eventname) \n",
        "\n",
        "  # change to gdp\n",
        "  gpd_df = gpd.GeoDataFrame(datajoin, geometry='geometry', crs={'init': 'epsg:27700'})\n",
        "     \n",
        "  # If NaN -> change it to 0!   \n",
        "  values = {'venue': 0, 'event_type':0,'perc_spectators_county':0}  \n",
        "  gpd_df = gpd_df.fillna(value=values)\n",
        "  \n",
        "  # Create y variable values for the event - percentage spectators per ward!\n",
        "  ye = gpd_df['perc_spectators_county'].values\n",
        "\n",
        "  # Get Weights (Queen) - standardize them -- Spatial Weight Matrix\n",
        "  wqs = Queen.from_dataframe(gpd_df)\n",
        "  wqs.transform = 'r'\n",
        "    \n",
        "  # Calculate Moran's I - Global Spatial Autocorrelation\n",
        "  # Do we have clustered values (close to 1) or dispersed values (close to -1)\n",
        "  moran = Moran(ye, wqs)\n",
        "  moran_statistic = moran.I\n",
        "  moran_stat_list.append(moran_statistic)\n",
        "  \n",
        "  # Moran Expected Value under normality assumption\n",
        "  moran_expected = moran.EI\n",
        "  moran_expect_list.append(moran_expected)\n",
        "  \n",
        "  # Moran Variance Value under normality assumption\n",
        "  moran_var = moran.VI_norm\n",
        "  moran_var_list.append(moran_var)\n",
        "  \n",
        "  # Moran p-value under normality assumption  \n",
        "  moran_pvalue = moran.p_norm  \n",
        "  moran_pvalue_list.append(moran_pvalue)  \n",
        "  \n",
        "  # Moran Standard Deviation Value under normality assumption\n",
        "  moran_stdev = moran.seI_norm\n",
        "  moran_stdev_list.append(moran_stdev)\n",
        "    \n",
        "  \n",
        "  # Calculate Geary's C - Global Spatial Autocorrelation\n",
        "  # Do similar values clustered or do dissimilar values clustered?\n",
        "  geary = Geary(ye, wqs)  \n",
        "  geary_statistic = geary.C\n",
        "  geary_stat_list.append(geary_statistic)\n",
        "  \n",
        "  # Geary's C Expected Value under normality assumption\n",
        "  geary_expected = geary.EC\n",
        "  geary_expect_list.append(geary_expected)\n",
        "  \n",
        "   # Geary's C Expected Value under normality assumption\n",
        " # geary_var = geary.VC\n",
        " # geary_var_list.append(geary_var)\n",
        "  \n",
        "  # Geary's C p-value under normality assumption  \n",
        "  geary_pvalue = geary.p_norm  \n",
        "  geary_pvalue_list.append(geary_pvalue) \n",
        "  \n",
        "  # Geary's C Standard Normal Test Statistic under normality assumption\n",
        "  geary_stdev = geary.z_norm\n",
        "  geary_stdev_list.append(geary_stdev)\n",
        "  \n",
        "  \n",
        "  # Calculate Getis Ord General G. - Global Spatial Autocorrelation\n",
        "  # Do High or Low values clustered? \n",
        "  # G > Expected => High values clustering | G < Expected => Low values clustering\n",
        "  geti = G(ye, wqs)  \n",
        "  geti_statistic = geti.G\n",
        "  geti_stat_list.append(geti_statistic)\n",
        "  \n",
        "  #Getis Ord General G Expected Value under normality assumption\n",
        "  geti_expected = geti.EG\n",
        "  geti_expect_list.append(geti_expected)\n",
        "  \n",
        "  #Getis Ord General G Expected Value under normality assumption\n",
        "  geti_var = geti.VG\n",
        "  geti_var_list.append(geti_var)\n",
        "  \n",
        "  #Getis Ord General G p-value under normality assumption  \n",
        "  geti_pvalue = geti.p_norm  \n",
        "  geti_pvalue_list.append(geti_pvalue) \n",
        "  \n",
        "  #Getis Ord General G Standard Normal Test Statistic under normality assumption\n",
        "  geti_stdev = geti.z_norm\n",
        "  geti_stdev_list.append(geti_stdev) "
      ],
      "execution_count": 0,
      "outputs": []
    },
    {
      "cell_type": "code",
      "metadata": {
        "id": "1nJ_Ze5TnMKK",
        "colab_type": "code",
        "outputId": "42672261-d3d0-43a5-d988-1c34dd02fb6c",
        "colab": {
          "base_uri": "https://localhost:8080/",
          "height": 233
        }
      },
      "source": [
        "spatial_autocorr = pd.DataFrame({'event_name_list':event_name_list,'moran_stat_list':moran_stat_list, 'moran_expect_list':moran_expect_list, \n",
        "                                 'moran_var_list':moran_var_list, 'moran_pvalue_list':moran_pvalue_list, 'moran_stdev_list':moran_stdev_list, \n",
        "                                 'geary_stat_list':geary_stat_list, 'geary_expect_list':geary_expect_list, 'geary_pvalue_list':geary_pvalue_list, 'geary_stdev_list':geary_stdev_list,\n",
        "                                 'geti_stat_list':geti_stat_list, 'geti_expect_list':geti_expect_list, 'geti_var_list':geti_var_list, 'geti_pvalue_list':geti_pvalue_list, 'geti_stdev_list':geti_stdev_list})\n",
        "spatial_autocorr.head(2)"
      ],
      "execution_count": 0,
      "outputs": [
        {
          "output_type": "execute_result",
          "data": {
            "text/html": [
              "<div>\n",
              "<style scoped>\n",
              "    .dataframe tbody tr th:only-of-type {\n",
              "        vertical-align: middle;\n",
              "    }\n",
              "\n",
              "    .dataframe tbody tr th {\n",
              "        vertical-align: top;\n",
              "    }\n",
              "\n",
              "    .dataframe thead th {\n",
              "        text-align: right;\n",
              "    }\n",
              "</style>\n",
              "<table border=\"1\" class=\"dataframe\">\n",
              "  <thead>\n",
              "    <tr style=\"text-align: right;\">\n",
              "      <th></th>\n",
              "      <th>event_name_list</th>\n",
              "      <th>moran_stat_list</th>\n",
              "      <th>moran_expect_list</th>\n",
              "      <th>moran_var_list</th>\n",
              "      <th>moran_pvalue_list</th>\n",
              "      <th>moran_stdev_list</th>\n",
              "      <th>geary_stat_list</th>\n",
              "      <th>geary_expect_list</th>\n",
              "      <th>geary_pvalue_list</th>\n",
              "      <th>geary_stdev_list</th>\n",
              "      <th>geti_stat_list</th>\n",
              "      <th>geti_expect_list</th>\n",
              "      <th>geti_var_list</th>\n",
              "      <th>geti_pvalue_list</th>\n",
              "      <th>geti_stdev_list</th>\n",
              "    </tr>\n",
              "  </thead>\n",
              "  <tbody>\n",
              "    <tr>\n",
              "      <th>0</th>\n",
              "      <td>Champions League - wembley stadium</td>\n",
              "      <td>0.595170</td>\n",
              "      <td>-0.007874</td>\n",
              "      <td>0.003627</td>\n",
              "      <td>0.0</td>\n",
              "      <td>0.060225</td>\n",
              "      <td>0.441016</td>\n",
              "      <td>1.0</td>\n",
              "      <td>9.624328e-18</td>\n",
              "      <td>-8.49824</td>\n",
              "      <td>0.072029</td>\n",
              "      <td>0.037894</td>\n",
              "      <td>0.000012</td>\n",
              "      <td>0.0</td>\n",
              "      <td>10.000863</td>\n",
              "    </tr>\n",
              "    <tr>\n",
              "      <th>1</th>\n",
              "      <td>International Football - wembley stadium</td>\n",
              "      <td>0.672783</td>\n",
              "      <td>-0.007874</td>\n",
              "      <td>0.003627</td>\n",
              "      <td>0.0</td>\n",
              "      <td>0.060225</td>\n",
              "      <td>0.352337</td>\n",
              "      <td>1.0</td>\n",
              "      <td>3.551091e-23</td>\n",
              "      <td>-9.84643</td>\n",
              "      <td>0.072978</td>\n",
              "      <td>0.037894</td>\n",
              "      <td>0.000013</td>\n",
              "      <td>0.0</td>\n",
              "      <td>9.692714</td>\n",
              "    </tr>\n",
              "  </tbody>\n",
              "</table>\n",
              "</div>"
            ],
            "text/plain": [
              "                            event_name_list  ...  geti_stdev_list\n",
              "0        Champions League - wembley stadium  ...        10.000863\n",
              "1  International Football - wembley stadium  ...         9.692714\n",
              "\n",
              "[2 rows x 15 columns]"
            ]
          },
          "metadata": {
            "tags": []
          },
          "execution_count": 17
        }
      ]
    },
    {
      "cell_type": "code",
      "metadata": {
        "id": "NlHvFEbAnUDv",
        "colab_type": "code",
        "colab": {}
      },
      "source": [
        "# push table to bigquery\n",
        "import pandas_gbq\n",
        "\n",
        "full_table_id = 'audeMS.spatial_autocorr_eventtype_district_selection'\n",
        "project_id = 'thesisprojects2019'\n",
        "\n",
        "pandas_gbq.to_gbq(spatial_autocorr,full_table_id, project_id=project_id)"
      ],
      "execution_count": 0,
      "outputs": []
    },
    {
      "cell_type": "markdown",
      "metadata": {
        "id": "_LbBmC2bnjIA",
        "colab_type": "text"
      },
      "source": [
        "### Local Spatial Autocorrelation"
      ]
    },
    {
      "cell_type": "code",
      "metadata": {
        "id": "Picbqoxfnmev",
        "colab_type": "code",
        "colab": {}
      },
      "source": [
        "### LOCAL SPATIAL AUTOCORRELATION \n",
        "\n",
        "# create a new list to store the event name\n",
        "event_name_list = []\n",
        "# create lists to store the moran statistic values for each event\n",
        "moran_local_stat_list = []\n",
        "moran_local_expect_list = []\n",
        "moran_local_var_list = []\n",
        "moran_local_pvalue_list = []\n",
        "moran_local_stdev_list = []\n",
        "# create lists to store the getis statistic values for each event\n",
        "\n",
        "\n",
        "for e in venue_eventtype_list:\n",
        "  # Mergedata\n",
        "  data_event = data[data['venue_eventtype']==e]\n",
        "  \n",
        "  datajoin = pd.merge(data_event,new_gpd,how='right',on=['district_id'])\n",
        "  datajoin = datajoin[['venue','event_type','venue_eventtype','district_id','district_name_x','perc_spectators_county','geometry']]\n",
        "  \n",
        "  # select the event name\n",
        "  eventname = datajoin['venue_eventtype'][0]\n",
        "  event_name_list.append(eventname) \n",
        " \n",
        "  # change to gdp\n",
        "  gpd_df = gpd.GeoDataFrame(datajoin, geometry='geometry', crs={'init': 'epsg:27700'})\n",
        "     \n",
        "  # If NaN -> change it to 0!   \n",
        "  values = {'venue': 0, 'event_type':0,'perc_spectators_county':0}  \n",
        "  gpd_df = gpd_df.fillna(value=values)\n",
        "  \n",
        "  # Create y variable values for the event - percentage spectators per ward!\n",
        "  ye = gpd_df['perc_spectators_county'].values\n",
        "\n",
        "  # Get Weights (Queen) - standardize them -- Spatial Weight Matrix\n",
        "  wqs = Queen.from_dataframe(gpd_df)\n",
        "  wqs.transform = 'r'\n",
        "  \n",
        "  # Sptial lag\n",
        "  ylagg = weights.lag_spatial(wqs, ye)\n",
        "  gpd_df['ylag'] = ylagg\n",
        "    \n",
        "  # Calculate Moran's I - Global Spatial Autocorrelation\n",
        "  # Do we have clustered values (close to 1) or dispersed values (close to -1)\n",
        "  moran_local = Moran_Local(ye, wqs)\n",
        "  \n",
        "  # Make a scatter plot of the Local Moran Statistic\n",
        "\n",
        "  fig, ax = plt.subplots(1,figsize=(9,9))\n",
        "  moran_scatterplot(moran_local, p=0.05, ax=ax)\n",
        "  ax.set_title(str(e)+' Moran Local Scatterplot')\n",
        "  \n",
        "  plt.savefig('drive/My Drive/Dan - Meetings/Thesis Maps & Graphs/EventType_Maps/District_LocalMoran/Graphs/'+str(e)+'district_localmoran.png')\n",
        "  \n",
        "  # Create a Map of the Local Moran Statistic\n",
        "  fig, ax = plt.subplots(1, figsize=(9, 7),dpi=140)\n",
        "#  fig, ax = plt.subplots(1, figsize=(9, 7))\n",
        "  \n",
        "  # create map\n",
        "  lisa_cluster(moran_local,gpd_df,p=0.05,ax=ax, legend=True)\n",
        "  \n",
        "  plt.title('Local Moran Test - ' + str(e), fontsize=12)\n",
        "  \n",
        "  fig.tight_layout()\n",
        "    \n",
        "  plt.savefig('drive/My Drive/Dan - Meetings/Thesis Maps & Graphs/EventType_Maps/District_LocalMoran/Maps/'+str(e)+'district_localmoran.png')\n",
        "\n",
        "  plt.close('all')\n",
        "  #plt.show()"
      ],
      "execution_count": 0,
      "outputs": []
    },
    {
      "cell_type": "code",
      "metadata": {
        "id": "4MqH-yAspnev",
        "colab_type": "code",
        "colab": {}
      },
      "source": [
        "import os\n",
        "from google.colab import files\n",
        "\n",
        "folderpath = 'drive/My Drive/Dan - Meetings/Thesis Maps & Graphs/EventType_Maps/District_LocalMoran/Maps'\n",
        "\n",
        "for filename in os.listdir(folderpath):\n",
        "  files.download(folderpath+'/'+str(filename))"
      ],
      "execution_count": 0,
      "outputs": []
    },
    {
      "cell_type": "code",
      "metadata": {
        "id": "f5h89FrXrTiK",
        "colab_type": "code",
        "colab": {}
      },
      "source": [
        "#import london statistic table from bigquery\n",
        "query = \"\"\" SELECT * FROM `thesisprojects2019.audeMS.spatial_autocorr_eventtype_district_selection` \"\"\"\n",
        "data = client.query(query).to_dataframe()"
      ],
      "execution_count": 0,
      "outputs": []
    },
    {
      "cell_type": "markdown",
      "metadata": {
        "id": "_-OjCAhCCBws",
        "colab_type": "text"
      },
      "source": [
        "### Create GeoJson File"
      ]
    },
    {
      "cell_type": "code",
      "metadata": {
        "id": "H7RObtqHC74J",
        "colab_type": "code",
        "colab": {}
      },
      "source": [
        "import pandas as pd, requests, json\n",
        "import shapely.geometry\n",
        "import fiona"
      ],
      "execution_count": 0,
      "outputs": []
    },
    {
      "cell_type": "code",
      "metadata": {
        "id": "QtDa6iyjCKaV",
        "colab_type": "code",
        "colab": {}
      },
      "source": [
        "# CRS for London Ward\n",
        "crs = {'init': 'epsg:4326'}\n",
        "lnd_ward = geom_data.to_crs({'init':'epsg:4326'})\n",
        "\n",
        "# rename the columns\n",
        "lnd_ward = lnd_ward.rename(columns={'NAME':'ward_name','GSS_CODE':'ward_id'})\n",
        "# Select only the columns of interest\n",
        "lnd_ward = lnd_ward[['ward_name','ward_id','geometry']]"
      ],
      "execution_count": 0,
      "outputs": []
    },
    {
      "cell_type": "code",
      "metadata": {
        "id": "B1Spm064CaJd",
        "colab_type": "code",
        "outputId": "090a5a91-1529-4e8b-b353-415930dfeee5",
        "colab": {
          "base_uri": "https://localhost:8080/",
          "height": 134
        }
      },
      "source": [
        "data.head(1)"
      ],
      "execution_count": 0,
      "outputs": [
        {
          "output_type": "execute_result",
          "data": {
            "text/html": [
              "<div>\n",
              "<style scoped>\n",
              "    .dataframe tbody tr th:only-of-type {\n",
              "        vertical-align: middle;\n",
              "    }\n",
              "\n",
              "    .dataframe tbody tr th {\n",
              "        vertical-align: top;\n",
              "    }\n",
              "\n",
              "    .dataframe thead th {\n",
              "        text-align: right;\n",
              "    }\n",
              "</style>\n",
              "<table border=\"1\" class=\"dataframe\">\n",
              "  <thead>\n",
              "    <tr style=\"text-align: right;\">\n",
              "      <th></th>\n",
              "      <th>venue</th>\n",
              "      <th>event_type</th>\n",
              "      <th>ward_id</th>\n",
              "      <th>ward_name</th>\n",
              "      <th>count_spect_london</th>\n",
              "      <th>perc_spectators_london</th>\n",
              "      <th>venue_eventtype</th>\n",
              "    </tr>\n",
              "  </thead>\n",
              "  <tbody>\n",
              "    <tr>\n",
              "      <th>0</th>\n",
              "      <td>wembley stadium</td>\n",
              "      <td>Champions League</td>\n",
              "      <td>E05000028</td>\n",
              "      <td>Becontree</td>\n",
              "      <td>1</td>\n",
              "      <td>0.04</td>\n",
              "      <td>Champions League - wembley stadium</td>\n",
              "    </tr>\n",
              "  </tbody>\n",
              "</table>\n",
              "</div>"
            ],
            "text/plain": [
              "             venue  ...                     venue_eventtype\n",
              "0  wembley stadium  ...  Champions League - wembley stadium\n",
              "\n",
              "[1 rows x 7 columns]"
            ]
          },
          "metadata": {
            "tags": []
          },
          "execution_count": 18
        }
      ]
    },
    {
      "cell_type": "code",
      "metadata": {
        "id": "3V-TX9roCFnE",
        "colab_type": "code",
        "colab": {}
      },
      "source": [
        "# Join Districts SHP with data_homelocation_count\n",
        "jointable = pd.merge(data,lnd_ward,how='right', on=['ward_id'])\n",
        "jointable = jointable[['venue','event_type','venue_eventtype','ward_id','ward_name_x','perc_spectators_london','geometry']]\n",
        "jointable = jointable.sort_values('ward_id').reset_index(drop=True)\n",
        "jointable['perc_spectators_london'] = round(jointable['perc_spectators_london'],3)"
      ],
      "execution_count": 0,
      "outputs": []
    },
    {
      "cell_type": "code",
      "metadata": {
        "id": "_7BxC6skE1YB",
        "colab_type": "code",
        "outputId": "3f6df774-0491-4d1f-eae3-38e50a96a98b",
        "colab": {
          "base_uri": "https://localhost:8080/",
          "height": 134
        }
      },
      "source": [
        "jointable.head(1)"
      ],
      "execution_count": 0,
      "outputs": [
        {
          "output_type": "execute_result",
          "data": {
            "text/html": [
              "<div>\n",
              "<style scoped>\n",
              "    .dataframe tbody tr th:only-of-type {\n",
              "        vertical-align: middle;\n",
              "    }\n",
              "\n",
              "    .dataframe tbody tr th {\n",
              "        vertical-align: top;\n",
              "    }\n",
              "\n",
              "    .dataframe thead th {\n",
              "        text-align: right;\n",
              "    }\n",
              "</style>\n",
              "<table border=\"1\" class=\"dataframe\">\n",
              "  <thead>\n",
              "    <tr style=\"text-align: right;\">\n",
              "      <th></th>\n",
              "      <th>venue</th>\n",
              "      <th>event_type</th>\n",
              "      <th>venue_eventtype</th>\n",
              "      <th>ward_id</th>\n",
              "      <th>ward_name_x</th>\n",
              "      <th>perc_spectators_london</th>\n",
              "      <th>geometry</th>\n",
              "    </tr>\n",
              "  </thead>\n",
              "  <tbody>\n",
              "    <tr>\n",
              "      <th>0</th>\n",
              "      <td>london stadium</td>\n",
              "      <td>Premier League</td>\n",
              "      <td>Premier League - london stadium</td>\n",
              "      <td>E05000026</td>\n",
              "      <td>Abbey</td>\n",
              "      <td>0.2</td>\n",
              "      <td>POLYGON ((0.08547999441580269 51.5370421145770...</td>\n",
              "    </tr>\n",
              "  </tbody>\n",
              "</table>\n",
              "</div>"
            ],
            "text/plain": [
              "            venue  ...                                           geometry\n",
              "0  london stadium  ...  POLYGON ((0.08547999441580269 51.5370421145770...\n",
              "\n",
              "[1 rows x 7 columns]"
            ]
          },
          "metadata": {
            "tags": []
          },
          "execution_count": 73
        }
      ]
    },
    {
      "cell_type": "code",
      "metadata": {
        "id": "3o-Kl0zOMjKx",
        "colab_type": "code",
        "colab": {}
      },
      "source": [
        "gpd_df = gpd.GeoDataFrame(jointable, geometry='geometry', crs={'init': 'epsg:4326'})"
      ],
      "execution_count": 0,
      "outputs": []
    },
    {
      "cell_type": "code",
      "metadata": {
        "id": "I4XcGEL4MPnu",
        "colab_type": "code",
        "colab": {}
      },
      "source": [
        "gpd_df.to_file(\"/content/drive/My Drive/Colab Notebooks/data/london.geojson\", driver='GeoJSON')"
      ],
      "execution_count": 0,
      "outputs": []
    },
    {
      "cell_type": "code",
      "metadata": {
        "id": "7arAZLzJJy0W",
        "colab_type": "code",
        "colab": {}
      },
      "source": [
        "import os\n",
        "from google.colab import files\n",
        "files.download('/content/drive/My Drive/Colab Notebooks/data/london.geojson')"
      ],
      "execution_count": 0,
      "outputs": []
    }
  ]
}
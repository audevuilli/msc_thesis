{
  "nbformat": 4,
  "nbformat_minor": 0,
  "metadata": {
    "colab": {
      "name": "Statistical Differences - Dwell Time",
      "version": "0.3.2",
      "provenance": []
    },
    "kernelspec": {
      "name": "python3",
      "display_name": "Python 3"
    }
  },
  "cells": [
    {
      "cell_type": "code",
      "metadata": {
        "id": "Wex9vQ8ZfCCU",
        "colab_type": "code",
        "outputId": "c7ff03f9-0224-4d90-bc48-26168825d18b",
        "colab": {
          "base_uri": "https://localhost:8080/",
          "height": 241
        }
      },
      "source": [
        "!pip install researchpy"
      ],
      "execution_count": 0,
      "outputs": [
        {
          "output_type": "stream",
          "text": [
            "Collecting researchpy\n",
            "  Downloading https://files.pythonhosted.org/packages/9c/4f/9401306cc653c9a516efbdb6d63960803b3a246c81f68c3baf1d2d5ed0c1/researchpy-0.1.7-py3-none-any.whl\n",
            "Requirement already satisfied: statsmodels in /usr/local/lib/python3.6/dist-packages (from researchpy) (0.10.1)\n",
            "Requirement already satisfied: pandas in /usr/local/lib/python3.6/dist-packages (from researchpy) (0.24.2)\n",
            "Requirement already satisfied: numpy in /usr/local/lib/python3.6/dist-packages (from researchpy) (1.16.4)\n",
            "Requirement already satisfied: scipy in /usr/local/lib/python3.6/dist-packages (from researchpy) (1.3.1)\n",
            "Requirement already satisfied: patsy>=0.4.0 in /usr/local/lib/python3.6/dist-packages (from statsmodels->researchpy) (0.5.1)\n",
            "Requirement already satisfied: pytz>=2011k in /usr/local/lib/python3.6/dist-packages (from pandas->researchpy) (2018.9)\n",
            "Requirement already satisfied: python-dateutil>=2.5.0 in /usr/local/lib/python3.6/dist-packages (from pandas->researchpy) (2.5.3)\n",
            "Requirement already satisfied: six in /usr/local/lib/python3.6/dist-packages (from patsy>=0.4.0->statsmodels->researchpy) (1.12.0)\n",
            "Installing collected packages: researchpy\n",
            "Successfully installed researchpy-0.1.7\n"
          ],
          "name": "stdout"
        }
      ]
    },
    {
      "cell_type": "code",
      "metadata": {
        "id": "nnc5N0l1hxAz",
        "colab_type": "code",
        "colab": {}
      },
      "source": [
        "import pandas as pd\n",
        "import numpy as np \n",
        "\n",
        "import matplotlib as mp\n",
        "import matplotlib.pyplot as plt\n",
        "pd.options.mode.chained_assignment = None\n",
        "\n",
        "import seaborn as sns\n",
        "sns.set(style=\"whitegrid\")\n",
        "sns.set(font_scale=2)"
      ],
      "execution_count": 0,
      "outputs": []
    },
    {
      "cell_type": "code",
      "metadata": {
        "id": "M9QQDFY0deFl",
        "colab_type": "code",
        "colab": {}
      },
      "source": [
        "import scipy.stats as stats\n",
        "import researchpy as rp\n",
        "import statsmodels.api as sm\n",
        "from statsmodels.formula.api import ols"
      ],
      "execution_count": 0,
      "outputs": []
    },
    {
      "cell_type": "code",
      "metadata": {
        "id": "bn0pZgDChxsj",
        "colab_type": "code",
        "outputId": "e6aeb483-de45-465a-965f-e3f0d3a15aa6",
        "colab": {
          "base_uri": "https://localhost:8080/",
          "height": 34
        }
      },
      "source": [
        "from google.colab import auth\n",
        "auth.authenticate_user()\n",
        "print('Authenticated')"
      ],
      "execution_count": 0,
      "outputs": [
        {
          "output_type": "stream",
          "text": [
            "Authenticated\n"
          ],
          "name": "stdout"
        }
      ]
    },
    {
      "cell_type": "code",
      "metadata": {
        "id": "FKH5dOGnh0lt",
        "colab_type": "code",
        "colab": {}
      },
      "source": [
        "from google.cloud import bigquery\n",
        "client = bigquery.Client('thesisprojects2019')"
      ],
      "execution_count": 0,
      "outputs": []
    },
    {
      "cell_type": "code",
      "metadata": {
        "id": "aulLpUQ2h2ys",
        "colab_type": "code",
        "outputId": "6e6ad4e9-a592-49d2-dfaa-c995d751c49f",
        "colab": {
          "base_uri": "https://localhost:8080/",
          "height": 122
        }
      },
      "source": [
        "from google.colab import drive\n",
        "drive.mount('/content/drive')"
      ],
      "execution_count": 0,
      "outputs": [
        {
          "output_type": "stream",
          "text": [
            "Go to this URL in a browser: https://accounts.google.com/o/oauth2/auth?client_id=947318989803-6bn6qk8qdgf4n4g3pfee6491hc0brc4i.apps.googleusercontent.com&redirect_uri=urn%3Aietf%3Awg%3Aoauth%3A2.0%3Aoob&scope=email%20https%3A%2F%2Fwww.googleapis.com%2Fauth%2Fdocs.test%20https%3A%2F%2Fwww.googleapis.com%2Fauth%2Fdrive%20https%3A%2F%2Fwww.googleapis.com%2Fauth%2Fdrive.photos.readonly%20https%3A%2F%2Fwww.googleapis.com%2Fauth%2Fpeopleapi.readonly&response_type=code\n",
            "\n",
            "Enter your authorization code:\n",
            "··········\n",
            "Mounted at /content/drive\n"
          ],
          "name": "stdout"
        }
      ]
    },
    {
      "cell_type": "markdown",
      "metadata": {
        "id": "tvAQI-s0L0YL",
        "colab_type": "text"
      },
      "source": [
        "# Dwelling Time - Test Statistic\n",
        "\n",
        "ANOVA Test - Independent t-test.\n",
        "\n",
        "Compare the means of the average dwelling time between all the different event. \n",
        "\n",
        "Can be compared to a regression model. \n",
        "outcome(i) = (model) + error(i)"
      ]
    },
    {
      "cell_type": "code",
      "metadata": {
        "id": "1ghLy0y1AQED",
        "colab_type": "code",
        "colab": {}
      },
      "source": [
        "# Dwell Time\n",
        "# create and import statistic table from bigquery\n",
        "\n",
        "query = \"\"\" SELECT eventid, event_type, venue, event, avg_dwelltime_min\n",
        "                 FROM  `thesisprojects2019.audeMS.prediction_spectators_final`\n",
        "                 ORDER BY eventid, avg_dwelltime_min \"\"\"\n",
        "data = client.query(query).to_dataframe()"
      ],
      "execution_count": 0,
      "outputs": []
    },
    {
      "cell_type": "code",
      "metadata": {
        "id": "jIjNXr0lBLIu",
        "colab_type": "code",
        "outputId": "e13a425c-a974-4dba-ba5a-c4b13fc8ed8e",
        "colab": {
          "base_uri": "https://localhost:8080/",
          "height": 111
        }
      },
      "source": [
        "data['venue_eventtype'] = data[['event_type', 'venue']].apply(lambda x: ' - '.join(x), axis=1)\n",
        "data.head(2)"
      ],
      "execution_count": 0,
      "outputs": [
        {
          "output_type": "execute_result",
          "data": {
            "text/html": [
              "<div>\n",
              "<style scoped>\n",
              "    .dataframe tbody tr th:only-of-type {\n",
              "        vertical-align: middle;\n",
              "    }\n",
              "\n",
              "    .dataframe tbody tr th {\n",
              "        vertical-align: top;\n",
              "    }\n",
              "\n",
              "    .dataframe thead th {\n",
              "        text-align: right;\n",
              "    }\n",
              "</style>\n",
              "<table border=\"1\" class=\"dataframe\">\n",
              "  <thead>\n",
              "    <tr style=\"text-align: right;\">\n",
              "      <th></th>\n",
              "      <th>eventid</th>\n",
              "      <th>event_type</th>\n",
              "      <th>venue</th>\n",
              "      <th>event</th>\n",
              "      <th>avg_dwelltime_min</th>\n",
              "      <th>venue_eventtype</th>\n",
              "    </tr>\n",
              "  </thead>\n",
              "  <tbody>\n",
              "    <tr>\n",
              "      <th>0</th>\n",
              "      <td>1_2017-11-04</td>\n",
              "      <td>Rugby International</td>\n",
              "      <td>twickenham</td>\n",
              "      <td>Barbarians New Zealand</td>\n",
              "      <td>55.5</td>\n",
              "      <td>Rugby International - twickenham</td>\n",
              "    </tr>\n",
              "    <tr>\n",
              "      <th>1</th>\n",
              "      <td>1_2017-11-04</td>\n",
              "      <td>Rugby International</td>\n",
              "      <td>twickenham</td>\n",
              "      <td>Barbarians New Zealand</td>\n",
              "      <td>58.0</td>\n",
              "      <td>Rugby International - twickenham</td>\n",
              "    </tr>\n",
              "  </tbody>\n",
              "</table>\n",
              "</div>"
            ],
            "text/plain": [
              "        eventid  ...                   venue_eventtype\n",
              "0  1_2017-11-04  ...  Rugby International - twickenham\n",
              "1  1_2017-11-04  ...  Rugby International - twickenham\n",
              "\n",
              "[2 rows x 6 columns]"
            ]
          },
          "metadata": {
            "tags": []
          },
          "execution_count": 8
        }
      ]
    },
    {
      "cell_type": "code",
      "metadata": {
        "id": "MPNCsHzkbMZk",
        "colab_type": "code",
        "colab": {}
      },
      "source": [
        "venue_eventtype_list = []\n",
        "for i in data.venue_eventtype.unique():\n",
        "  venue_eventtype_list.append(i)"
      ],
      "execution_count": 0,
      "outputs": []
    },
    {
      "cell_type": "code",
      "metadata": {
        "id": "SqF-z57Qa_lu",
        "colab_type": "code",
        "outputId": "b1993fc8-9000-4d3c-8b02-bb0245f9d9bc",
        "colab": {
          "base_uri": "https://localhost:8080/",
          "height": 170
        }
      },
      "source": [
        "data.groupby('venue_eventtype')['avg_dwelltime_min'].mean()"
      ],
      "execution_count": 0,
      "outputs": [
        {
          "output_type": "execute_result",
          "data": {
            "text/plain": [
              "venue_eventtype\n",
              "Champions League - wembley stadium          106.850233\n",
              "International Football - wembley stadium    112.204819\n",
              "NFL - wembley stadium                       204.816217\n",
              "Premier League - london stadium              96.052362\n",
              "Premier League - vicarage road              100.382828\n",
              "Premier League - wembley stadium            111.831462\n",
              "Rugby International - twickenham            110.315728\n",
              "Name: avg_dwelltime_min, dtype: float64"
            ]
          },
          "metadata": {
            "tags": []
          },
          "execution_count": 10
        }
      ]
    },
    {
      "cell_type": "code",
      "metadata": {
        "id": "Cphv2w9vEfqA",
        "colab_type": "code",
        "outputId": "b52b4bb7-e925-4f5d-d9df-bf079db006b3",
        "colab": {
          "base_uri": "https://localhost:8080/",
          "height": 111
        }
      },
      "source": [
        "data = data[data['avg_dwelltime_min']<= 480.0]\n",
        "data.tail(2)"
      ],
      "execution_count": 0,
      "outputs": [
        {
          "output_type": "execute_result",
          "data": {
            "text/html": [
              "<div>\n",
              "<style scoped>\n",
              "    .dataframe tbody tr th:only-of-type {\n",
              "        vertical-align: middle;\n",
              "    }\n",
              "\n",
              "    .dataframe tbody tr th {\n",
              "        vertical-align: top;\n",
              "    }\n",
              "\n",
              "    .dataframe thead th {\n",
              "        text-align: right;\n",
              "    }\n",
              "</style>\n",
              "<table border=\"1\" class=\"dataframe\">\n",
              "  <thead>\n",
              "    <tr style=\"text-align: right;\">\n",
              "      <th></th>\n",
              "      <th>eventid</th>\n",
              "      <th>event_type</th>\n",
              "      <th>venue</th>\n",
              "      <th>event</th>\n",
              "      <th>avg_dwelltime_min</th>\n",
              "      <th>venue_eventtype</th>\n",
              "    </tr>\n",
              "  </thead>\n",
              "  <tbody>\n",
              "    <tr>\n",
              "      <th>38610</th>\n",
              "      <td>4_2018-01-13</td>\n",
              "      <td>Premier League</td>\n",
              "      <td>wembley stadium</td>\n",
              "      <td>THFC Everton</td>\n",
              "      <td>347.5</td>\n",
              "      <td>Premier League - wembley stadium</td>\n",
              "    </tr>\n",
              "    <tr>\n",
              "      <th>38611</th>\n",
              "      <td>4_2018-01-13</td>\n",
              "      <td>Premier League</td>\n",
              "      <td>wembley stadium</td>\n",
              "      <td>THFC Everton</td>\n",
              "      <td>362.5</td>\n",
              "      <td>Premier League - wembley stadium</td>\n",
              "    </tr>\n",
              "  </tbody>\n",
              "</table>\n",
              "</div>"
            ],
            "text/plain": [
              "            eventid  ...                   venue_eventtype\n",
              "38610  4_2018-01-13  ...  Premier League - wembley stadium\n",
              "38611  4_2018-01-13  ...  Premier League - wembley stadium\n",
              "\n",
              "[2 rows x 6 columns]"
            ]
          },
          "metadata": {
            "tags": []
          },
          "execution_count": 11
        }
      ]
    },
    {
      "cell_type": "markdown",
      "metadata": {
        "id": "ty-3P9PTQ8Uj",
        "colab_type": "text"
      },
      "source": [
        "#### Normal Distribution of the variable"
      ]
    },
    {
      "cell_type": "code",
      "metadata": {
        "id": "7bIrOHyPbPbQ",
        "colab_type": "code",
        "outputId": "e6fe67cb-911b-4f76-fc7a-f70b4df522fc",
        "colab": {
          "base_uri": "https://localhost:8080/",
          "height": 1000
        }
      },
      "source": [
        "## For all different event\n",
        "for i in venue_eventtype_list:\n",
        "  \n",
        "  new_data = data[data['venue_eventtype']==i].reset_index()\n",
        "  eventname = new_data['venue_eventtype'][0]\n",
        "  \n",
        "  x = np.log(new_data['avg_dwelltime_min'])\n",
        "  #x = new_data['avg_dwelltime_min']\n",
        "  \n",
        "  f, ax = plt.subplots(figsize=(5,4))\n",
        "  \n",
        "  sns.distplot(x)\n",
        "  \n",
        "  plt.title(str(eventname), fontsize=10, horizontalalignment='center')\n",
        "  plt.xlabel('log(x variable - Avg. Dwell Time (min))',fontsize='10', horizontalalignment='center')\n",
        "  plt.xticks(horizontalalignment='center', fontsize='8')\n",
        "  plt.yticks(horizontalalignment='center', fontsize='8') \n",
        "  ax.set_xticks(np.arange(2.5,7.6,1.5))\n",
        "  ax.set_yticks(np.arange(0,2.1,0.5))\n",
        "  ax.tick_params(axis='both', which='major', pad=8)\n",
        " # plt.savefig('drive/My Drive/Dan - Meetings/Thesis Maps & Graphs/Avg_Dwelltime_Distribution/distplot_'+str(eventname)+'.png')\n",
        "    \n",
        " # plt.close('all')\n",
        "  plt.show()"
      ],
      "execution_count": 0,
      "outputs": [
        {
          "output_type": "display_data",
          "data": {
            "image/png": "[encoded data removed]",
            "text/plain": [
              "<Figure size 360x288 with 1 Axes>"
            ]
          },
          "metadata": {
            "tags": []
          }
        },
        {
          "output_type": "display_data",
          "data": {
            "image/png": "[encoded data removed]",
            "text/plain": [
              "<Figure size 360x288 with 1 Axes>"
            ]
          },
          "metadata": {
            "tags": []
          }
        },
        {
          "output_type": "display_data",
          "data": {
            "image/png": "[encoded data removed]",
            "text/plain": [
              "<Figure size 360x288 with 1 Axes>"
            ]
          },
          "metadata": {
            "tags": []
          }
        },
        {
          "output_type": "display_data",
          "data": {
            "image/png": "[encoded data removed]",
            "text/plain": [
              "<Figure size 360x288 with 1 Axes>"
            ]
          },
          "metadata": {
            "tags": []
          }
        },
        {
          "output_type": "display_data",
          "data": {
            "image/png": "[encoded data removed]",
            "text/plain": [
              "<Figure size 360x288 with 1 Axes>"
            ]
          },
          "metadata": {
            "tags": []
          }
        },
        {
          "output_type": "display_data",
          "data": {
            "image/png": "[encoded data removed]",
            "text/plain": [
              "<Figure size 360x288 with 1 Axes>"
            ]
          },
          "metadata": {
            "tags": []
          }
        },
        {
          "output_type": "display_data",
          "data": {
            "image/png": "[encoded data removed]",
            "text/plain": [
              "<Figure size 360x288 with 1 Axes>"
            ]
          },
          "metadata": {
            "tags": []
          }
        }
      ]
    },
    {
      "cell_type": "markdown",
      "metadata": {
        "id": "76R-Ig9yRHN7",
        "colab_type": "text"
      },
      "source": [
        "#### Summary Statistic of the data"
      ]
    },
    {
      "cell_type": "code",
      "metadata": {
        "id": "XkcLT4vidiwS",
        "colab_type": "code",
        "outputId": "edd770b8-1d45-44e5-f20f-243a88c74926",
        "colab": {
          "base_uri": "https://localhost:8080/",
          "height": 569
        }
      },
      "source": [
        "# summary statistic of the data.\n",
        "data['log_avg_dwelltime_min'] = np.log(data['avg_dwelltime_min'])\n",
        "data.groupby(['venue_eventtype']).describe()"
      ],
      "execution_count": 0,
      "outputs": [
        {
          "output_type": "execute_result",
          "data": {
            "text/html": [
              "<div>\n",
              "<style scoped>\n",
              "    .dataframe tbody tr th:only-of-type {\n",
              "        vertical-align: middle;\n",
              "    }\n",
              "\n",
              "    .dataframe tbody tr th {\n",
              "        vertical-align: top;\n",
              "    }\n",
              "\n",
              "    .dataframe thead tr th {\n",
              "        text-align: left;\n",
              "    }\n",
              "\n",
              "    .dataframe thead tr:last-of-type th {\n",
              "        text-align: right;\n",
              "    }\n",
              "</style>\n",
              "<table border=\"1\" class=\"dataframe\">\n",
              "  <thead>\n",
              "    <tr>\n",
              "      <th></th>\n",
              "      <th colspan=\"8\" halign=\"left\">avg_dwelltime_min</th>\n",
              "      <th colspan=\"8\" halign=\"left\">log_avg_dwelltime_min</th>\n",
              "    </tr>\n",
              "    <tr>\n",
              "      <th></th>\n",
              "      <th>count</th>\n",
              "      <th>mean</th>\n",
              "      <th>std</th>\n",
              "      <th>min</th>\n",
              "      <th>25%</th>\n",
              "      <th>50%</th>\n",
              "      <th>75%</th>\n",
              "      <th>max</th>\n",
              "      <th>count</th>\n",
              "      <th>mean</th>\n",
              "      <th>std</th>\n",
              "      <th>min</th>\n",
              "      <th>25%</th>\n",
              "      <th>50%</th>\n",
              "      <th>75%</th>\n",
              "      <th>max</th>\n",
              "    </tr>\n",
              "    <tr>\n",
              "      <th>venue_eventtype</th>\n",
              "      <th></th>\n",
              "      <th></th>\n",
              "      <th></th>\n",
              "      <th></th>\n",
              "      <th></th>\n",
              "      <th></th>\n",
              "      <th></th>\n",
              "      <th></th>\n",
              "      <th></th>\n",
              "      <th></th>\n",
              "      <th></th>\n",
              "      <th></th>\n",
              "      <th></th>\n",
              "      <th></th>\n",
              "      <th></th>\n",
              "      <th></th>\n",
              "    </tr>\n",
              "  </thead>\n",
              "  <tbody>\n",
              "    <tr>\n",
              "      <th>Champions League - wembley stadium</th>\n",
              "      <td>3648.0</td>\n",
              "      <td>106.743147</td>\n",
              "      <td>37.127065</td>\n",
              "      <td>52.5</td>\n",
              "      <td>80.50</td>\n",
              "      <td>102.0</td>\n",
              "      <td>123.125</td>\n",
              "      <td>433.0</td>\n",
              "      <td>3648.0</td>\n",
              "      <td>4.619671</td>\n",
              "      <td>0.311012</td>\n",
              "      <td>3.960813</td>\n",
              "      <td>4.388257</td>\n",
              "      <td>4.624973</td>\n",
              "      <td>4.813199</td>\n",
              "      <td>6.070738</td>\n",
              "    </tr>\n",
              "    <tr>\n",
              "      <th>International Football - wembley stadium</th>\n",
              "      <td>3983.0</td>\n",
              "      <td>112.111850</td>\n",
              "      <td>37.474146</td>\n",
              "      <td>53.0</td>\n",
              "      <td>86.75</td>\n",
              "      <td>106.5</td>\n",
              "      <td>129.500</td>\n",
              "      <td>471.5</td>\n",
              "      <td>3983.0</td>\n",
              "      <td>4.671630</td>\n",
              "      <td>0.303676</td>\n",
              "      <td>3.970292</td>\n",
              "      <td>4.463026</td>\n",
              "      <td>4.668145</td>\n",
              "      <td>4.863681</td>\n",
              "      <td>6.155919</td>\n",
              "    </tr>\n",
              "    <tr>\n",
              "      <th>NFL - wembley stadium</th>\n",
              "      <td>3626.0</td>\n",
              "      <td>204.193878</td>\n",
              "      <td>48.986477</td>\n",
              "      <td>93.5</td>\n",
              "      <td>172.00</td>\n",
              "      <td>195.5</td>\n",
              "      <td>229.500</td>\n",
              "      <td>466.0</td>\n",
              "      <td>3626.0</td>\n",
              "      <td>5.291872</td>\n",
              "      <td>0.231780</td>\n",
              "      <td>4.537961</td>\n",
              "      <td>5.147494</td>\n",
              "      <td>5.275560</td>\n",
              "      <td>5.435903</td>\n",
              "      <td>6.144186</td>\n",
              "    </tr>\n",
              "    <tr>\n",
              "      <th>Premier League - london stadium</th>\n",
              "      <td>5859.0</td>\n",
              "      <td>95.755675</td>\n",
              "      <td>35.118717</td>\n",
              "      <td>45.5</td>\n",
              "      <td>72.00</td>\n",
              "      <td>89.5</td>\n",
              "      <td>108.500</td>\n",
              "      <td>458.0</td>\n",
              "      <td>5859.0</td>\n",
              "      <td>4.512179</td>\n",
              "      <td>0.300237</td>\n",
              "      <td>3.817712</td>\n",
              "      <td>4.276666</td>\n",
              "      <td>4.494239</td>\n",
              "      <td>4.686750</td>\n",
              "      <td>6.126869</td>\n",
              "    </tr>\n",
              "    <tr>\n",
              "      <th>Premier League - vicarage road</th>\n",
              "      <td>1483.0</td>\n",
              "      <td>99.810519</td>\n",
              "      <td>39.318574</td>\n",
              "      <td>52.5</td>\n",
              "      <td>71.50</td>\n",
              "      <td>89.0</td>\n",
              "      <td>114.500</td>\n",
              "      <td>406.5</td>\n",
              "      <td>1483.0</td>\n",
              "      <td>4.543697</td>\n",
              "      <td>0.329002</td>\n",
              "      <td>3.960813</td>\n",
              "      <td>4.269697</td>\n",
              "      <td>4.488636</td>\n",
              "      <td>4.740575</td>\n",
              "      <td>6.007584</td>\n",
              "    </tr>\n",
              "    <tr>\n",
              "      <th>Premier League - wembley stadium</th>\n",
              "      <td>13527.0</td>\n",
              "      <td>111.607969</td>\n",
              "      <td>42.426054</td>\n",
              "      <td>53.0</td>\n",
              "      <td>81.00</td>\n",
              "      <td>104.5</td>\n",
              "      <td>129.500</td>\n",
              "      <td>457.0</td>\n",
              "      <td>13527.0</td>\n",
              "      <td>4.654220</td>\n",
              "      <td>0.339564</td>\n",
              "      <td>3.970292</td>\n",
              "      <td>4.394449</td>\n",
              "      <td>4.649187</td>\n",
              "      <td>4.863681</td>\n",
              "      <td>6.124683</td>\n",
              "    </tr>\n",
              "    <tr>\n",
              "      <th>Rugby International - twickenham</th>\n",
              "      <td>6464.0</td>\n",
              "      <td>110.173886</td>\n",
              "      <td>42.757604</td>\n",
              "      <td>53.0</td>\n",
              "      <td>80.00</td>\n",
              "      <td>99.5</td>\n",
              "      <td>128.500</td>\n",
              "      <td>457.0</td>\n",
              "      <td>6464.0</td>\n",
              "      <td>4.639515</td>\n",
              "      <td>0.341912</td>\n",
              "      <td>3.970292</td>\n",
              "      <td>4.382027</td>\n",
              "      <td>4.600158</td>\n",
              "      <td>4.855929</td>\n",
              "      <td>6.124683</td>\n",
              "    </tr>\n",
              "  </tbody>\n",
              "</table>\n",
              "</div>"
            ],
            "text/plain": [
              "                                         avg_dwelltime_min  ... log_avg_dwelltime_min\n",
              "                                                     count  ...                   max\n",
              "venue_eventtype                                             ...                      \n",
              "Champions League - wembley stadium                  3648.0  ...              6.070738\n",
              "International Football - wembley stadium            3983.0  ...              6.155919\n",
              "NFL - wembley stadium                               3626.0  ...              6.144186\n",
              "Premier League - london stadium                     5859.0  ...              6.126869\n",
              "Premier League - vicarage road                      1483.0  ...              6.007584\n",
              "Premier League - wembley stadium                   13527.0  ...              6.124683\n",
              "Rugby International - twickenham                    6464.0  ...              6.124683\n",
              "\n",
              "[7 rows x 16 columns]"
            ]
          },
          "metadata": {
            "tags": []
          },
          "execution_count": 16
        }
      ]
    },
    {
      "cell_type": "markdown",
      "metadata": {
        "id": "WLHHGEzyRMkk",
        "colab_type": "text"
      },
      "source": [
        "\n",
        "\n",
        "### TEST Statistical Assumption \n",
        "#### Levene Test - Homogeity of Variance\n",
        "\n"
      ]
    },
    {
      "cell_type": "code",
      "metadata": {
        "id": "u5KrsgW0RVoJ",
        "colab_type": "code",
        "colab": {}
      },
      "source": [
        "# Test for homgeity of variances\n",
        "\n",
        "# Levene Test - If Test Significant : Homogeneity of variance is false\n",
        "\n",
        "levene_test = []\n",
        "event_list = []\n",
        "for e in venue_eventtype_list:\n",
        "  \n",
        "  datanew = data[data['venue_eventtype']==e]\n",
        "  data_nfl = data[data['venue_eventtype']=='Champions League - wembley stadium']\n",
        "  \n",
        "  test_levene = stats.levene(datanew['log_avg_dwelltime_min'],data_nfl['log_avg_dwelltime_min'])\n",
        "  levene_test.append(test_levene)\n",
        "  \n",
        "  event_list.append(e)"
      ],
      "execution_count": 0,
      "outputs": []
    },
    {
      "cell_type": "code",
      "metadata": {
        "id": "ucjImSIIRh9E",
        "colab_type": "code",
        "outputId": "d59ff2f2-8476-48fe-8105-2d9ed4022d00",
        "colab": {
          "base_uri": "https://localhost:8080/",
          "height": 266
        }
      },
      "source": [
        "# Levene Test\n",
        "# Test assumption of normality. (First value w-test stat, Second value p-value)\n",
        "## Levene Test Positive (Significant) -- Non-Homegenous Variance\n",
        "## Levene Test Negative (Non-Significant) -- Homegenous Variance\n",
        " \n",
        "new_df  =pd.DataFrame()\n",
        "\n",
        "new_df['event'] = event_list\n",
        "new_df['levene'] = levene_test\n",
        "\n",
        "# Results -- p-value << 0.05 non-significant \n",
        "new_df"
      ],
      "execution_count": 0,
      "outputs": [
        {
          "output_type": "execute_result",
          "data": {
            "text/html": [
              "<div>\n",
              "<style scoped>\n",
              "    .dataframe tbody tr th:only-of-type {\n",
              "        vertical-align: middle;\n",
              "    }\n",
              "\n",
              "    .dataframe tbody tr th {\n",
              "        vertical-align: top;\n",
              "    }\n",
              "\n",
              "    .dataframe thead th {\n",
              "        text-align: right;\n",
              "    }\n",
              "</style>\n",
              "<table border=\"1\" class=\"dataframe\">\n",
              "  <thead>\n",
              "    <tr style=\"text-align: right;\">\n",
              "      <th></th>\n",
              "      <th>event</th>\n",
              "      <th>levene</th>\n",
              "    </tr>\n",
              "  </thead>\n",
              "  <tbody>\n",
              "    <tr>\n",
              "      <th>0</th>\n",
              "      <td>Rugby International - twickenham</td>\n",
              "      <td>(37.69108531196229, 8.599642892052788e-10)</td>\n",
              "    </tr>\n",
              "    <tr>\n",
              "      <th>1</th>\n",
              "      <td>Premier League - vicarage road</td>\n",
              "      <td>(9.305445016768799, 0.0022964124080267173)</td>\n",
              "    </tr>\n",
              "    <tr>\n",
              "      <th>2</th>\n",
              "      <td>Premier League - london stadium</td>\n",
              "      <td>(6.840660641049378, 0.00892466606109376)</td>\n",
              "    </tr>\n",
              "    <tr>\n",
              "      <th>3</th>\n",
              "      <td>International Football - wembley stadium</td>\n",
              "      <td>(3.1150792695000504, 0.0776107077360247)</td>\n",
              "    </tr>\n",
              "    <tr>\n",
              "      <th>4</th>\n",
              "      <td>Champions League - wembley stadium</td>\n",
              "      <td>(0.0, 1.0)</td>\n",
              "    </tr>\n",
              "    <tr>\n",
              "      <th>5</th>\n",
              "      <td>Premier League - wembley stadium</td>\n",
              "      <td>(40.92675894385331, 1.6212803501755753e-10)</td>\n",
              "    </tr>\n",
              "    <tr>\n",
              "      <th>6</th>\n",
              "      <td>NFL - wembley stadium</td>\n",
              "      <td>(272.2264325995741, 4.541808149129114e-60)</td>\n",
              "    </tr>\n",
              "  </tbody>\n",
              "</table>\n",
              "</div>"
            ],
            "text/plain": [
              "                                      event                                       levene\n",
              "0          Rugby International - twickenham   (37.69108531196229, 8.599642892052788e-10)\n",
              "1            Premier League - vicarage road   (9.305445016768799, 0.0022964124080267173)\n",
              "2           Premier League - london stadium     (6.840660641049378, 0.00892466606109376)\n",
              "3  International Football - wembley stadium     (3.1150792695000504, 0.0776107077360247)\n",
              "4        Champions League - wembley stadium                                   (0.0, 1.0)\n",
              "5          Premier League - wembley stadium  (40.92675894385331, 1.6212803501755753e-10)\n",
              "6                     NFL - wembley stadium   (272.2264325995741, 4.541808149129114e-60)"
            ]
          },
          "metadata": {
            "tags": []
          },
          "execution_count": 18
        }
      ]
    },
    {
      "cell_type": "markdown",
      "metadata": {
        "id": "9INy_AFZR53H",
        "colab_type": "text"
      },
      "source": [
        "#### Shapiro - Test for Normal Distribution\n",
        "\n",
        "(The plot distribution from log transform variable, already show normal distribution!)"
      ]
    },
    {
      "cell_type": "code",
      "metadata": {
        "id": "8KUgV4rc4clj",
        "colab_type": "code",
        "outputId": "cb82aace-a1f4-4dda-e8e7-05d5b7fe6589",
        "colab": {
          "base_uri": "https://localhost:8080/",
          "height": 51
        }
      },
      "source": [
        "# Shapiro t-test\n",
        "## Shapiro Test Positive (Significant) -- Non-Normaly Distributed Data\n",
        "## Shapiro Test Negative (Non-Significant) -- Normaly Distributed Data \n",
        "\n",
        "shapiro_test = []\n",
        "test_shapiro_pvalue_list = []\n",
        "event_list = []\n",
        "for e in venue_eventtype_list:\n",
        "  \n",
        "  datanew = data[data['venue_eventtype']==e]\n",
        "  \n",
        "  test_shapiro = stats.shapiro(datanew['log_avg_dwelltime_min'])[0]\n",
        "  test_shapiro_pvalue = stats.shapiro(datanew['log_avg_dwelltime_min'])[1]\n",
        "  shapiro_test.append(test_shapiro)\n",
        "  test_shapiro_pvalue_list.append(test_shapiro_pvalue)\n",
        "  \n",
        "  event_list.append(e)"
      ],
      "execution_count": 0,
      "outputs": [
        {
          "output_type": "stream",
          "text": [
            "/usr/local/lib/python3.6/dist-packages/scipy/stats/morestats.py:1660: UserWarning: p-value may not be accurate for N > 5000.\n",
            "  warnings.warn(\"p-value may not be accurate for N > 5000.\")\n"
          ],
          "name": "stderr"
        }
      ]
    },
    {
      "cell_type": "code",
      "metadata": {
        "id": "HsYMrfO55Ofu",
        "colab_type": "code",
        "outputId": "382138c3-abfa-4429-cb07-da55f8fec89f",
        "colab": {
          "base_uri": "https://localhost:8080/",
          "height": 266
        }
      },
      "source": [
        "# Shapiro Test\n",
        "# Test assumption of normality. (First value w-test stat, Second value p-value)\n",
        "\n",
        "new_df  =pd.DataFrame()\n",
        "\n",
        "new_df['Event Category'] = event_list\n",
        "new_df['Shapiro test'] = shapiro_test\n",
        "new_df['p-value'] = test_shapiro_pvalue_list\n",
        "\n",
        "# Result - p-value << 0.05 True \n",
        "new_df"
      ],
      "execution_count": 0,
      "outputs": [
        {
          "output_type": "execute_result",
          "data": {
            "text/html": [
              "<div>\n",
              "<style scoped>\n",
              "    .dataframe tbody tr th:only-of-type {\n",
              "        vertical-align: middle;\n",
              "    }\n",
              "\n",
              "    .dataframe tbody tr th {\n",
              "        vertical-align: top;\n",
              "    }\n",
              "\n",
              "    .dataframe thead th {\n",
              "        text-align: right;\n",
              "    }\n",
              "</style>\n",
              "<table border=\"1\" class=\"dataframe\">\n",
              "  <thead>\n",
              "    <tr style=\"text-align: right;\">\n",
              "      <th></th>\n",
              "      <th>Event Category</th>\n",
              "      <th>Shapiro test</th>\n",
              "      <th>p-value</th>\n",
              "    </tr>\n",
              "  </thead>\n",
              "  <tbody>\n",
              "    <tr>\n",
              "      <th>0</th>\n",
              "      <td>Rugby International - twickenham</td>\n",
              "      <td>0.969611</td>\n",
              "      <td>6.916771e-35</td>\n",
              "    </tr>\n",
              "    <tr>\n",
              "      <th>1</th>\n",
              "      <td>Premier League - vicarage road</td>\n",
              "      <td>0.945768</td>\n",
              "      <td>6.301499e-23</td>\n",
              "    </tr>\n",
              "    <tr>\n",
              "      <th>2</th>\n",
              "      <td>Premier League - london stadium</td>\n",
              "      <td>0.962111</td>\n",
              "      <td>1.317307e-36</td>\n",
              "    </tr>\n",
              "    <tr>\n",
              "      <th>3</th>\n",
              "      <td>International Football - wembley stadium</td>\n",
              "      <td>0.989553</td>\n",
              "      <td>1.429507e-16</td>\n",
              "    </tr>\n",
              "    <tr>\n",
              "      <th>4</th>\n",
              "      <td>Champions League - wembley stadium</td>\n",
              "      <td>0.984110</td>\n",
              "      <td>7.825602e-20</td>\n",
              "    </tr>\n",
              "    <tr>\n",
              "      <th>5</th>\n",
              "      <td>Premier League - wembley stadium</td>\n",
              "      <td>0.982171</td>\n",
              "      <td>8.051567e-38</td>\n",
              "    </tr>\n",
              "    <tr>\n",
              "      <th>6</th>\n",
              "      <td>NFL - wembley stadium</td>\n",
              "      <td>0.996059</td>\n",
              "      <td>3.272752e-08</td>\n",
              "    </tr>\n",
              "  </tbody>\n",
              "</table>\n",
              "</div>"
            ],
            "text/plain": [
              "                             Event Category  Shapiro test       p-value\n",
              "0          Rugby International - twickenham      0.969611  6.916771e-35\n",
              "1            Premier League - vicarage road      0.945768  6.301499e-23\n",
              "2           Premier League - london stadium      0.962111  1.317307e-36\n",
              "3  International Football - wembley stadium      0.989553  1.429507e-16\n",
              "4        Champions League - wembley stadium      0.984110  7.825602e-20\n",
              "5          Premier League - wembley stadium      0.982171  8.051567e-38\n",
              "6                     NFL - wembley stadium      0.996059  3.272752e-08"
            ]
          },
          "metadata": {
            "tags": []
          },
          "execution_count": 20
        }
      ]
    },
    {
      "cell_type": "markdown",
      "metadata": {
        "id": "2SCyWohWMY13",
        "colab_type": "text"
      },
      "source": [
        "### ANOVA Test"
      ]
    },
    {
      "cell_type": "code",
      "metadata": {
        "id": "iM-FYYAMdw0t",
        "colab_type": "code",
        "outputId": "bcb59a89-7cd8-4986-af2f-103f72c0f7fd",
        "colab": {
          "base_uri": "https://localhost:8080/",
          "height": 34
        }
      },
      "source": [
        "# ANOVA Independent t-test\n",
        "\n",
        "test = stats.f_oneway(data['log_avg_dwelltime_min'][data['venue_eventtype'] == 'Rugby International - twickenham'],\n",
        "               data['log_avg_dwelltime_min'][data['venue_eventtype'] == 'Premier League - wembley stadium'],\n",
        "               data['log_avg_dwelltime_min'][data['venue_eventtype'] == 'Premier League - vicarage road'],\n",
        "               data['log_avg_dwelltime_min'][data['venue_eventtype'] == 'Premier League - london stadium'],\n",
        "               data['log_avg_dwelltime_min'][data['venue_eventtype'] == 'NFL - wembley stadium'],\n",
        "               data['log_avg_dwelltime_min'][data['venue_eventtype'] == 'International Football - wembley stadium'],\n",
        "               data['log_avg_dwelltime_min'][data['venue_eventtype'] == 'Champions League - wembley stadium'])\n",
        "\n",
        "print(test)\n",
        "## p-value significant << 0.05\n",
        "## F-statistic significant large!"
      ],
      "execution_count": 0,
      "outputs": [
        {
          "output_type": "stream",
          "text": [
            "F_onewayResult(statistic=2597.067210686205, pvalue=0.0)\n"
          ],
          "name": "stdout"
        }
      ]
    },
    {
      "cell_type": "code",
      "metadata": {
        "id": "DOSPYOGseFLS",
        "colab_type": "code",
        "outputId": "4277a1b2-4118-4941-c17d-5edaacd46ed3",
        "colab": {
          "base_uri": "https://localhost:8080/",
          "height": 549
        }
      },
      "source": [
        "results = ols('log_avg_dwelltime_min ~ C(venue_eventtype)', data=data).fit()\n",
        "results.summary()"
      ],
      "execution_count": 0,
      "outputs": [
        {
          "output_type": "execute_result",
          "data": {
            "text/html": [
              "<table class=\"simpletable\">\n",
              "<caption>OLS Regression Results</caption>\n",
              "<tr>\n",
              "  <th>Dep. Variable:</th>    <td>log_avg_dwelltime_min</td> <th>  R-squared:         </th> <td>   0.288</td> \n",
              "</tr>\n",
              "<tr>\n",
              "  <th>Model:</th>                     <td>OLS</td>          <th>  Adj. R-squared:    </th> <td>   0.288</td> \n",
              "</tr>\n",
              "<tr>\n",
              "  <th>Method:</th>               <td>Least Squares</td>     <th>  F-statistic:       </th> <td>   2597.</td> \n",
              "</tr>\n",
              "<tr>\n",
              "  <th>Date:</th>               <td>Sat, 24 Aug 2019</td>    <th>  Prob (F-statistic):</th>  <td>  0.00</td>  \n",
              "</tr>\n",
              "<tr>\n",
              "  <th>Time:</th>                   <td>10:42:57</td>        <th>  Log-Likelihood:    </th> <td> -10623.</td> \n",
              "</tr>\n",
              "<tr>\n",
              "  <th>No. Observations:</th>        <td> 38590</td>         <th>  AIC:               </th> <td>2.126e+04</td>\n",
              "</tr>\n",
              "<tr>\n",
              "  <th>Df Residuals:</th>            <td> 38583</td>         <th>  BIC:               </th> <td>2.132e+04</td>\n",
              "</tr>\n",
              "<tr>\n",
              "  <th>Df Model:</th>                <td>     6</td>         <th>                     </th>     <td> </td>    \n",
              "</tr>\n",
              "<tr>\n",
              "  <th>Covariance Type:</th>        <td>nonrobust</td>       <th>                     </th>     <td> </td>    \n",
              "</tr>\n",
              "</table>\n",
              "<table class=\"simpletable\">\n",
              "<tr>\n",
              "                                 <td></td>                                   <th>coef</th>     <th>std err</th>      <th>t</th>      <th>P>|t|</th>  <th>[0.025</th>    <th>0.975]</th>  \n",
              "</tr>\n",
              "<tr>\n",
              "  <th>Intercept</th>                                                      <td>    4.6197</td> <td>    0.005</td> <td>  875.558</td> <td> 0.000</td> <td>    4.609</td> <td>    4.630</td>\n",
              "</tr>\n",
              "<tr>\n",
              "  <th>C(venue_eventtype)[T.International Football - wembley stadium]</th> <td>    0.0520</td> <td>    0.007</td> <td>    7.115</td> <td> 0.000</td> <td>    0.038</td> <td>    0.066</td>\n",
              "</tr>\n",
              "<tr>\n",
              "  <th>C(venue_eventtype)[T.NFL - wembley stadium]</th>                    <td>    0.6722</td> <td>    0.007</td> <td>   89.950</td> <td> 0.000</td> <td>    0.658</td> <td>    0.687</td>\n",
              "</tr>\n",
              "<tr>\n",
              "  <th>C(venue_eventtype)[T.Premier League - london stadium]</th>          <td>   -0.1075</td> <td>    0.007</td> <td>  -15.993</td> <td> 0.000</td> <td>   -0.121</td> <td>   -0.094</td>\n",
              "</tr>\n",
              "<tr>\n",
              "  <th>C(venue_eventtype)[T.Premier League - vicarage road]</th>           <td>   -0.0760</td> <td>    0.010</td> <td>   -7.741</td> <td> 0.000</td> <td>   -0.095</td> <td>   -0.057</td>\n",
              "</tr>\n",
              "<tr>\n",
              "  <th>C(venue_eventtype)[T.Premier League - wembley stadium]</th>         <td>    0.0345</td> <td>    0.006</td> <td>    5.811</td> <td> 0.000</td> <td>    0.023</td> <td>    0.046</td>\n",
              "</tr>\n",
              "<tr>\n",
              "  <th>C(venue_eventtype)[T.Rugby International - twickenham]</th>         <td>    0.0198</td> <td>    0.007</td> <td>    3.007</td> <td> 0.003</td> <td>    0.007</td> <td>    0.033</td>\n",
              "</tr>\n",
              "</table>\n",
              "<table class=\"simpletable\">\n",
              "<tr>\n",
              "  <th>Omnibus:</th>       <td>1937.039</td> <th>  Durbin-Watson:     </th> <td>   0.032</td>\n",
              "</tr>\n",
              "<tr>\n",
              "  <th>Prob(Omnibus):</th>  <td> 0.000</td>  <th>  Jarque-Bera (JB):  </th> <td>2313.422</td>\n",
              "</tr>\n",
              "<tr>\n",
              "  <th>Skew:</th>           <td> 0.542</td>  <th>  Prob(JB):          </th> <td>    0.00</td>\n",
              "</tr>\n",
              "<tr>\n",
              "  <th>Kurtosis:</th>       <td> 3.514</td>  <th>  Cond. No.          </th> <td>    10.1</td>\n",
              "</tr>\n",
              "</table><br/><br/>Warnings:<br/>[1] Standard Errors assume that the covariance matrix of the errors is correctly specified."
            ],
            "text/plain": [
              "<class 'statsmodels.iolib.summary.Summary'>\n",
              "\"\"\"\n",
              "                              OLS Regression Results                             \n",
              "=================================================================================\n",
              "Dep. Variable:     log_avg_dwelltime_min   R-squared:                       0.288\n",
              "Model:                               OLS   Adj. R-squared:                  0.288\n",
              "Method:                    Least Squares   F-statistic:                     2597.\n",
              "Date:                   Sat, 24 Aug 2019   Prob (F-statistic):               0.00\n",
              "Time:                           10:42:57   Log-Likelihood:                -10623.\n",
              "No. Observations:                  38590   AIC:                         2.126e+04\n",
              "Df Residuals:                      38583   BIC:                         2.132e+04\n",
              "Df Model:                              6                                         \n",
              "Covariance Type:               nonrobust                                         \n",
              "==================================================================================================================================\n",
              "                                                                     coef    std err          t      P>|t|      [0.025      0.975]\n",
              "----------------------------------------------------------------------------------------------------------------------------------\n",
              "Intercept                                                          4.6197      0.005    875.558      0.000       4.609       4.630\n",
              "C(venue_eventtype)[T.International Football - wembley stadium]     0.0520      0.007      7.115      0.000       0.038       0.066\n",
              "C(venue_eventtype)[T.NFL - wembley stadium]                        0.6722      0.007     89.950      0.000       0.658       0.687\n",
              "C(venue_eventtype)[T.Premier League - london stadium]             -0.1075      0.007    -15.993      0.000      -0.121      -0.094\n",
              "C(venue_eventtype)[T.Premier League - vicarage road]              -0.0760      0.010     -7.741      0.000      -0.095      -0.057\n",
              "C(venue_eventtype)[T.Premier League - wembley stadium]             0.0345      0.006      5.811      0.000       0.023       0.046\n",
              "C(venue_eventtype)[T.Rugby International - twickenham]             0.0198      0.007      3.007      0.003       0.007       0.033\n",
              "==============================================================================\n",
              "Omnibus:                     1937.039   Durbin-Watson:                   0.032\n",
              "Prob(Omnibus):                  0.000   Jarque-Bera (JB):             2313.422\n",
              "Skew:                           0.542   Prob(JB):                         0.00\n",
              "Kurtosis:                       3.514   Cond. No.                         10.1\n",
              "==============================================================================\n",
              "\n",
              "Warnings:\n",
              "[1] Standard Errors assume that the covariance matrix of the errors is correctly specified.\n",
              "\"\"\""
            ]
          },
          "metadata": {
            "tags": []
          },
          "execution_count": 22
        }
      ]
    },
    {
      "cell_type": "code",
      "metadata": {
        "id": "J5k7hyXng1Rd",
        "colab_type": "code",
        "outputId": "fba2c8cc-8c6c-4bed-e062-f0b0ce776a53",
        "colab": {
          "base_uri": "https://localhost:8080/",
          "height": 34
        }
      },
      "source": [
        "## Bonferroni Correction\n",
        "## Calculate the corrected p-value \n",
        "## corrected p-value = p-value/# of comparisons = 0.05/(7 event_type)\n",
        "print('Corrected p-value: '+str(0.05/7))"
      ],
      "execution_count": 0,
      "outputs": [
        {
          "output_type": "stream",
          "text": [
            "Corrected p-value: 0.0071428571428571435\n"
          ],
          "name": "stdout"
        }
      ]
    },
    {
      "cell_type": "markdown",
      "metadata": {
        "id": "B53RBEP2Mdq3",
        "colab_type": "text"
      },
      "source": [
        "#### Degree of Freedom"
      ]
    },
    {
      "cell_type": "code",
      "metadata": {
        "id": "moRbMtnSJmvh",
        "colab_type": "code",
        "colab": {}
      },
      "source": [
        "# Report the Degrees of Freedom. \n",
        "\n",
        "def ttest_twosamples(x, y): \n",
        "    ## T-Test Degrees of Freedom ##\n",
        "    dof = (x.var()/x.size + y.var()/y.size)**2 / ((x.var()/x.size)**2 / (x.size-1) + (y.var()/y.size)**2 / (y.size-1))\n",
        "   \n",
        "    t, p = stats.ttest_ind(x, y, equal_var = False)\n",
        "    \n",
        "    ttest_twosample = round(t,4)\n",
        "    p_value = round(p,8)\n",
        "    degfree = round(dof,4)\n",
        "    \n",
        "    return ttest_twosample, p_value, degfree"
      ],
      "execution_count": 0,
      "outputs": []
    },
    {
      "cell_type": "markdown",
      "metadata": {
        "id": "c7Ecr1UqMhKl",
        "colab_type": "text"
      },
      "source": [
        "### Independent T-test"
      ]
    },
    {
      "cell_type": "code",
      "metadata": {
        "id": "V_pQwJyBKEUK",
        "colab_type": "code",
        "colab": {}
      },
      "source": [
        "ttest_twosamples_list = []\n",
        "p_value_list = []\n",
        "degfree_list = []\n",
        "event1_list = []\n",
        "event2_list= []\n",
        "\n",
        "for e in venue_eventtype_list:\n",
        "  \n",
        "#  print(' NFL v. '+str(e))\n",
        "  nfl_welch_ttest = ttest_twosamples(data['log_avg_dwelltime_min'][data['venue_eventtype'] == e], \n",
        "                                            data['log_avg_dwelltime_min'][data['venue_eventtype'] == 'NFL - wembley stadium'])\n",
        " # print(nfl_welch_ttest[])\n",
        "  \n",
        "  ttest_twosamples_list.append(nfl_welch_ttest[0])\n",
        "  p_value_list.append(nfl_welch_ttest[1])\n",
        "  degfree_list.append(nfl_welch_ttest[2])\n",
        "  \n",
        "  event1_list.append('NFL - Wembley')\n",
        "  event2_list.append(e)\n",
        "  \n",
        "  \n",
        "#  print(' Champions League v. '+str(e))\n",
        "  chs_welch_ttest = ttest_twosamples(data['log_avg_dwelltime_min'][data['venue_eventtype'] == e], \n",
        "                                            data['log_avg_dwelltime_min'][data['venue_eventtype'] == 'Champions League - wembley stadium'])\n",
        "\n",
        "  ttest_twosamples_list.append(chs_welch_ttest[0])\n",
        "  p_value_list.append(chs_welch_ttest[1])\n",
        "  degfree_list.append(chs_welch_ttest[2])\n",
        "  \n",
        "  event1_list.append('Champions League - wembley')\n",
        "  event2_list.append(e)\n",
        "  \n",
        " # print(' International Football WCQ v. '+str(e))\n",
        "  if_welch_ttest = ttest_twosamples(data['log_avg_dwelltime_min'][data['venue_eventtype'] == e], \n",
        "                                            data['log_avg_dwelltime_min'][data['venue_eventtype'] == 'International Football - wembley stadium'])\n",
        "\n",
        "  ttest_twosamples_list.append(if_welch_ttest[0])\n",
        "  p_value_list.append(if_welch_ttest[1])\n",
        "  degfree_list.append(if_welch_ttest[2])\n",
        "  \n",
        "  event1_list.append('International Football WCQ - wembley')\n",
        "  event2_list.append(e)\n",
        "  \n",
        " # print(' Rugby v. '+str(e))\n",
        "  rugby_welch_ttest = ttest_twosamples(data['log_avg_dwelltime_min'][data['venue_eventtype'] == e], \n",
        "                                            data['log_avg_dwelltime_min'][data['venue_eventtype'] == 'Rugby International - twickenham'])\n",
        "\n",
        "  ttest_twosamples_list.append(rugby_welch_ttest[0])\n",
        "  p_value_list.append(rugby_welch_ttest[1])\n",
        "  degfree_list.append(rugby_welch_ttest[2])\n",
        "  \n",
        "  event1_list.append('Rugby - twickenham')\n",
        "  event2_list.append(e)\n",
        "  \n",
        " # print(' Watford v. '+str(e))\n",
        "  plwa_welch_ttest = ttest_twosamples(data['log_avg_dwelltime_min'][data['venue_eventtype'] == e], \n",
        "                                            data['log_avg_dwelltime_min'][data['venue_eventtype'] == 'Premier League - vicarage road'])\n",
        "  \n",
        "  ttest_twosamples_list.append(plwa_welch_ttest[0])\n",
        "  p_value_list.append(plwa_welch_ttest[1])\n",
        "  degfree_list.append(plwa_welch_ttest[2])\n",
        "  \n",
        "  event1_list.append('Premier League - watford')\n",
        "  event2_list.append(e)\n",
        "  \n",
        "#  print(' Wembley v. '+str(e))\n",
        "  plwe_welch_ttest = ttest_twosamples(data['log_avg_dwelltime_min'][data['venue_eventtype'] == e], \n",
        "                                            data['log_avg_dwelltime_min'][data['venue_eventtype'] == 'Premier League - wembley stadium'])\n",
        "\n",
        "  ttest_twosamples_list.append(plwe_welch_ttest[0])\n",
        "  p_value_list.append(plwe_welch_ttest[1])\n",
        "  degfree_list.append(plwe_welch_ttest[2])\n",
        "  \n",
        "  event1_list.append('Premier League - wembley')\n",
        "  event2_list.append(e)\n",
        "  \n",
        " # print(' London Stadium v. '+str(e)) \n",
        "  plls_welch_ttest = ttest_twosamples(data['log_avg_dwelltime_min'][data['venue_eventtype'] == e], \n",
        "                                            data['log_avg_dwelltime_min'][data['venue_eventtype'] == 'Premier League - london stadium'])\n",
        "  \n",
        "  ttest_twosamples_list.append(plls_welch_ttest[0])\n",
        "  p_value_list.append(plls_welch_ttest[1])\n",
        "  degfree_list.append(plls_welch_ttest[2])\n",
        "  \n",
        "  event1_list.append('Premier League - london stadium')\n",
        "  event2_list.append(e)"
      ],
      "execution_count": 0,
      "outputs": []
    },
    {
      "cell_type": "code",
      "metadata": {
        "id": "ffQY--68KkIF",
        "colab_type": "code",
        "colab": {}
      },
      "source": [
        "ttest_twosamples_df = pd.DataFrame(list(zip(event2_list, event1_list,ttest_twosamples_list,p_value_list,degfree_list)), \n",
        "               columns =['Event Category 1', 'Event Category 2',\"Independent t-test\",'p-value','Degree of Freedom']) \n",
        "\n",
        "ttest_twosamples_df = ttest_twosamples_df[ttest_twosamples_df['p-value']!=1.0]\n",
        "ttest_twosamples_df = ttest_twosamples_df.drop_duplicates(['p-value','Degree of Freedom']).reset_index(drop=True)"
      ],
      "execution_count": 0,
      "outputs": []
    },
    {
      "cell_type": "code",
      "metadata": {
        "id": "40rOmjxtKwKA",
        "colab_type": "code",
        "outputId": "586d2d4b-07dc-4f96-8adf-9b4663f9bc09",
        "colab": {
          "base_uri": "https://localhost:8080/",
          "height": 700
        }
      },
      "source": [
        "ttest_twosamples_df"
      ],
      "execution_count": 0,
      "outputs": [
        {
          "output_type": "execute_result",
          "data": {
            "text/html": [
              "<div>\n",
              "<style scoped>\n",
              "    .dataframe tbody tr th:only-of-type {\n",
              "        vertical-align: middle;\n",
              "    }\n",
              "\n",
              "    .dataframe tbody tr th {\n",
              "        vertical-align: top;\n",
              "    }\n",
              "\n",
              "    .dataframe thead th {\n",
              "        text-align: right;\n",
              "    }\n",
              "</style>\n",
              "<table border=\"1\" class=\"dataframe\">\n",
              "  <thead>\n",
              "    <tr style=\"text-align: right;\">\n",
              "      <th></th>\n",
              "      <th>Event Category 1</th>\n",
              "      <th>Event Category 2</th>\n",
              "      <th>Independent t-test</th>\n",
              "      <th>p-value</th>\n",
              "      <th>Degree of Freedom</th>\n",
              "    </tr>\n",
              "  </thead>\n",
              "  <tbody>\n",
              "    <tr>\n",
              "      <th>0</th>\n",
              "      <td>Rugby International - twickenham</td>\n",
              "      <td>NFL - Wembley</td>\n",
              "      <td>-113.7312</td>\n",
              "      <td>0.000000e+00</td>\n",
              "      <td>9737.9255</td>\n",
              "    </tr>\n",
              "    <tr>\n",
              "      <th>1</th>\n",
              "      <td>Rugby International - twickenham</td>\n",
              "      <td>Champions League - wembley</td>\n",
              "      <td>2.9714</td>\n",
              "      <td>2.973150e-03</td>\n",
              "      <td>8173.0838</td>\n",
              "    </tr>\n",
              "    <tr>\n",
              "      <th>2</th>\n",
              "      <td>Rugby International - twickenham</td>\n",
              "      <td>International Football WCQ - wembley</td>\n",
              "      <td>-5.0010</td>\n",
              "      <td>5.800000e-07</td>\n",
              "      <td>9181.0566</td>\n",
              "    </tr>\n",
              "    <tr>\n",
              "      <th>3</th>\n",
              "      <td>Rugby International - twickenham</td>\n",
              "      <td>Premier League - watford</td>\n",
              "      <td>10.0404</td>\n",
              "      <td>0.000000e+00</td>\n",
              "      <td>2275.3857</td>\n",
              "    </tr>\n",
              "    <tr>\n",
              "      <th>4</th>\n",
              "      <td>Rugby International - twickenham</td>\n",
              "      <td>Premier League - wembley</td>\n",
              "      <td>-2.8506</td>\n",
              "      <td>4.371270e-03</td>\n",
              "      <td>12648.3969</td>\n",
              "    </tr>\n",
              "    <tr>\n",
              "      <th>5</th>\n",
              "      <td>Rugby International - twickenham</td>\n",
              "      <td>Premier League - london stadium</td>\n",
              "      <td>22.0100</td>\n",
              "      <td>0.000000e+00</td>\n",
              "      <td>12308.7025</td>\n",
              "    </tr>\n",
              "    <tr>\n",
              "      <th>6</th>\n",
              "      <td>Premier League - vicarage road</td>\n",
              "      <td>NFL - Wembley</td>\n",
              "      <td>-79.8445</td>\n",
              "      <td>0.000000e+00</td>\n",
              "      <td>2109.1868</td>\n",
              "    </tr>\n",
              "    <tr>\n",
              "      <th>7</th>\n",
              "      <td>Premier League - vicarage road</td>\n",
              "      <td>Champions League - wembley</td>\n",
              "      <td>-7.6163</td>\n",
              "      <td>0.000000e+00</td>\n",
              "      <td>2614.1585</td>\n",
              "    </tr>\n",
              "    <tr>\n",
              "      <th>8</th>\n",
              "      <td>Premier League - vicarage road</td>\n",
              "      <td>International Football WCQ - wembley</td>\n",
              "      <td>-13.0475</td>\n",
              "      <td>0.000000e+00</td>\n",
              "      <td>2478.5310</td>\n",
              "    </tr>\n",
              "    <tr>\n",
              "      <th>9</th>\n",
              "      <td>Premier League - vicarage road</td>\n",
              "      <td>Premier League - wembley</td>\n",
              "      <td>-12.2416</td>\n",
              "      <td>0.000000e+00</td>\n",
              "      <td>1845.6040</td>\n",
              "    </tr>\n",
              "    <tr>\n",
              "      <th>10</th>\n",
              "      <td>Premier League - vicarage road</td>\n",
              "      <td>Premier League - london stadium</td>\n",
              "      <td>3.3527</td>\n",
              "      <td>8.142500e-04</td>\n",
              "      <td>2148.4758</td>\n",
              "    </tr>\n",
              "    <tr>\n",
              "      <th>11</th>\n",
              "      <td>Premier League - london stadium</td>\n",
              "      <td>NFL - Wembley</td>\n",
              "      <td>-141.8773</td>\n",
              "      <td>0.000000e+00</td>\n",
              "      <td>9034.1995</td>\n",
              "    </tr>\n",
              "    <tr>\n",
              "      <th>12</th>\n",
              "      <td>Premier League - london stadium</td>\n",
              "      <td>Champions League - wembley</td>\n",
              "      <td>-16.6060</td>\n",
              "      <td>0.000000e+00</td>\n",
              "      <td>7528.9897</td>\n",
              "    </tr>\n",
              "    <tr>\n",
              "      <th>13</th>\n",
              "      <td>Premier League - london stadium</td>\n",
              "      <td>International Football WCQ - wembley</td>\n",
              "      <td>-25.6851</td>\n",
              "      <td>0.000000e+00</td>\n",
              "      <td>8485.4358</td>\n",
              "    </tr>\n",
              "    <tr>\n",
              "      <th>14</th>\n",
              "      <td>Premier League - london stadium</td>\n",
              "      <td>Premier League - wembley</td>\n",
              "      <td>-29.0489</td>\n",
              "      <td>0.000000e+00</td>\n",
              "      <td>12487.1845</td>\n",
              "    </tr>\n",
              "    <tr>\n",
              "      <th>15</th>\n",
              "      <td>International Football - wembley stadium</td>\n",
              "      <td>NFL - Wembley</td>\n",
              "      <td>-100.6577</td>\n",
              "      <td>0.000000e+00</td>\n",
              "      <td>7386.3311</td>\n",
              "    </tr>\n",
              "    <tr>\n",
              "      <th>16</th>\n",
              "      <td>International Football - wembley stadium</td>\n",
              "      <td>Champions League - wembley</td>\n",
              "      <td>7.3726</td>\n",
              "      <td>0.000000e+00</td>\n",
              "      <td>7534.9616</td>\n",
              "    </tr>\n",
              "    <tr>\n",
              "      <th>17</th>\n",
              "      <td>International Football - wembley stadium</td>\n",
              "      <td>Premier League - wembley</td>\n",
              "      <td>3.0934</td>\n",
              "      <td>1.986310e-03</td>\n",
              "      <td>7167.7014</td>\n",
              "    </tr>\n",
              "    <tr>\n",
              "      <th>18</th>\n",
              "      <td>Champions League - wembley stadium</td>\n",
              "      <td>NFL - Wembley</td>\n",
              "      <td>-104.5586</td>\n",
              "      <td>0.000000e+00</td>\n",
              "      <td>6743.1522</td>\n",
              "    </tr>\n",
              "    <tr>\n",
              "      <th>19</th>\n",
              "      <td>Champions League - wembley stadium</td>\n",
              "      <td>Premier League - wembley</td>\n",
              "      <td>-5.8365</td>\n",
              "      <td>1.000000e-08</td>\n",
              "      <td>6196.0522</td>\n",
              "    </tr>\n",
              "    <tr>\n",
              "      <th>20</th>\n",
              "      <td>Premier League - wembley stadium</td>\n",
              "      <td>NFL - Wembley</td>\n",
              "      <td>-131.9885</td>\n",
              "      <td>0.000000e+00</td>\n",
              "      <td>8263.0303</td>\n",
              "    </tr>\n",
              "  </tbody>\n",
              "</table>\n",
              "</div>"
            ],
            "text/plain": [
              "                            Event Category 1  ... Degree of Freedom\n",
              "0           Rugby International - twickenham  ...         9737.9255\n",
              "1           Rugby International - twickenham  ...         8173.0838\n",
              "2           Rugby International - twickenham  ...         9181.0566\n",
              "3           Rugby International - twickenham  ...         2275.3857\n",
              "4           Rugby International - twickenham  ...        12648.3969\n",
              "5           Rugby International - twickenham  ...        12308.7025\n",
              "6             Premier League - vicarage road  ...         2109.1868\n",
              "7             Premier League - vicarage road  ...         2614.1585\n",
              "8             Premier League - vicarage road  ...         2478.5310\n",
              "9             Premier League - vicarage road  ...         1845.6040\n",
              "10            Premier League - vicarage road  ...         2148.4758\n",
              "11           Premier League - london stadium  ...         9034.1995\n",
              "12           Premier League - london stadium  ...         7528.9897\n",
              "13           Premier League - london stadium  ...         8485.4358\n",
              "14           Premier League - london stadium  ...        12487.1845\n",
              "15  International Football - wembley stadium  ...         7386.3311\n",
              "16  International Football - wembley stadium  ...         7534.9616\n",
              "17  International Football - wembley stadium  ...         7167.7014\n",
              "18        Champions League - wembley stadium  ...         6743.1522\n",
              "19        Champions League - wembley stadium  ...         6196.0522\n",
              "20          Premier League - wembley stadium  ...         8263.0303\n",
              "\n",
              "[21 rows x 5 columns]"
            ]
          },
          "metadata": {
            "tags": []
          },
          "execution_count": 27
        }
      ]
    },
    {
      "cell_type": "markdown",
      "metadata": {
        "id": "V_1gd7rmYXA5",
        "colab_type": "text"
      },
      "source": [
        "### Mann-Whitney U-Test"
      ]
    },
    {
      "cell_type": "code",
      "metadata": {
        "id": "-gAayjPZYcjZ",
        "colab_type": "code",
        "colab": {}
      },
      "source": [
        "from numpy.random import seed\n",
        "from numpy.random import randn\n",
        "from scipy.stats import mannwhitneyu\n",
        "\n",
        "# Mann-Whitney U-Test\n",
        "\n",
        "mannwhitneyu_test = []\n",
        "event_list = []\n",
        "for e in venue_eventtype_list:\n",
        "  \n",
        "  datanew = data[data['venue_eventtype']==e]\n",
        "  data_nfl = data[data['venue_eventtype']=='Champions League - wembley stadium']\n",
        "  \n",
        "  test_mannwhitneyu = mannwhitneyu(datanew['log_driving_dist_km'],data_nfl['log_driving_dist_km'])\n",
        "  mannwhitneyu_test.append(test_mannwhitneyu)\n",
        "  \n",
        "  event_list.append(e)"
      ],
      "execution_count": 0,
      "outputs": []
    },
    {
      "cell_type": "code",
      "metadata": {
        "id": "dVFjXTXqZP0o",
        "colab_type": "code",
        "outputId": "3f4b16a2-4089-4d30-b3d1-1305567181cc",
        "colab": {
          "base_uri": "https://localhost:8080/",
          "height": 266
        }
      },
      "source": [
        "# Mann-Whitney U-Test\n",
        "\n",
        "new_df  =pd.DataFrame()\n",
        "\n",
        "new_df['event'] = event_list\n",
        "new_df['Mann-Whitney'] = mannwhitneyu_test\n",
        "\n",
        "# Results -- p-value <<  significant - Samples are not equal !\n",
        "new_df"
      ],
      "execution_count": 0,
      "outputs": [
        {
          "output_type": "execute_result",
          "data": {
            "text/html": [
              "<div>\n",
              "<style scoped>\n",
              "    .dataframe tbody tr th:only-of-type {\n",
              "        vertical-align: middle;\n",
              "    }\n",
              "\n",
              "    .dataframe tbody tr th {\n",
              "        vertical-align: top;\n",
              "    }\n",
              "\n",
              "    .dataframe thead th {\n",
              "        text-align: right;\n",
              "    }\n",
              "</style>\n",
              "<table border=\"1\" class=\"dataframe\">\n",
              "  <thead>\n",
              "    <tr style=\"text-align: right;\">\n",
              "      <th></th>\n",
              "      <th>event</th>\n",
              "      <th>Mann-Whitney</th>\n",
              "    </tr>\n",
              "  </thead>\n",
              "  <tbody>\n",
              "    <tr>\n",
              "      <th>0</th>\n",
              "      <td>Premier League - london stadium</td>\n",
              "      <td>(2532447.5, 1.5217318192646258e-17)</td>\n",
              "    </tr>\n",
              "    <tr>\n",
              "      <th>1</th>\n",
              "      <td>Rugby International - twickenham</td>\n",
              "      <td>(3797676.5, 4.767869661443392e-07)</td>\n",
              "    </tr>\n",
              "    <tr>\n",
              "      <th>2</th>\n",
              "      <td>Premier League - vicarage road</td>\n",
              "      <td>(639586.0, 3.533053851490489e-19)</td>\n",
              "    </tr>\n",
              "    <tr>\n",
              "      <th>3</th>\n",
              "      <td>Champions League - wembley stadium</td>\n",
              "      <td>(2365312.5, 0.49999518366236034)</td>\n",
              "    </tr>\n",
              "    <tr>\n",
              "      <th>4</th>\n",
              "      <td>International Football - wembley stadium</td>\n",
              "      <td>(2393942.0, 0.0010912695552704403)</td>\n",
              "    </tr>\n",
              "    <tr>\n",
              "      <th>5</th>\n",
              "      <td>NFL - wembley stadium</td>\n",
              "      <td>(1831106.0, 7.690476248656086e-29)</td>\n",
              "    </tr>\n",
              "    <tr>\n",
              "      <th>6</th>\n",
              "      <td>Premier League - wembley stadium</td>\n",
              "      <td>(6569577.5, 0.4908156388223545)</td>\n",
              "    </tr>\n",
              "  </tbody>\n",
              "</table>\n",
              "</div>"
            ],
            "text/plain": [
              "                                      event                         Mann-Whitney\n",
              "0           Premier League - london stadium  (2532447.5, 1.5217318192646258e-17)\n",
              "1          Rugby International - twickenham   (3797676.5, 4.767869661443392e-07)\n",
              "2            Premier League - vicarage road    (639586.0, 3.533053851490489e-19)\n",
              "3        Champions League - wembley stadium     (2365312.5, 0.49999518366236034)\n",
              "4  International Football - wembley stadium   (2393942.0, 0.0010912695552704403)\n",
              "5                     NFL - wembley stadium   (1831106.0, 7.690476248656086e-29)\n",
              "6          Premier League - wembley stadium      (6569577.5, 0.4908156388223545)"
            ]
          },
          "metadata": {
            "tags": []
          },
          "execution_count": 158
        }
      ]
    }
  ]
}
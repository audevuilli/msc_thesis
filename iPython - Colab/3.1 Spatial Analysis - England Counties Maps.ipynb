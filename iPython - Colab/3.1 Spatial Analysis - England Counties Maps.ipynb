{
  "nbformat": 4,
  "nbformat_minor": 0,
  "metadata": {
    "colab": {
      "name": "Map England County",
      "version": "0.3.2",
      "provenance": [],
      "collapsed_sections": []
    },
    "kernelspec": {
      "name": "python3",
      "display_name": "Python 3"
    }
  },
  "cells": [
    {
      "cell_type": "code",
      "metadata": {
        "id": "gPNAEyHI34hz",
        "colab_type": "code",
        "outputId": "5a23712c-83d7-43ff-e09d-38837feb4fb0",
        "colab": {
          "base_uri": "https://localhost:8080/",
          "height": 1000
        }
      },
      "source": [
        "!pip install geopandas\n",
        "!pip install descartes\n",
        "!pip install mplleaflet\n",
        "!pip install seaborn"
      ],
      "execution_count": 0,
      "outputs": [
        {
          "output_type": "stream",
          "text": [
            "Collecting geopandas\n",
            "\u001b[?25l  Downloading https://files.pythonhosted.org/packages/21/80/da2a33c9201cd4ce693f4aa6189efc9ef1a48bec1c3b02c3ce9908b07fec/geopandas-0.5.1-py2.py3-none-any.whl (893kB)\n",
            "\u001b[K     |████████████████████████████████| 901kB 5.0MB/s \n",
            "\u001b[?25hCollecting fiona (from geopandas)\n",
            "\u001b[?25l  Downloading https://files.pythonhosted.org/packages/89/4a/193cd6a75e51062c85f4e1cd6f312b3bbda6e26ba7510f152ef5016f0b16/Fiona-1.8.6-cp36-cp36m-manylinux1_x86_64.whl (17.9MB)\n",
            "\u001b[K     |████████████████████████████████| 17.9MB 38.1MB/s \n",
            "\u001b[?25hRequirement already satisfied: shapely in /usr/local/lib/python3.6/dist-packages (from geopandas) (1.6.4.post2)\n",
            "Requirement already satisfied: pandas in /usr/local/lib/python3.6/dist-packages (from geopandas) (0.24.2)\n",
            "Collecting pyproj (from geopandas)\n",
            "\u001b[?25l  Downloading https://files.pythonhosted.org/packages/e5/fd/eb99d24327e248a5e93cec65eedf22a751f70723384a832837eef1f80509/pyproj-2.2.2-cp36-cp36m-manylinux1_x86_64.whl (11.2MB)\n",
            "\u001b[K     |████████████████████████████████| 11.2MB 33.2MB/s \n",
            "\u001b[?25hRequirement already satisfied: click<8,>=4.0 in /usr/local/lib/python3.6/dist-packages (from fiona->geopandas) (7.0)\n",
            "Collecting munch (from fiona->geopandas)\n",
            "  Downloading https://files.pythonhosted.org/packages/68/f4/260ec98ea840757a0da09e0ed8135333d59b8dfebe9752a365b04857660a/munch-2.3.2.tar.gz\n",
            "Requirement already satisfied: six>=1.7 in /usr/local/lib/python3.6/dist-packages (from fiona->geopandas) (1.12.0)\n",
            "Requirement already satisfied: attrs>=17 in /usr/local/lib/python3.6/dist-packages (from fiona->geopandas) (19.1.0)\n",
            "Collecting click-plugins>=1.0 (from fiona->geopandas)\n",
            "  Downloading https://files.pythonhosted.org/packages/e9/da/824b92d9942f4e472702488857914bdd50f73021efea15b4cad9aca8ecef/click_plugins-1.1.1-py2.py3-none-any.whl\n",
            "Collecting cligj>=0.5 (from fiona->geopandas)\n",
            "  Downloading https://files.pythonhosted.org/packages/e4/be/30a58b4b0733850280d01f8bd132591b4668ed5c7046761098d665ac2174/cligj-0.5.0-py3-none-any.whl\n",
            "Requirement already satisfied: numpy>=1.12.0 in /usr/local/lib/python3.6/dist-packages (from pandas->geopandas) (1.16.4)\n",
            "Requirement already satisfied: pytz>=2011k in /usr/local/lib/python3.6/dist-packages (from pandas->geopandas) (2018.9)\n",
            "Requirement already satisfied: python-dateutil>=2.5.0 in /usr/local/lib/python3.6/dist-packages (from pandas->geopandas) (2.5.3)\n",
            "Building wheels for collected packages: munch\n",
            "  Building wheel for munch (setup.py) ... \u001b[?25l\u001b[?25hdone\n",
            "  Created wheel for munch: filename=munch-2.3.2-py2.py3-none-any.whl size=6613 sha256=0a6fe59819d86bf244b8443ffd3e91212bf8fc2e5a98f7b68fa33aeae810a27c\n",
            "  Stored in directory: /root/.cache/pip/wheels/db/bf/bc/06a3e1bfe0ab27d2e720ceb3cff3159398d92644c0cec2c125\n",
            "Successfully built munch\n",
            "Installing collected packages: munch, click-plugins, cligj, fiona, pyproj, geopandas\n",
            "Successfully installed click-plugins-1.1.1 cligj-0.5.0 fiona-1.8.6 geopandas-0.5.1 munch-2.3.2 pyproj-2.2.2\n",
            "Requirement already satisfied: descartes in /usr/local/lib/python3.6/dist-packages (1.1.0)\n",
            "Requirement already satisfied: matplotlib in /usr/local/lib/python3.6/dist-packages (from descartes) (3.0.3)\n",
            "Requirement already satisfied: python-dateutil>=2.1 in /usr/local/lib/python3.6/dist-packages (from matplotlib->descartes) (2.5.3)\n",
            "Requirement already satisfied: pyparsing!=2.0.4,!=2.1.2,!=2.1.6,>=2.0.1 in /usr/local/lib/python3.6/dist-packages (from matplotlib->descartes) (2.4.2)\n",
            "Requirement already satisfied: numpy>=1.10.0 in /usr/local/lib/python3.6/dist-packages (from matplotlib->descartes) (1.16.4)\n",
            "Requirement already satisfied: cycler>=0.10 in /usr/local/lib/python3.6/dist-packages (from matplotlib->descartes) (0.10.0)\n",
            "Requirement already satisfied: kiwisolver>=1.0.1 in /usr/local/lib/python3.6/dist-packages (from matplotlib->descartes) (1.1.0)\n",
            "Requirement already satisfied: six>=1.5 in /usr/local/lib/python3.6/dist-packages (from python-dateutil>=2.1->matplotlib->descartes) (1.12.0)\n",
            "Requirement already satisfied: setuptools in /usr/local/lib/python3.6/dist-packages (from kiwisolver>=1.0.1->matplotlib->descartes) (41.0.1)\n",
            "Collecting mplleaflet\n",
            "  Downloading https://files.pythonhosted.org/packages/05/b3/e68ff575ef0872e096878c75f602e76b06ca44d7038d69d867c7b800745b/mplleaflet-0.0.5.tar.gz\n",
            "Requirement already satisfied: jinja2 in /usr/local/lib/python3.6/dist-packages (from mplleaflet) (2.10.1)\n",
            "Requirement already satisfied: six in /usr/local/lib/python3.6/dist-packages (from mplleaflet) (1.12.0)\n",
            "Requirement already satisfied: MarkupSafe>=0.23 in /usr/local/lib/python3.6/dist-packages (from jinja2->mplleaflet) (1.1.1)\n",
            "Building wheels for collected packages: mplleaflet\n",
            "  Building wheel for mplleaflet (setup.py) ... \u001b[?25l\u001b[?25hdone\n",
            "  Created wheel for mplleaflet: filename=mplleaflet-0.0.5-cp36-none-any.whl size=28555 sha256=356687389b93524574e9ad6e0bef1a70f7a870be68cb5890178deaafa2cc4efe\n",
            "  Stored in directory: /root/.cache/pip/wheels/bf/fd/0b/0513de62c339c4a56e2234aa42a5d06e6660a4446fdae7b796\n",
            "Successfully built mplleaflet\n",
            "Installing collected packages: mplleaflet\n",
            "Successfully installed mplleaflet-0.0.5\n",
            "Requirement already satisfied: seaborn in /usr/local/lib/python3.6/dist-packages (0.9.0)\n",
            "Requirement already satisfied: matplotlib>=1.4.3 in /usr/local/lib/python3.6/dist-packages (from seaborn) (3.0.3)\n",
            "Requirement already satisfied: pandas>=0.15.2 in /usr/local/lib/python3.6/dist-packages (from seaborn) (0.24.2)\n",
            "Requirement already satisfied: scipy>=0.14.0 in /usr/local/lib/python3.6/dist-packages (from seaborn) (1.3.1)\n",
            "Requirement already satisfied: numpy>=1.9.3 in /usr/local/lib/python3.6/dist-packages (from seaborn) (1.16.4)\n",
            "Requirement already satisfied: cycler>=0.10 in /usr/local/lib/python3.6/dist-packages (from matplotlib>=1.4.3->seaborn) (0.10.0)\n",
            "Requirement already satisfied: python-dateutil>=2.1 in /usr/local/lib/python3.6/dist-packages (from matplotlib>=1.4.3->seaborn) (2.5.3)\n",
            "Requirement already satisfied: pyparsing!=2.0.4,!=2.1.2,!=2.1.6,>=2.0.1 in /usr/local/lib/python3.6/dist-packages (from matplotlib>=1.4.3->seaborn) (2.4.2)\n",
            "Requirement already satisfied: kiwisolver>=1.0.1 in /usr/local/lib/python3.6/dist-packages (from matplotlib>=1.4.3->seaborn) (1.1.0)\n",
            "Requirement already satisfied: pytz>=2011k in /usr/local/lib/python3.6/dist-packages (from pandas>=0.15.2->seaborn) (2018.9)\n",
            "Requirement already satisfied: six in /usr/local/lib/python3.6/dist-packages (from cycler>=0.10->matplotlib>=1.4.3->seaborn) (1.12.0)\n",
            "Requirement already satisfied: setuptools in /usr/local/lib/python3.6/dist-packages (from kiwisolver>=1.0.1->matplotlib>=1.4.3->seaborn) (41.0.1)\n"
          ],
          "name": "stdout"
        }
      ]
    },
    {
      "cell_type": "code",
      "metadata": {
        "id": "Q1XQeIAAzLmV",
        "colab_type": "code",
        "colab": {}
      },
      "source": [
        "import numpy as np\n",
        "import pandas as pd\n",
        "import geopandas as gpd\n",
        "from functools import reduce \n",
        "\n",
        "import time\n",
        "\n",
        "import matplotlib as mp\n",
        "import matplotlib.pyplot as plt\n",
        "import mplleaflet\n",
        "import descartes\n",
        "import seaborn as sns\n",
        "pd.options.mode.chained_assignment = None\n",
        "\n",
        "import warnings\n",
        "warnings.filterwarnings('ignore')\n",
        "\n",
        "sns.set(style=\"whitegrid\")\n",
        "sns.set(font_scale=2)"
      ],
      "execution_count": 0,
      "outputs": []
    },
    {
      "cell_type": "code",
      "metadata": {
        "id": "2x4Iz0Fj4wOT",
        "colab_type": "code",
        "outputId": "dc4983e6-6494-443a-c7ac-d3b4cf5ba99c",
        "colab": {
          "base_uri": "https://localhost:8080/",
          "height": 34
        }
      },
      "source": [
        "from google.colab import auth\n",
        "auth.authenticate_user()\n",
        "print('Authenticated')"
      ],
      "execution_count": 0,
      "outputs": [
        {
          "output_type": "stream",
          "text": [
            "Authenticated\n"
          ],
          "name": "stdout"
        }
      ]
    },
    {
      "cell_type": "code",
      "metadata": {
        "id": "rXDubVJY5P02",
        "colab_type": "code",
        "colab": {}
      },
      "source": [
        "from google.cloud import bigquery\n",
        "client = bigquery.Client('thesisprojects2019')"
      ],
      "execution_count": 0,
      "outputs": []
    },
    {
      "cell_type": "code",
      "metadata": {
        "id": "P1NTDXGU0MLu",
        "colab_type": "code",
        "colab": {}
      },
      "source": [
        "#import london statistic table from bigquery\n",
        "query = \"\"\" SELECT * FROM `thesisprojects2019.audeMS.step3_statistic_county_homelocation_spectatorswithhome` ORDER BY eventid, county_id \"\"\"\n",
        "data = client.query(query).to_dataframe()"
      ],
      "execution_count": 0,
      "outputs": []
    },
    {
      "cell_type": "code",
      "metadata": {
        "id": "OZSQI97A5qI3",
        "colab_type": "code",
        "outputId": "db3e9a5b-a529-4eeb-e8e3-6338af31cec5",
        "colab": {
          "base_uri": "https://localhost:8080/",
          "height": 199
        }
      },
      "source": [
        "data.head(2)"
      ],
      "execution_count": 0,
      "outputs": [
        {
          "output_type": "execute_result",
          "data": {
            "text/html": [
              "<div>\n",
              "<style scoped>\n",
              "    .dataframe tbody tr th:only-of-type {\n",
              "        vertical-align: middle;\n",
              "    }\n",
              "\n",
              "    .dataframe tbody tr th {\n",
              "        vertical-align: top;\n",
              "    }\n",
              "\n",
              "    .dataframe thead th {\n",
              "        text-align: right;\n",
              "    }\n",
              "</style>\n",
              "<table border=\"1\" class=\"dataframe\">\n",
              "  <thead>\n",
              "    <tr style=\"text-align: right;\">\n",
              "      <th></th>\n",
              "      <th>venueid</th>\n",
              "      <th>eventid</th>\n",
              "      <th>event</th>\n",
              "      <th>county_id</th>\n",
              "      <th>county_name</th>\n",
              "      <th>count_spect_county</th>\n",
              "      <th>perc_spect_county</th>\n",
              "    </tr>\n",
              "  </thead>\n",
              "  <tbody>\n",
              "    <tr>\n",
              "      <th>0</th>\n",
              "      <td>1</td>\n",
              "      <td>1_2017-11-04</td>\n",
              "      <td>Barbarians New Zealand</td>\n",
              "      <td>E06000002</td>\n",
              "      <td>Middlesbrough</td>\n",
              "      <td>2</td>\n",
              "      <td>0.268</td>\n",
              "    </tr>\n",
              "    <tr>\n",
              "      <th>1</th>\n",
              "      <td>1</td>\n",
              "      <td>1_2017-11-04</td>\n",
              "      <td>Barbarians New Zealand</td>\n",
              "      <td>E06000015</td>\n",
              "      <td>Derby</td>\n",
              "      <td>1</td>\n",
              "      <td>0.134</td>\n",
              "    </tr>\n",
              "  </tbody>\n",
              "</table>\n",
              "</div>"
            ],
            "text/plain": [
              "   venueid       eventid  ... count_spect_county perc_spect_county\n",
              "0        1  1_2017-11-04  ...                  2             0.268\n",
              "1        1  1_2017-11-04  ...                  1             0.134\n",
              "\n",
              "[2 rows x 7 columns]"
            ]
          },
          "metadata": {
            "tags": []
          },
          "execution_count": 7
        }
      ]
    },
    {
      "cell_type": "code",
      "metadata": {
        "id": "bBhaFRwm6EkN",
        "colab_type": "code",
        "outputId": "b4f7c83f-efe5-4683-99d6-bc5e909faf04",
        "colab": {
          "base_uri": "https://localhost:8080/",
          "height": 122
        }
      },
      "source": [
        "from google.colab import drive\n",
        "drive.mount('/content/drive')"
      ],
      "execution_count": 0,
      "outputs": [
        {
          "output_type": "stream",
          "text": [
            "Go to this URL in a browser: https://accounts.google.com/o/oauth2/auth?client_id=947318989803-6bn6qk8qdgf4n4g3pfee6491hc0brc4i.apps.googleusercontent.com&redirect_uri=urn%3Aietf%3Awg%3Aoauth%3A2.0%3Aoob&scope=email%20https%3A%2F%2Fwww.googleapis.com%2Fauth%2Fdocs.test%20https%3A%2F%2Fwww.googleapis.com%2Fauth%2Fdrive%20https%3A%2F%2Fwww.googleapis.com%2Fauth%2Fdrive.photos.readonly%20https%3A%2F%2Fwww.googleapis.com%2Fauth%2Fpeopleapi.readonly&response_type=code\n",
            "\n",
            "Enter your authorization code:\n",
            "··········\n",
            "Mounted at /content/drive\n"
          ],
          "name": "stdout"
        }
      ]
    },
    {
      "cell_type": "code",
      "metadata": {
        "id": "rMBqz--g8sSf",
        "colab_type": "code",
        "colab": {}
      },
      "source": [
        "#import the london shapefiles from GoogleDrive\n",
        "pathdrive = 'drive/My Drive/Colab Notebooks/Shapefiles/County/Counties_and_Unitary_Authorities_December_2015_Ultra_Generalised_Clipped_Boundaries_in_England_and_Wales.shp'\n",
        "geom_data = gpd.read_file(pathdrive)"
      ],
      "execution_count": 0,
      "outputs": []
    },
    {
      "cell_type": "code",
      "metadata": {
        "id": "Ai_HGudA84Qm",
        "colab_type": "code",
        "outputId": "4d9c8333-bc41-4750-af4d-c288c89a15fb",
        "colab": {
          "base_uri": "https://localhost:8080/",
          "height": 199
        }
      },
      "source": [
        "geom_data.head(2)"
      ],
      "execution_count": 0,
      "outputs": [
        {
          "output_type": "execute_result",
          "data": {
            "text/html": [
              "<div>\n",
              "<style scoped>\n",
              "    .dataframe tbody tr th:only-of-type {\n",
              "        vertical-align: middle;\n",
              "    }\n",
              "\n",
              "    .dataframe tbody tr th {\n",
              "        vertical-align: top;\n",
              "    }\n",
              "\n",
              "    .dataframe thead th {\n",
              "        text-align: right;\n",
              "    }\n",
              "</style>\n",
              "<table border=\"1\" class=\"dataframe\">\n",
              "  <thead>\n",
              "    <tr style=\"text-align: right;\">\n",
              "      <th></th>\n",
              "      <th>ctyua15cd</th>\n",
              "      <th>ctyua15nm</th>\n",
              "      <th>ctyua15nmw</th>\n",
              "      <th>objectid</th>\n",
              "      <th>st_lengths</th>\n",
              "      <th>st_areasha</th>\n",
              "      <th>geometry</th>\n",
              "    </tr>\n",
              "  </thead>\n",
              "  <tbody>\n",
              "    <tr>\n",
              "      <th>0</th>\n",
              "      <td>E06000001</td>\n",
              "      <td>Hartlepool</td>\n",
              "      <td>None</td>\n",
              "      <td>1</td>\n",
              "      <td>50778.093996</td>\n",
              "      <td>9.633958e+07</td>\n",
              "      <td>POLYGON ((448906.5049000001 536702.9926999994,...</td>\n",
              "    </tr>\n",
              "    <tr>\n",
              "      <th>1</th>\n",
              "      <td>E06000002</td>\n",
              "      <td>Middlesbrough</td>\n",
              "      <td>None</td>\n",
              "      <td>2</td>\n",
              "      <td>35500.301293</td>\n",
              "      <td>5.523094e+07</td>\n",
              "      <td>POLYGON ((451894.2999999998 521145.3000000007,...</td>\n",
              "    </tr>\n",
              "  </tbody>\n",
              "</table>\n",
              "</div>"
            ],
            "text/plain": [
              "   ctyua15cd  ...                                           geometry\n",
              "0  E06000001  ...  POLYGON ((448906.5049000001 536702.9926999994,...\n",
              "1  E06000002  ...  POLYGON ((451894.2999999998 521145.3000000007,...\n",
              "\n",
              "[2 rows x 7 columns]"
            ]
          },
          "metadata": {
            "tags": []
          },
          "execution_count": 10
        }
      ]
    },
    {
      "cell_type": "code",
      "metadata": {
        "id": "SMrmML7u9Sya",
        "colab_type": "code",
        "outputId": "4558e5b8-f701-4143-db36-ff072a0b468b",
        "colab": {
          "base_uri": "https://localhost:8080/",
          "height": 34
        }
      },
      "source": [
        "len(geom_data)"
      ],
      "execution_count": 0,
      "outputs": [
        {
          "output_type": "execute_result",
          "data": {
            "text/plain": [
              "174"
            ]
          },
          "metadata": {
            "tags": []
          },
          "execution_count": 11
        }
      ]
    },
    {
      "cell_type": "code",
      "metadata": {
        "id": "2SybpiEI9MPl",
        "colab_type": "code",
        "colab": {}
      },
      "source": [
        "# CRS for London Ward\n",
        "crs = {'init': 'epsg:4326'}\n",
        "county = geom_data.to_crs({'init':'epsg:27700'})\n",
        "\n",
        "# rename the columns\n",
        "county = county.rename(columns={'ctyua15nm':'county_name','ctyua15cd':'county_id'})\n",
        "# Select only the columns of interest\n",
        "county = county[['county_id','county_name','geometry']]"
      ],
      "execution_count": 0,
      "outputs": []
    },
    {
      "cell_type": "code",
      "metadata": {
        "id": "jm2fVaOz9T57",
        "colab_type": "code",
        "outputId": "33804cea-a179-4182-c474-df2c489d7fe6",
        "colab": {
          "base_uri": "https://localhost:8080/",
          "height": 111
        }
      },
      "source": [
        "county.head(2)"
      ],
      "execution_count": 0,
      "outputs": [
        {
          "output_type": "execute_result",
          "data": {
            "text/html": [
              "<div>\n",
              "<style scoped>\n",
              "    .dataframe tbody tr th:only-of-type {\n",
              "        vertical-align: middle;\n",
              "    }\n",
              "\n",
              "    .dataframe tbody tr th {\n",
              "        vertical-align: top;\n",
              "    }\n",
              "\n",
              "    .dataframe thead th {\n",
              "        text-align: right;\n",
              "    }\n",
              "</style>\n",
              "<table border=\"1\" class=\"dataframe\">\n",
              "  <thead>\n",
              "    <tr style=\"text-align: right;\">\n",
              "      <th></th>\n",
              "      <th>county_id</th>\n",
              "      <th>county_name</th>\n",
              "      <th>geometry</th>\n",
              "    </tr>\n",
              "  </thead>\n",
              "  <tbody>\n",
              "    <tr>\n",
              "      <th>0</th>\n",
              "      <td>E06000001</td>\n",
              "      <td>Hartlepool</td>\n",
              "      <td>POLYGON ((448906.5049000001 536702.9926999994,...</td>\n",
              "    </tr>\n",
              "    <tr>\n",
              "      <th>1</th>\n",
              "      <td>E06000002</td>\n",
              "      <td>Middlesbrough</td>\n",
              "      <td>POLYGON ((451894.2999999998 521145.3000000007,...</td>\n",
              "    </tr>\n",
              "  </tbody>\n",
              "</table>\n",
              "</div>"
            ],
            "text/plain": [
              "   county_id    county_name                                           geometry\n",
              "0  E06000001     Hartlepool  POLYGON ((448906.5049000001 536702.9926999994,...\n",
              "1  E06000002  Middlesbrough  POLYGON ((451894.2999999998 521145.3000000007,..."
            ]
          },
          "metadata": {
            "tags": []
          },
          "execution_count": 11
        }
      ]
    },
    {
      "cell_type": "code",
      "metadata": {
        "id": "zdh5K-KU9WG_",
        "colab_type": "code",
        "colab": {}
      },
      "source": [
        "# Join Districts SHP with data_homelocation_count\n",
        "jointable = pd.merge(data,county,how='right', on=['county_id'])\n",
        "jointable = jointable[['venueid','eventid','event','county_id','county_name_x','perc_spect_county','geometry']]\n",
        "jointable = jointable.sort_values('county_id').reset_index(drop=True)\n",
        "jointable['perc_spect_county'] = round(jointable['perc_spect_county'],3)"
      ],
      "execution_count": 0,
      "outputs": []
    },
    {
      "cell_type": "code",
      "metadata": {
        "id": "BBtylreU9kMl",
        "colab_type": "code",
        "outputId": "8f2552d1-f782-41ca-ec58-8b318bf46ba2",
        "colab": {
          "base_uri": "https://localhost:8080/",
          "height": 111
        }
      },
      "source": [
        "jointable.head(2)"
      ],
      "execution_count": 0,
      "outputs": [
        {
          "output_type": "execute_result",
          "data": {
            "text/html": [
              "<div>\n",
              "<style scoped>\n",
              "    .dataframe tbody tr th:only-of-type {\n",
              "        vertical-align: middle;\n",
              "    }\n",
              "\n",
              "    .dataframe tbody tr th {\n",
              "        vertical-align: top;\n",
              "    }\n",
              "\n",
              "    .dataframe thead th {\n",
              "        text-align: right;\n",
              "    }\n",
              "</style>\n",
              "<table border=\"1\" class=\"dataframe\">\n",
              "  <thead>\n",
              "    <tr style=\"text-align: right;\">\n",
              "      <th></th>\n",
              "      <th>venueid</th>\n",
              "      <th>eventid</th>\n",
              "      <th>event</th>\n",
              "      <th>county_id</th>\n",
              "      <th>county_name_x</th>\n",
              "      <th>perc_spect_county</th>\n",
              "      <th>geometry</th>\n",
              "    </tr>\n",
              "  </thead>\n",
              "  <tbody>\n",
              "    <tr>\n",
              "      <th>0</th>\n",
              "      <td>1.0</td>\n",
              "      <td>1_2017-11-18</td>\n",
              "      <td>England Australia</td>\n",
              "      <td>E06000001</td>\n",
              "      <td>Hartlepool</td>\n",
              "      <td>0.081</td>\n",
              "      <td>POLYGON ((448906.5049000001 536702.9926999994,...</td>\n",
              "    </tr>\n",
              "    <tr>\n",
              "      <th>1</th>\n",
              "      <td>4.0</td>\n",
              "      <td>4_2017-09-24</td>\n",
              "      <td>NFL Game 1</td>\n",
              "      <td>E06000001</td>\n",
              "      <td>Hartlepool</td>\n",
              "      <td>0.069</td>\n",
              "      <td>POLYGON ((448906.5049000001 536702.9926999994,...</td>\n",
              "    </tr>\n",
              "  </tbody>\n",
              "</table>\n",
              "</div>"
            ],
            "text/plain": [
              "   venueid  ...                                           geometry\n",
              "0      1.0  ...  POLYGON ((448906.5049000001 536702.9926999994,...\n",
              "1      4.0  ...  POLYGON ((448906.5049000001 536702.9926999994,...\n",
              "\n",
              "[2 rows x 7 columns]"
            ]
          },
          "metadata": {
            "tags": []
          },
          "execution_count": 13
        }
      ]
    },
    {
      "cell_type": "code",
      "metadata": {
        "id": "-QAIjPiT9oxl",
        "colab_type": "code",
        "colab": {}
      },
      "source": [
        "# Get the list of all the events\n",
        "event_list = data.eventid.unique()"
      ],
      "execution_count": 0,
      "outputs": []
    },
    {
      "cell_type": "code",
      "metadata": {
        "id": "HfRNQAkg_Qtr",
        "colab_type": "code",
        "colab": {}
      },
      "source": [
        "#Download images into google drive\n",
        "from google.colab import files"
      ],
      "execution_count": 0,
      "outputs": []
    },
    {
      "cell_type": "code",
      "metadata": {
        "id": "zLI0y8Ms9r58",
        "colab_type": "code",
        "colab": {}
      },
      "source": [
        "#def GetDataFrame(datasource):\n",
        "  # Selection event\n",
        "for e in event_list:\n",
        "    # Mergedata \n",
        "    dataevent = data[data['eventid']==e]\n",
        "    datajoin = pd.merge(dataevent,county,how='right',on=['county_id'])\n",
        "    datajoin = datajoin[['venueid','eventid','event','county_id','county_name_x','perc_spect_county','geometry']]\n",
        "    \n",
        "    # select the event name\n",
        "    eventname = datajoin['event'][0]\n",
        "    \n",
        "    # change to gdp\n",
        "    gpd_df = gpd.GeoDataFrame(datajoin, geometry='geometry', crs={'init': 'epsg:27700'})\n",
        "      \n",
        "    # If NaN -> change it to 0!   \n",
        "    values = {'venueid': 0, 'eventid':0,'perc_spect_county':0}  \n",
        "    gpd_df = gpd_df.fillna(value=values)\n",
        "      \n",
        "    # Selection the variable to plot\n",
        "    var_map = gpd_df['perc_spect_county']\n",
        "      \n",
        "    # Set the range for the choropleth\n",
        "    vmin = gpd_df['perc_spect_county'].min()\n",
        "    vmax = gpd_df['perc_spect_county'].max()\n",
        "      \n",
        "    # create figure and axes for Matplotlib\n",
        "    fig, ax = plt.subplots(1, figsize=(8, 10), dpi=160)\n",
        "   # fig, ax = plt.subplots(1, figsize=(8, 10))\n",
        " \n",
        "    # create map\n",
        "    gpd_df.plot(column=var_map, cmap='YlGn', linewidth=0.6, ax=ax, edgecolor='0.8')\n",
        "    \n",
        " #   plt.suptitle('Event Catchment Area - Spectators Homelocation', fontsize=12, horizontalalignment = 'center')\n",
        "    plt.title(str(eventname), fontsize=12, horizontalalignment='center')\n",
        "    plt.xlabel('Longitude',fontsize=12, horizontalalignment='center')\n",
        "    plt.ylabel('Latitude',fontsize=12, horizontalalignment='center')\n",
        "    plt.xticks(horizontalalignment='center', fontsize=9)\n",
        "    plt.yticks(horizontalalignment='right', fontsize=9)\n",
        "    \n",
        "    ax.tick_params(axis='both', which='major', pad=6)\n",
        "    \n",
        "    sm = plt.cm.ScalarMappable(cmap='YlGn', norm=plt.Normalize(vmin=vmin, vmax=vmax))\n",
        "    sm._A = []\n",
        "\n",
        "    cbar = fig.colorbar(sm, orientation='horizontal',fraction=0.04, pad=0.09)\n",
        "    cbar.set_label('Percentage Event Spectators ', size=11)\n",
        "    cbar.ax.xaxis.set_label_position('top')\n",
        "    cbar.ax.tick_params(labelsize=10)\n",
        "     \n",
        "    fig.tight_layout()\n",
        "    \n",
        "    plt.savefig('drive/My Drive/Dan - Meetings/Thesis Maps & Graphs/County_Home/Home_Spectators/county_map_'+str(eventname)+'.png')\n",
        "    \n",
        "    plt.close('all')\n",
        "  #  plt.show()"
      ],
      "execution_count": 0,
      "outputs": []
    },
    {
      "cell_type": "code",
      "metadata": {
        "id": "21PuNm64Lavv",
        "colab_type": "code",
        "colab": {}
      },
      "source": [
        "import os\n",
        "\n",
        "folderpath = '/content/drive/My Drive/Dan - Meetings/Thesis Maps & Graphs/County_Home/Home_Spectators'\n",
        "\n",
        "for filename in os.listdir(folderpath):\n",
        " # print(filename)\n",
        "  files.download(folderpath+'/'+str(filename))"
      ],
      "execution_count": 0,
      "outputs": []
    }
  ]
}